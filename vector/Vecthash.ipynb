{
 "cells": [
  {
   "cell_type": "code",
   "execution_count": 25,
   "id": "497a751d",
   "metadata": {},
   "outputs": [],
   "source": [
    "import subprocess\n",
    "\n",
    "MAX_CONTEXTS = 200\n",
    "SHOW_TOP_CONTEXTS = 10\n",
    "MAX_PATH_LENGTH = 8\n",
    "MAX_PATH_WIDTH = 2\n",
    "JAR_PATH = 'JavaExtractor/JPredict/target/JavaExtractor-0.0.1-SNAPSHOT.jar'\n",
    "input_filename = 'input.java'"
   ]
  },
  {
   "cell_type": "code",
   "execution_count": 29,
   "id": "e30d58a0",
   "metadata": {},
   "outputs": [
    {
     "name": "stdout",
     "output_type": "stream",
     "text": [
      "testc\n",
      "testc2\n",
      "testc3\n",
      "testc4\n"
     ]
    }
   ],
   "source": [
    "command = ['java', '-cp', JAR_PATH, 'JavaExtractor.App', '--max_path_length',\n",
    "           str(MAX_PATH_LENGTH), '--max_path_width', str(MAX_PATH_WIDTH), '--file', JAR_PATH, '--no_hash']\n",
    "print(\"testc\")\n",
    "process = subprocess.Popen(command, stdout=subprocess.PIPE, stderr=subprocess.PIPE)\n",
    "print(\"testc2\")\n",
    "out, err = process.communicate()\n",
    "print(\"testc3\")\n",
    "output = out.decode().splitlines()\n",
    "print(\"testc4\")"
   ]
  },
  {
   "cell_type": "code",
   "execution_count": 30,
   "id": "2d9f97b7",
   "metadata": {},
   "outputs": [
    {
     "name": "stdout",
     "output_type": "stream",
     "text": [
      "testerr\n"
     ]
    },
    {
     "ename": "ValueError",
     "evalue": "Exception in thread \"main\" com.github.javaparser.ParseProblemException: Encountered unexpected token: \"*\" \"*\"\n    at line 1, column 32.\n\nWas expecting one of:\n\n    <IDENTIFIER>\n\r\n\r\n\tat com.github.javaparser.JavaParser.simplifiedParse(JavaParser.java:242)\r\n\tat com.github.javaparser.JavaParser.parse(JavaParser.java:210)\r\n\tat JavaExtractor.FeatureExtractor.parseFileWithRetries(FeatureExtractor.java:70)\r\n\tat JavaExtractor.FeatureExtractor.extractFeatures(FeatureExtractor.java:40)\r\n\tat JavaExtractor.ExtractFeaturesTask.extractSingleFile(ExtractFeaturesTask.java:64)\r\n\tat JavaExtractor.ExtractFeaturesTask.processFile(ExtractFeaturesTask.java:39)\r\n\tat JavaExtractor.App.main(App.java:33)\r\n",
     "output_type": "error",
     "traceback": [
      "\u001b[1;31m---------------------------------------------------------------------------\u001b[0m",
      "\u001b[1;31mValueError\u001b[0m                                Traceback (most recent call last)",
      "\u001b[1;32m~\\AppData\\Local\\Temp/ipykernel_5804/3370620595.py\u001b[0m in \u001b[0;36m<module>\u001b[1;34m\u001b[0m\n\u001b[0;32m      2\u001b[0m     \u001b[0merr\u001b[0m \u001b[1;33m=\u001b[0m \u001b[0merr\u001b[0m\u001b[1;33m.\u001b[0m\u001b[0mdecode\u001b[0m\u001b[1;33m(\u001b[0m\u001b[1;33m)\u001b[0m\u001b[1;33m\u001b[0m\u001b[1;33m\u001b[0m\u001b[0m\n\u001b[0;32m      3\u001b[0m     \u001b[0mprint\u001b[0m\u001b[1;33m(\u001b[0m\u001b[1;34m\"testerr\"\u001b[0m\u001b[1;33m)\u001b[0m\u001b[1;33m\u001b[0m\u001b[1;33m\u001b[0m\u001b[0m\n\u001b[1;32m----> 4\u001b[1;33m     \u001b[1;32mraise\u001b[0m \u001b[0mValueError\u001b[0m\u001b[1;33m(\u001b[0m\u001b[0merr\u001b[0m\u001b[1;33m)\u001b[0m\u001b[1;33m\u001b[0m\u001b[1;33m\u001b[0m\u001b[0m\n\u001b[0m",
      "\u001b[1;31mValueError\u001b[0m: Exception in thread \"main\" com.github.javaparser.ParseProblemException: Encountered unexpected token: \"*\" \"*\"\n    at line 1, column 32.\n\nWas expecting one of:\n\n    <IDENTIFIER>\n\r\n\r\n\tat com.github.javaparser.JavaParser.simplifiedParse(JavaParser.java:242)\r\n\tat com.github.javaparser.JavaParser.parse(JavaParser.java:210)\r\n\tat JavaExtractor.FeatureExtractor.parseFileWithRetries(FeatureExtractor.java:70)\r\n\tat JavaExtractor.FeatureExtractor.extractFeatures(FeatureExtractor.java:40)\r\n\tat JavaExtractor.ExtractFeaturesTask.extractSingleFile(ExtractFeaturesTask.java:64)\r\n\tat JavaExtractor.ExtractFeaturesTask.processFile(ExtractFeaturesTask.java:39)\r\n\tat JavaExtractor.App.main(App.java:33)\r\n"
     ]
    }
   ],
   "source": [
    "if len(output) == 0:\n",
    "    err = err.decode()\n",
    "    print(\"testerr\")\n",
    "    raise ValueError(err)"
   ]
  },
  {
   "cell_type": "code",
   "execution_count": 28,
   "id": "e4ecdbc1",
   "metadata": {},
   "outputs": [
    {
     "name": "stdout",
     "output_type": "stream",
     "text": [
      "testend\n"
     ]
    }
   ],
   "source": [
    "htsd = {}\n",
    "result = []\n",
    "\n",
    "for i, line in enumerate(output):\n",
    "        parts = line.rstrip().split(' ')\n",
    "        method_name = parts[0]\n",
    "        current_result_line_parts = [method_name]\n",
    "        contexts = parts[1:]\n",
    "\n",
    "        for context in contexts[:MAX_CONTEXTS]:\n",
    "            context_parts = context.split(',')\n",
    "            context_word1 = context_parts[0]\n",
    "            context_path = context_parts[1]\n",
    "            context_word2 = context_parts[2]\n",
    "\n",
    "            h = 0\n",
    "            for c in context_path:\n",
    "                h = (31 * h + ord(c)) & 0xFFFFFFFF\n",
    "            z = ((h + 0x80000000) & 0xFFFFFFFF) - 0x80000000\n",
    "\n",
    "            hashed_path = str(z)\n",
    "            htsd[hashed_path] = context_path\n",
    "            current_result_line_parts += ['%s,%s,%s' % (context_word1, hashed_path, context_word2)]\n",
    "\n",
    "        space_padding = ' ' * (MAX_CONTEXTS - len(contexts))\n",
    "        result_line = ' '.join(current_result_line_parts) + space_padding\n",
    "        result.append(result_line)\n",
    "        print(\"testhash\")\n",
    "        print(result)\n",
    "        print(htsd)\n",
    "print(\"testend\")"
   ]
  },
  {
   "cell_type": "code",
   "execution_count": null,
   "id": "3c8153c4",
   "metadata": {},
   "outputs": [],
   "source": []
  }
 ],
 "metadata": {
  "kernelspec": {
   "display_name": "Python 3 (ipykernel)",
   "language": "python",
   "name": "python3"
  },
  "language_info": {
   "codemirror_mode": {
    "name": "ipython",
    "version": 3
   },
   "file_extension": ".py",
   "mimetype": "text/x-python",
   "name": "python",
   "nbconvert_exporter": "python",
   "pygments_lexer": "ipython3",
   "version": "3.9.7"
  }
 },
 "nbformat": 4,
 "nbformat_minor": 5
}
