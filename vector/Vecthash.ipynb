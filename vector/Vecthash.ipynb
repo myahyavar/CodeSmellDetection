{
 "cells": [
  {
   "cell_type": "code",
   "execution_count": 22,
   "id": "497a751d",
   "metadata": {},
   "outputs": [],
   "source": [
    "import subprocess\n",
    "\n",
    "MAX_CONTEXTS = 200\n",
    "SHOW_TOP_CONTEXTS = 10\n",
    "MAX_PATH_LENGTH = 8\n",
    "MAX_PATH_WIDTH = 2\n",
    "MAX_THREADS=10\n",
    "PROJ='Extractor.csproj.user'\n",
    "JAR_PATH = 'CSharpExtractor/CSharpExtractor/Extractor/bin'\n",
    "input_filename = 'input.cs'"
   ]
  },
  {
   "cell_type": "code",
   "execution_count": 27,
   "id": "e30d58a0",
   "metadata": {},
   "outputs": [
    {
     "name": "stdout",
     "output_type": "stream",
     "text": [
      "testc\n",
      "testc2\n",
      "testc3\n"
     ]
    },
    {
     "ename": "UnicodeDecodeError",
     "evalue": "'utf-8' codec can't decode byte 0x8d in position 37: invalid start byte",
     "output_type": "error",
     "traceback": [
      "\u001b[1;31m---------------------------------------------------------------------------\u001b[0m",
      "\u001b[1;31mUnicodeDecodeError\u001b[0m                        Traceback (most recent call last)",
      "\u001b[1;32m~\\AppData\\Local\\Temp/ipykernel_2964/2119832866.py\u001b[0m in \u001b[0;36m<module>\u001b[1;34m\u001b[0m\n\u001b[0;32m     10\u001b[0m \u001b[0mout\u001b[0m\u001b[1;33m,\u001b[0m \u001b[0merr\u001b[0m \u001b[1;33m=\u001b[0m \u001b[0mprocess\u001b[0m\u001b[1;33m.\u001b[0m\u001b[0mcommunicate\u001b[0m\u001b[1;33m(\u001b[0m\u001b[1;33m)\u001b[0m\u001b[1;33m\u001b[0m\u001b[1;33m\u001b[0m\u001b[0m\n\u001b[0;32m     11\u001b[0m \u001b[0mprint\u001b[0m\u001b[1;33m(\u001b[0m\u001b[1;34m\"testc3\"\u001b[0m\u001b[1;33m)\u001b[0m\u001b[1;33m\u001b[0m\u001b[1;33m\u001b[0m\u001b[0m\n\u001b[1;32m---> 12\u001b[1;33m \u001b[0moutput\u001b[0m \u001b[1;33m=\u001b[0m \u001b[0mout\u001b[0m\u001b[1;33m.\u001b[0m\u001b[0mdecode\u001b[0m\u001b[1;33m(\u001b[0m\u001b[1;33m)\u001b[0m\u001b[1;33m.\u001b[0m\u001b[0msplitlines\u001b[0m\u001b[1;33m(\u001b[0m\u001b[1;33m)\u001b[0m\u001b[1;33m\u001b[0m\u001b[1;33m\u001b[0m\u001b[0m\n\u001b[0m\u001b[0;32m     13\u001b[0m \u001b[0mprint\u001b[0m\u001b[1;33m(\u001b[0m\u001b[1;34m\"testc4\"\u001b[0m\u001b[1;33m)\u001b[0m\u001b[1;33m\u001b[0m\u001b[1;33m\u001b[0m\u001b[0m\n",
      "\u001b[1;31mUnicodeDecodeError\u001b[0m: 'utf-8' codec can't decode byte 0x8d in position 37: invalid start byte"
     ]
    }
   ],
   "source": [
    "#command = ['java', '-cp', JAR_PATH, 'JavaExtractor.App', '--max_path_length',\n",
    " #          str(MAX_PATH_LENGTH), '--max_path_width', str(MAX_PATH_WIDTH), '--file', JAR_PATH, '--no_hash']\n",
    "command = ['dotnet', 'run', '--project', PROJ,\n",
    "               '--max_length', str(MAX_PATH_LENGTH), '--max_width', str(MAX_PATH_WIDTH),\n",
    "               '--path', JAR_PATH, '--threads', str(MAX_THREADS), '--ofile_name', str(input_filename)]\n",
    "\n",
    "print(\"testc\")\n",
    "process = subprocess.Popen(command, stdout=subprocess.PIPE, stderr=subprocess.PIPE)\n",
    "print(\"testc2\")\n",
    "out, err = process.communicate()\n",
    "print(\"testc3\")\n",
    "output = out.decode().splitlines()\n",
    "print(\"testc4\")"
   ]
  },
  {
   "cell_type": "code",
   "execution_count": 28,
   "id": "2d9f97b7",
   "metadata": {},
   "outputs": [
    {
     "ename": "UnicodeDecodeError",
     "evalue": "'utf-8' codec can't decode byte 0x9f in position 12: invalid start byte",
     "output_type": "error",
     "traceback": [
      "\u001b[1;31m---------------------------------------------------------------------------\u001b[0m",
      "\u001b[1;31mUnicodeDecodeError\u001b[0m                        Traceback (most recent call last)",
      "\u001b[1;32m~\\AppData\\Local\\Temp/ipykernel_2964/3370620595.py\u001b[0m in \u001b[0;36m<module>\u001b[1;34m\u001b[0m\n\u001b[0;32m      1\u001b[0m \u001b[1;32mif\u001b[0m \u001b[0mlen\u001b[0m\u001b[1;33m(\u001b[0m\u001b[0moutput\u001b[0m\u001b[1;33m)\u001b[0m \u001b[1;33m==\u001b[0m \u001b[1;36m0\u001b[0m\u001b[1;33m:\u001b[0m\u001b[1;33m\u001b[0m\u001b[1;33m\u001b[0m\u001b[0m\n\u001b[1;32m----> 2\u001b[1;33m     \u001b[0merr\u001b[0m \u001b[1;33m=\u001b[0m \u001b[0merr\u001b[0m\u001b[1;33m.\u001b[0m\u001b[0mdecode\u001b[0m\u001b[1;33m(\u001b[0m\u001b[1;33m)\u001b[0m\u001b[1;33m\u001b[0m\u001b[1;33m\u001b[0m\u001b[0m\n\u001b[0m\u001b[0;32m      3\u001b[0m     \u001b[0mprint\u001b[0m\u001b[1;33m(\u001b[0m\u001b[1;34m\"testerr\"\u001b[0m\u001b[1;33m)\u001b[0m\u001b[1;33m\u001b[0m\u001b[1;33m\u001b[0m\u001b[0m\n\u001b[0;32m      4\u001b[0m     \u001b[1;32mraise\u001b[0m \u001b[0mValueError\u001b[0m\u001b[1;33m(\u001b[0m\u001b[0merr\u001b[0m\u001b[1;33m)\u001b[0m\u001b[1;33m\u001b[0m\u001b[1;33m\u001b[0m\u001b[0m\n",
      "\u001b[1;31mUnicodeDecodeError\u001b[0m: 'utf-8' codec can't decode byte 0x9f in position 12: invalid start byte"
     ]
    }
   ],
   "source": [
    "if len(output) == 0:\n",
    "    err = err.decode()\n",
    "    print(\"testerr\")\n",
    "    raise ValueError(err)"
   ]
  },
  {
   "cell_type": "code",
   "execution_count": 17,
   "id": "e4ecdbc1",
   "metadata": {},
   "outputs": [
    {
     "name": "stdout",
     "output_type": "stream",
     "text": [
      "testend\n"
     ]
    }
   ],
   "source": [
    "htsd = {}\n",
    "result = []\n",
    "\n",
    "for i, line in enumerate(output):\n",
    "        parts = line.rstrip().split(' ')\n",
    "        method_name = parts[0]\n",
    "        current_result_line_parts = [method_name]\n",
    "        contexts = parts[1:]\n",
    "\n",
    "        for context in contexts[:MAX_CONTEXTS]:\n",
    "            context_parts = context.split(',')\n",
    "            context_word1 = context_parts[0]\n",
    "            context_path = context_parts[1]\n",
    "            context_word2 = context_parts[2]\n",
    "\n",
    "            h = 0\n",
    "            for c in context_path:\n",
    "                h = (31 * h + ord(c)) & 0xFFFFFFFF\n",
    "            z = ((h + 0x80000000) & 0xFFFFFFFF) - 0x80000000\n",
    "\n",
    "            hashed_path = str(z)\n",
    "            htsd[hashed_path] = context_path\n",
    "            current_result_line_parts += ['%s,%s,%s' % (context_word1, hashed_path, context_word2)]\n",
    "\n",
    "        space_padding = ' ' * (MAX_CONTEXTS - len(contexts))\n",
    "        result_line = ' '.join(current_result_line_parts) + space_padding\n",
    "        result.append(result_line)\n",
    "        print(\"testhash\")\n",
    "        print(result)\n",
    "        print(htsd)\n",
    "print(\"testend\")"
   ]
  },
  {
   "cell_type": "code",
   "execution_count": null,
   "id": "3c8153c4",
   "metadata": {},
   "outputs": [],
   "source": []
  }
 ],
 "metadata": {
  "kernelspec": {
   "display_name": "Python 3 (ipykernel)",
   "language": "python",
   "name": "python3"
  },
  "language_info": {
   "codemirror_mode": {
    "name": "ipython",
    "version": 3
   },
   "file_extension": ".py",
   "mimetype": "text/x-python",
   "name": "python",
   "nbconvert_exporter": "python",
   "pygments_lexer": "ipython3",
   "version": "3.9.7"
  }
 },
 "nbformat": 4,
 "nbformat_minor": 5
}
