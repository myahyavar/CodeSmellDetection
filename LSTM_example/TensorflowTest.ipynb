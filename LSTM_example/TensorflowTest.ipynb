{
 "cells": [
  {
   "cell_type": "code",
   "execution_count": 2,
   "id": "86722e49",
   "metadata": {},
   "outputs": [],
   "source": [
    "import numpy as np\n",
    "import pandas as pd\n",
    "import tensorflow as tf\n",
    "from tensorflow import keras\n",
    "from keras import layers\n",
    "from sklearn.model_selection import train_test_split\n",
    "import os\n",
    "import datetime\n",
    "import matplotlib.pyplot as plt"
   ]
  },
  {
   "cell_type": "code",
   "execution_count": 3,
   "id": "1abea205",
   "metadata": {},
   "outputs": [
    {
     "data": {
      "text/html": [
       "<div>\n",
       "<style scoped>\n",
       "    .dataframe tbody tr th:only-of-type {\n",
       "        vertical-align: middle;\n",
       "    }\n",
       "\n",
       "    .dataframe tbody tr th {\n",
       "        vertical-align: top;\n",
       "    }\n",
       "\n",
       "    .dataframe thead th {\n",
       "        text-align: right;\n",
       "    }\n",
       "</style>\n",
       "<table border=\"1\" class=\"dataframe\">\n",
       "  <thead>\n",
       "    <tr style=\"text-align: right;\">\n",
       "      <th></th>\n",
       "      <th>What do you want to know about GCSE Computer Science?</th>\n",
       "      <th>Section</th>\n",
       "    </tr>\n",
       "  </thead>\n",
       "  <tbody>\n",
       "    <tr>\n",
       "      <th>0</th>\n",
       "      <td>a lot of coding knowing components and etc</td>\n",
       "      <td>2c</td>\n",
       "    </tr>\n",
       "    <tr>\n",
       "      <th>1</th>\n",
       "      <td>Advanced Coding</td>\n",
       "      <td>2c</td>\n",
       "    </tr>\n",
       "    <tr>\n",
       "      <th>2</th>\n",
       "      <td>Do we do use python or repl.it for coding</td>\n",
       "      <td>2d</td>\n",
       "    </tr>\n",
       "    <tr>\n",
       "      <th>3</th>\n",
       "      <td>Do we get to programme bots and stuff like that.</td>\n",
       "      <td>2d</td>\n",
       "    </tr>\n",
       "    <tr>\n",
       "      <th>4</th>\n",
       "      <td>do we go through the things we did in year 7 a...</td>\n",
       "      <td>2e</td>\n",
       "    </tr>\n",
       "    <tr>\n",
       "      <th>...</th>\n",
       "      <td>...</td>\n",
       "      <td>...</td>\n",
       "    </tr>\n",
       "    <tr>\n",
       "      <th>126</th>\n",
       "      <td>Will the course involve programmings. if yes, ...</td>\n",
       "      <td>2c</td>\n",
       "    </tr>\n",
       "    <tr>\n",
       "      <th>127</th>\n",
       "      <td>Will we be able to create our own apps?</td>\n",
       "      <td>2d</td>\n",
       "    </tr>\n",
       "    <tr>\n",
       "      <th>128</th>\n",
       "      <td>Will we learn about how people steal passwords...</td>\n",
       "      <td>2a</td>\n",
       "    </tr>\n",
       "    <tr>\n",
       "      <th>129</th>\n",
       "      <td>Would there be things in Computer science and ...</td>\n",
       "      <td>5b</td>\n",
       "    </tr>\n",
       "    <tr>\n",
       "      <th>130</th>\n",
       "      <td>Do we learn about databases?</td>\n",
       "      <td>2a</td>\n",
       "    </tr>\n",
       "  </tbody>\n",
       "</table>\n",
       "<p>131 rows × 2 columns</p>\n",
       "</div>"
      ],
      "text/plain": [
       "    What do you want to know about GCSE Computer Science? Section\n",
       "0           a lot of coding knowing components and etc         2c\n",
       "1                                      Advanced Coding         2c\n",
       "2            Do we do use python or repl.it for coding         2d\n",
       "3     Do we get to programme bots and stuff like that.         2d\n",
       "4    do we go through the things we did in year 7 a...         2e\n",
       "..                                                 ...        ...\n",
       "126  Will the course involve programmings. if yes, ...         2c\n",
       "127            Will we be able to create our own apps?         2d\n",
       "128  Will we learn about how people steal passwords...         2a\n",
       "129  Would there be things in Computer science and ...         5b\n",
       "130                       Do we learn about databases?         2a\n",
       "\n",
       "[131 rows x 2 columns]"
      ]
     },
     "execution_count": 3,
     "metadata": {},
     "output_type": "execute_result"
    }
   ],
   "source": [
    "df = pd.read_csv('questions_processed.csv')\n",
    "df\n"
   ]
  },
  {
   "cell_type": "code",
   "execution_count": 4,
   "id": "87f92fe8",
   "metadata": {},
   "outputs": [
    {
     "data": {
      "text/plain": [
       "array([['a lot of coding knowing components and etc'],\n",
       "       ['Advanced Coding'],\n",
       "       ['Do we do use python or repl.it for coding'],\n",
       "       ['Do we get to programme bots and stuff like that.'],\n",
       "       ['do we go through the things we did in year 7 and 8'],\n",
       "       [\"Do we revise everything we've done in year 7 to 9 during GCSE?\"]],\n",
       "      dtype=object)"
      ]
     },
     "execution_count": 4,
     "metadata": {},
     "output_type": "execute_result"
    }
   ],
   "source": [
    "training_data = df[df.columns[0]].to_numpy()\n",
    "training_data = np.reshape(training_data,(-1,1))\n",
    "training_data[:6]"
   ]
  },
  {
   "cell_type": "code",
   "execution_count": 5,
   "id": "b32b127f",
   "metadata": {},
   "outputs": [
    {
     "name": "stdout",
     "output_type": "stream",
     "text": [
      "tf.Tensor(\n",
      "[[ 28  56  10 ...   0   0   0]\n",
      " [293  21   0 ...   0   0   0]\n",
      " [ 11   4  11 ...   0   0   0]\n",
      " ...\n",
      " [  6   4  25 ...   0   0   0]\n",
      " [ 31  27  16 ...   0   0   0]\n",
      " [ 11   4  25 ...   0   0   0]], shape=(131, 28), dtype=int64)\n"
     ]
    }
   ],
   "source": [
    "vectorizer = layers.TextVectorization(output_mode=\"int\")\n",
    "vectorizer.adapt(training_data)\n",
    "integer_data = vectorizer(training_data)\n",
    "print(integer_data)\n"
   ]
  },
  {
   "cell_type": "code",
   "execution_count": 6,
   "id": "a4314e8e",
   "metadata": {},
   "outputs": [],
   "source": [
    "labels = df[df.columns[1]]\n",
    "y = np.argmax(pd.get_dummies(labels).to_numpy(), axis=1)\n",
    "X_train, X_test, y_train, y_test = train_test_split(training_data, y, test_size=0.20, random_state=42, stratify=y)\n"
   ]
  },
  {
   "cell_type": "code",
   "execution_count": 7,
   "id": "8280f393",
   "metadata": {},
   "outputs": [
    {
     "name": "stdout",
     "output_type": "stream",
     "text": [
      "Model: \"model\"\n",
      "_________________________________________________________________\n",
      " Layer (type)                Output Shape              Param #   \n",
      "=================================================================\n",
      " text (InputLayer)           [(None, 1)]               0         \n",
      "                                                                 \n",
      " text_vectorization (TextVec  (None, None)             0         \n",
      " torization)                                                     \n",
      "                                                                 \n",
      " embedding (Embedding)       (None, None, 30)          600030    \n",
      "                                                                 \n",
      " gru (GRU)                   (None, 10)                1260      \n",
      "                                                                 \n",
      " dense (Dense)               (None, 20)                220       \n",
      "                                                                 \n",
      " dropout (Dropout)           (None, 20)                0         \n",
      "                                                                 \n",
      " predictions (Dense)         (None, 10)                210       \n",
      "                                                                 \n",
      "=================================================================\n",
      "Total params: 601,720\n",
      "Trainable params: 601,720\n",
      "Non-trainable params: 0\n",
      "_________________________________________________________________\n"
     ]
    }
   ],
   "source": [
    "max_features = 20000\n",
    "embedding_dim = 30\n",
    "\n",
    "inputs = tf.keras.Input(shape=(1,), dtype=tf.string, name='text')\n",
    "x = vectorizer(inputs)\n",
    "x = layers.Embedding(max_features + 1, embedding_dim)(x)\n",
    "\n",
    "#x = layers.LSTM(10, dropout=0.2, recurrent_dropout=0.2)(x)\n",
    "x = tf.keras.layers.GRU(10)(x)\n",
    "\n",
    "x = layers.Dense(20, activation=\"relu\")(x)\n",
    "x = layers.Dropout(0.3)(x)\n",
    "num_classes = 10\n",
    "outputs = layers.Dense(num_classes, activation=\"softmax\", name=\"predictions\")(x)\n",
    "\n",
    "model = tf.keras.Model(inputs, outputs)\n",
    "model.compile(\n",
    "    optimizer=\"adam\",\n",
    "    loss=\"sparse_categorical_crossentropy\",\n",
    "    metrics=[keras.metrics.SparseCategoricalAccuracy(name=\"acc\")]\n",
    ")\n",
    "\n",
    "model.summary()"
   ]
  },
  {
   "cell_type": "code",
   "execution_count": 8,
   "id": "cc19042c",
   "metadata": {},
   "outputs": [
    {
     "name": "stdout",
     "output_type": "stream",
     "text": [
      "Epoch 1/10\n",
      "3/3 [==============================] - 7s 584ms/step - loss: 2.3066 - acc: 0.0602 - val_loss: 2.3002 - val_acc: 0.1429\n",
      "Epoch 2/10\n",
      "3/3 [==============================] - 0s 43ms/step - loss: 2.2988 - acc: 0.2289 - val_loss: 2.2934 - val_acc: 0.1905\n",
      "Epoch 3/10\n",
      "3/3 [==============================] - 0s 42ms/step - loss: 2.2933 - acc: 0.1928 - val_loss: 2.2864 - val_acc: 0.6190\n",
      "Epoch 4/10\n",
      "3/3 [==============================] - 0s 44ms/step - loss: 2.2897 - acc: 0.2169 - val_loss: 2.2782 - val_acc: 0.6190\n",
      "Epoch 5/10\n",
      "3/3 [==============================] - 0s 43ms/step - loss: 2.2780 - acc: 0.4337 - val_loss: 2.2694 - val_acc: 0.6190\n",
      "Epoch 6/10\n",
      "3/3 [==============================] - 0s 43ms/step - loss: 2.2703 - acc: 0.4578 - val_loss: 2.2606 - val_acc: 0.6190\n",
      "Epoch 7/10\n",
      "3/3 [==============================] - 0s 42ms/step - loss: 2.2691 - acc: 0.3855 - val_loss: 2.2507 - val_acc: 0.6190\n",
      "Epoch 8/10\n",
      "3/3 [==============================] - 0s 42ms/step - loss: 2.2504 - acc: 0.3373 - val_loss: 2.2397 - val_acc: 0.6190\n",
      "Epoch 9/10\n",
      "3/3 [==============================] - 0s 39ms/step - loss: 2.2486 - acc: 0.3373 - val_loss: 2.2267 - val_acc: 0.6190\n",
      "Epoch 10/10\n",
      "3/3 [==============================] - 0s 42ms/step - loss: 2.2395 - acc: 0.3373 - val_loss: 2.2106 - val_acc: 0.6190\n"
     ]
    }
   ],
   "source": [
    "logdir = os.path.join(\"logs\", datetime.datetime.now().strftime(\"%Y%m%d-%H%M%S\"))\n",
    "callbacks = [\n",
    "    keras.callbacks.TensorBoard(logdir)\n",
    "]\n",
    "history = model.fit(X_train, y_train, epochs=10, batch_size=32, validation_split=0.2, callbacks=callbacks)"
   ]
  },
  {
   "cell_type": "code",
   "execution_count": 9,
   "id": "20c198d5",
   "metadata": {},
   "outputs": [
    {
     "name": "stdout",
     "output_type": "stream",
     "text": [
      "The tensorboard extension is already loaded. To reload it, use:\n",
      "  %reload_ext tensorboard\n"
     ]
    },
    {
     "data": {
      "text/plain": [
       "Reusing TensorBoard on port 6006 (pid 10448), started 0:01:08 ago. (Use '!kill 10448' to kill it.)"
      ]
     },
     "metadata": {},
     "output_type": "display_data"
    },
    {
     "data": {
      "text/html": [
       "\n",
       "      <iframe id=\"tensorboard-frame-e3c127ffa657417b\" width=\"100%\" height=\"800\" frameborder=\"0\">\n",
       "      </iframe>\n",
       "      <script>\n",
       "        (function() {\n",
       "          const frame = document.getElementById(\"tensorboard-frame-e3c127ffa657417b\");\n",
       "          const url = new URL(\"/\", window.location);\n",
       "          const port = 6006;\n",
       "          if (port) {\n",
       "            url.port = port;\n",
       "          }\n",
       "          frame.src = url;\n",
       "        })();\n",
       "      </script>\n",
       "    "
      ],
      "text/plain": [
       "<IPython.core.display.HTML object>"
      ]
     },
     "metadata": {},
     "output_type": "display_data"
    }
   ],
   "source": [
    "%load_ext tensorboard\n",
    "%tensorboard --logdir logs"
   ]
  },
  {
   "cell_type": "code",
   "execution_count": 10,
   "id": "710afcfe",
   "metadata": {},
   "outputs": [
    {
     "name": "stdout",
     "output_type": "stream",
     "text": [
      "1/1 [==============================] - 0s 33ms/step - loss: 2.2296 - acc: 0.5185\n"
     ]
    },
    {
     "data": {
      "text/plain": [
       "[2.2296175956726074, 0.5185185074806213]"
      ]
     },
     "execution_count": 10,
     "metadata": {},
     "output_type": "execute_result"
    }
   ],
   "source": [
    "model.evaluate(X_test,y_test)\n"
   ]
  },
  {
   "cell_type": "code",
   "execution_count": 12,
   "id": "7a304cea",
   "metadata": {},
   "outputs": [
    {
     "name": "stdout",
     "output_type": "stream",
     "text": [
      "1/1 [==============================] - 0s 28ms/step\n",
      "(27, 10)\n"
     ]
    }
   ],
   "source": [
    "predictions = model.predict(X_test)\n",
    "print(predictions.shape)"
   ]
  },
  {
   "cell_type": "code",
   "execution_count": 13,
   "id": "f8ac638b",
   "metadata": {},
   "outputs": [
    {
     "data": {
      "image/png": "[encoded data removed]",
      "text/plain": [
       "<Figure size 432x288 with 1 Axes>"
      ]
     },
     "metadata": {
      "needs_background": "light"
     },
     "output_type": "display_data"
    }
   ],
   "source": [
    "plt.title('Loss (Recurrent)')\n",
    "plt.plot(history.history['loss'], label='train')\n",
    "plt.plot(history.history['val_loss'], label='test')\n",
    "plt.legend()\n",
    "plt.show()"
   ]
  },
  {
   "cell_type": "code",
   "execution_count": null,
   "id": "fd465f19",
   "metadata": {},
   "outputs": [],
   "source": []
  }
 ],
 "metadata": {
  "kernelspec": {
   "display_name": "Python 3 (ipykernel)",
   "language": "python",
   "name": "python3"
  },
  "language_info": {
   "codemirror_mode": {
    "name": "ipython",
    "version": 3
   },
   "file_extension": ".py",
   "mimetype": "text/x-python",
   "name": "python",
   "nbconvert_exporter": "python",
   "pygments_lexer": "ipython3",
   "version": "3.9.7"
  }
 },
 "nbformat": 4,
 "nbformat_minor": 5
}
