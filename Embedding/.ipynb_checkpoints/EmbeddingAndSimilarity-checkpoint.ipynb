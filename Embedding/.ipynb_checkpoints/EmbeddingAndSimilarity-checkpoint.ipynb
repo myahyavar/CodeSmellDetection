{
 "cells": [
  {
   "cell_type": "code",
   "execution_count": 2,
   "id": "c57fcdf7",
   "metadata": {},
   "outputs": [
    {
     "data": {
      "text/html": [
       "<div>\n",
       "<style scoped>\n",
       "    .dataframe tbody tr th:only-of-type {\n",
       "        vertical-align: middle;\n",
       "    }\n",
       "\n",
       "    .dataframe tbody tr th {\n",
       "        vertical-align: top;\n",
       "    }\n",
       "\n",
       "    .dataframe thead th {\n",
       "        text-align: right;\n",
       "    }\n",
       "</style>\n",
       "<table border=\"1\" class=\"dataframe\">\n",
       "  <thead>\n",
       "    <tr style=\"text-align: right;\">\n",
       "      <th></th>\n",
       "      <th>AST</th>\n",
       "    </tr>\n",
       "  </thead>\n",
       "  <tbody>\n",
       "    <tr>\n",
       "      <th>0</th>\n",
       "      <td>\\n\\t18 ClassDeclaration\\n\\t\\t18 BaseList\\n\\t\\t...</td>\n",
       "    </tr>\n",
       "    <tr>\n",
       "      <th>1</th>\n",
       "      <td>\\n\\t\\t25 FieldDeclaration\\n\\t\\t\\t25 VariableDe...</td>\n",
       "    </tr>\n",
       "    <tr>\n",
       "      <th>2</th>\n",
       "      <td>\\n\\t\\t\\t\\t\\t\\t74 LocalDeclarationStatement\\n\\t...</td>\n",
       "    </tr>\n",
       "    <tr>\n",
       "      <th>3</th>\n",
       "      <td>\\n\\t16 ClassDeclaration\\n\\t\\t16 BaseList\\n\\t\\t...</td>\n",
       "    </tr>\n",
       "    <tr>\n",
       "      <th>4</th>\n",
       "      <td>\\n\\t\\t19 FieldDeclaration\\n\\t\\t\\t19 VariableDe...</td>\n",
       "    </tr>\n",
       "    <tr>\n",
       "      <th>5</th>\n",
       "      <td>\\n\\t9 ClassDeclaration\\n\\t\\t9 BaseList\\n\\t\\t\\t...</td>\n",
       "    </tr>\n",
       "    <tr>\n",
       "      <th>6</th>\n",
       "      <td>\\n\\t5 ClassDeclaration\\n\\t\\t5 BaseList\\n\\t\\t\\t...</td>\n",
       "    </tr>\n",
       "    <tr>\n",
       "      <th>7</th>\n",
       "      <td>\\n\\t10 ClassDeclaration\\n\\t\\t10 BaseList\\n\\t\\t...</td>\n",
       "    </tr>\n",
       "    <tr>\n",
       "      <th>8</th>\n",
       "      <td>\\n\\t9 ClassDeclaration\\n\\t\\t9 BaseList\\n\\t\\t\\t...</td>\n",
       "    </tr>\n",
       "    <tr>\n",
       "      <th>9</th>\n",
       "      <td>\\n\\t\\t71 MethodDeclaration\\n\\t\\t\\t71 Predefine...</td>\n",
       "    </tr>\n",
       "    <tr>\n",
       "      <th>10</th>\n",
       "      <td>\\n\\t7 ClassDeclaration\\n\\t\\t7 BaseList\\n\\t\\t\\t...</td>\n",
       "    </tr>\n",
       "    <tr>\n",
       "      <th>11</th>\n",
       "      <td>\\n\\t6 ClassDeclaration\\n\\t\\t6 BaseList\\n\\t\\t\\t...</td>\n",
       "    </tr>\n",
       "  </tbody>\n",
       "</table>\n",
       "</div>"
      ],
      "text/plain": [
       "                                                  AST\n",
       "0   \\n\\t18 ClassDeclaration\\n\\t\\t18 BaseList\\n\\t\\t...\n",
       "1   \\n\\t\\t25 FieldDeclaration\\n\\t\\t\\t25 VariableDe...\n",
       "2   \\n\\t\\t\\t\\t\\t\\t74 LocalDeclarationStatement\\n\\t...\n",
       "3   \\n\\t16 ClassDeclaration\\n\\t\\t16 BaseList\\n\\t\\t...\n",
       "4   \\n\\t\\t19 FieldDeclaration\\n\\t\\t\\t19 VariableDe...\n",
       "5   \\n\\t9 ClassDeclaration\\n\\t\\t9 BaseList\\n\\t\\t\\t...\n",
       "6   \\n\\t5 ClassDeclaration\\n\\t\\t5 BaseList\\n\\t\\t\\t...\n",
       "7   \\n\\t10 ClassDeclaration\\n\\t\\t10 BaseList\\n\\t\\t...\n",
       "8   \\n\\t9 ClassDeclaration\\n\\t\\t9 BaseList\\n\\t\\t\\t...\n",
       "9   \\n\\t\\t71 MethodDeclaration\\n\\t\\t\\t71 Predefine...\n",
       "10  \\n\\t7 ClassDeclaration\\n\\t\\t7 BaseList\\n\\t\\t\\t...\n",
       "11  \\n\\t6 ClassDeclaration\\n\\t\\t6 BaseList\\n\\t\\t\\t..."
      ]
     },
     "execution_count": 2,
     "metadata": {},
     "output_type": "execute_result"
    }
   ],
   "source": [
    "import pandas as pd\n",
    "\n",
    "df = pd.read_csv('parsed_smell_modified.csv', delimiter='\\t', header=None, names=['AST'])\n",
    "df"
   ]
  },
  {
   "cell_type": "code",
   "execution_count": 3,
   "id": "9634cc01",
   "metadata": {},
   "outputs": [],
   "source": [
    "ast_list = df['AST'].tolist()\n",
    "preprocessed_ast_list = [ast.strip() for ast in ast_list]"
   ]
  },
  {
   "cell_type": "code",
   "execution_count": 4,
   "id": "04988410",
   "metadata": {},
   "outputs": [],
   "source": [
    "from sentence_transformers import SentenceTransformer, util\n",
    "import torch\n"
   ]
  },
  {
   "cell_type": "code",
   "execution_count": 5,
   "id": "84c2cce0",
   "metadata": {},
   "outputs": [
    {
     "data": {
      "application/vnd.jupyter.widget-view+json": {
       "model_id": "bfc174216428429c90621d033dd6fbc9",
       "version_major": 2,
       "version_minor": 0
      },
      "text/plain": [
       "Downloading (…)821d1/.gitattributes:   0%|          | 0.00/391 [00:00<?, ?B/s]"
      ]
     },
     "metadata": {},
     "output_type": "display_data"
    },
    {
     "data": {
      "application/vnd.jupyter.widget-view+json": {
       "model_id": "c0c379df1fa34b3fb3a56e740a67739e",
       "version_major": 2,
       "version_minor": 0
      },
      "text/plain": [
       "Downloading (…)_Pooling/config.json:   0%|          | 0.00/190 [00:00<?, ?B/s]"
      ]
     },
     "metadata": {},
     "output_type": "display_data"
    },
    {
     "data": {
      "application/vnd.jupyter.widget-view+json": {
       "model_id": "8e84c7b7089b458894fe5305d5e30af8",
       "version_major": 2,
       "version_minor": 0
      },
      "text/plain": [
       "Downloading (…)8d01e821d1/README.md:   0%|          | 0.00/3.95k [00:00<?, ?B/s]"
      ]
     },
     "metadata": {},
     "output_type": "display_data"
    },
    {
     "data": {
      "application/vnd.jupyter.widget-view+json": {
       "model_id": "887b7ea4da4f425c988a6a976ec49fef",
       "version_major": 2,
       "version_minor": 0
      },
      "text/plain": [
       "Downloading (…)d1/added_tokens.json:   0%|          | 0.00/2.00 [00:00<?, ?B/s]"
      ]
     },
     "metadata": {},
     "output_type": "display_data"
    },
    {
     "data": {
      "application/vnd.jupyter.widget-view+json": {
       "model_id": "72c4fea4c83e457994766ae473bd36c7",
       "version_major": 2,
       "version_minor": 0
      },
      "text/plain": [
       "Downloading (…)01e821d1/config.json:   0%|          | 0.00/625 [00:00<?, ?B/s]"
      ]
     },
     "metadata": {},
     "output_type": "display_data"
    },
    {
     "data": {
      "application/vnd.jupyter.widget-view+json": {
       "model_id": "3a53360e4ba64faa90abe7880116ee12",
       "version_major": 2,
       "version_minor": 0
      },
      "text/plain": [
       "Downloading (…)ce_transformers.json:   0%|          | 0.00/122 [00:00<?, ?B/s]"
      ]
     },
     "metadata": {},
     "output_type": "display_data"
    },
    {
     "data": {
      "application/vnd.jupyter.widget-view+json": {
       "model_id": "e4d1305d86304cf285eacda9ac7d284a",
       "version_major": 2,
       "version_minor": 0
      },
      "text/plain": [
       "Downloading pytorch_model.bin:   0%|          | 0.00/438M [00:00<?, ?B/s]"
      ]
     },
     "metadata": {},
     "output_type": "display_data"
    },
    {
     "data": {
      "application/vnd.jupyter.widget-view+json": {
       "model_id": "713e3b8cf728484db121d8995c2d7bb9",
       "version_major": 2,
       "version_minor": 0
      },
      "text/plain": [
       "Downloading (…)nce_bert_config.json:   0%|          | 0.00/53.0 [00:00<?, ?B/s]"
      ]
     },
     "metadata": {},
     "output_type": "display_data"
    },
    {
     "data": {
      "application/vnd.jupyter.widget-view+json": {
       "model_id": "1c743f0b4d084e3f93bec111ea1e358b",
       "version_major": 2,
       "version_minor": 0
      },
      "text/plain": [
       "Downloading (…)cial_tokens_map.json:   0%|          | 0.00/112 [00:00<?, ?B/s]"
      ]
     },
     "metadata": {},
     "output_type": "display_data"
    },
    {
     "data": {
      "application/vnd.jupyter.widget-view+json": {
       "model_id": "14e635e4063c4d1bab23420d7df3f6c2",
       "version_major": 2,
       "version_minor": 0
      },
      "text/plain": [
       "Downloading (…)821d1/tokenizer.json:   0%|          | 0.00/466k [00:00<?, ?B/s]"
      ]
     },
     "metadata": {},
     "output_type": "display_data"
    },
    {
     "data": {
      "application/vnd.jupyter.widget-view+json": {
       "model_id": "8d691c31d3da497983695ac79579c669",
       "version_major": 2,
       "version_minor": 0
      },
      "text/plain": [
       "Downloading (…)okenizer_config.json:   0%|          | 0.00/399 [00:00<?, ?B/s]"
      ]
     },
     "metadata": {},
     "output_type": "display_data"
    },
    {
     "data": {
      "application/vnd.jupyter.widget-view+json": {
       "model_id": "eaadd769210140758d295f35c18b97d9",
       "version_major": 2,
       "version_minor": 0
      },
      "text/plain": [
       "Downloading (…)8d01e821d1/vocab.txt:   0%|          | 0.00/232k [00:00<?, ?B/s]"
      ]
     },
     "metadata": {},
     "output_type": "display_data"
    },
    {
     "data": {
      "application/vnd.jupyter.widget-view+json": {
       "model_id": "ef89b0bd82e44badbf09e672dc289766",
       "version_major": 2,
       "version_minor": 0
      },
      "text/plain": [
       "Downloading (…)1e821d1/modules.json:   0%|          | 0.00/229 [00:00<?, ?B/s]"
      ]
     },
     "metadata": {},
     "output_type": "display_data"
    }
   ],
   "source": [
    "model = SentenceTransformer('bert-base-nli-mean-tokens')\n"
   ]
  },
  {
   "cell_type": "code",
   "execution_count": 19,
   "id": "83f5adff",
   "metadata": {},
   "outputs": [],
   "source": [
    "ast_embeddings = model.encode(preprocessed_ast_list, convert_to_tensor=True)\n",
    "save_path = 'smell_embeddings.pt'\n",
    "torch.save(ast_embeddings, save_path)\n"
   ]
  },
  {
   "cell_type": "code",
   "execution_count": 20,
   "id": "6b6b0251",
   "metadata": {},
   "outputs": [
    {
     "name": "stdout",
     "output_type": "stream",
     "text": [
      "Similarity score between AST 1 and AST 2: tensor([[0.6013]])\n"
     ]
    }
   ],
   "source": [
    "# Example: Compute similarity between the first and second ASTs\n",
    "similarity_score = util.cos_sim(ast_embeddings[5], ast_embeddings[6])\n",
    "print(f\"Similarity score between AST 1 and AST 2: {similarity_score}\")"
   ]
  },
  {
   "cell_type": "code",
   "execution_count": 21,
   "id": "af2886c6",
   "metadata": {},
   "outputs": [
    {
     "data": {
      "text/plain": [
       "tensor([[ 0.4638,  0.3191,  0.7921,  ..., -0.0659, -0.2816,  0.6963],\n",
       "        [ 0.0926,  0.5083,  0.9185,  ..., -0.1827,  0.0795,  0.4161],\n",
       "        [ 0.2241,  1.0168,  0.7901,  ..., -0.3247,  0.1725,  0.7422],\n",
       "        ...,\n",
       "        [-0.1271, -0.0163,  1.3953,  ...,  0.5078,  0.5184,  0.3541],\n",
       "        [ 0.2302,  0.3993,  0.9749,  ...,  0.3447,  0.0226,  0.6023],\n",
       "        [ 0.7159,  0.4329,  0.8341,  ..., -0.0839, -0.2249,  0.2414]])"
      ]
     },
     "execution_count": 21,
     "metadata": {},
     "output_type": "execute_result"
    }
   ],
   "source": [
    "loaded_ast_embeddings = torch.load(save_path)\n",
    "loaded_ast_embeddings "
   ]
  },
  {
   "cell_type": "code",
   "execution_count": 22,
   "id": "f6dcbb69",
   "metadata": {},
   "outputs": [
    {
     "name": "stdout",
     "output_type": "stream",
     "text": [
      "Number of saved embeddings: 12\n"
     ]
    }
   ],
   "source": [
    "num_embeddings = loaded_ast_embeddings.shape[0]\n",
    "print(f\"Number of saved embeddings: {num_embeddings}\")"
   ]
  },
  {
   "cell_type": "code",
   "execution_count": null,
   "id": "16fa31a6",
   "metadata": {},
   "outputs": [],
   "source": []
  }
 ],
 "metadata": {
  "kernelspec": {
   "display_name": "Python 3 (ipykernel)",
   "language": "python",
   "name": "python3"
  },
  "language_info": {
   "codemirror_mode": {
    "name": "ipython",
    "version": 3
   },
   "file_extension": ".py",
   "mimetype": "text/x-python",
   "name": "python",
   "nbconvert_exporter": "python",
   "pygments_lexer": "ipython3",
   "version": "3.9.7"
  }
 },
 "nbformat": 4,
 "nbformat_minor": 5
}
