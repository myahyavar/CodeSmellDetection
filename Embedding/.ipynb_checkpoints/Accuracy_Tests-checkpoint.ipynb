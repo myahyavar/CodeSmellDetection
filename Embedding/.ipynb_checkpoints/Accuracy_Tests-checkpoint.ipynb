{
 "cells": [
  {
   "cell_type": "code",
   "execution_count": 32,
   "id": "0ce871b5",
   "metadata": {},
   "outputs": [
    {
     "name": "stdout",
     "output_type": "stream",
     "text": [
      "Accuracy: 0.63\n"
     ]
    }
   ],
   "source": [
    "import torch\n",
    "import pickle\n",
    "from sentence_transformers import util\n",
    "\n",
    "# Load the embeddings\n",
    "loaded_ast_embeddings = torch.load('parsed_smell_embeddings.pt')\n",
    "\n",
    "# Load the message encoding vocabulary\n",
    "with open('message_encoding_vocabulary.pkl', 'rb') as file:\n",
    "    message_encoding_vocabulary = pickle.load(file)\n",
    "\n",
    "# Get a subset of message types for testing\n",
    "message_types = message_encoding_vocabulary[3:6]  # Change the range as needed\n",
    "\n",
    "# Randomly select 100 examples for testing\n",
    "example_indices = torch.randperm(loaded_ast_embeddings.shape[0])[:100]\n",
    "\n",
    "# Perform cosine similarity accuracy test\n",
    "correct_predictions = 0\n",
    "for index in example_indices:\n",
    "    embedding = loaded_ast_embeddings[index]\n",
    "    similarity_scores = util.cos_sim(embedding, loaded_ast_embeddings)\n",
    "\n",
    "    # Find the indices of top-k similar embeddings\n",
    "    _, top_indices = torch.topk(similarity_scores, k=len(message_types)+1)\n",
    "\n",
    "    # Check if the correct message type is among the top-k similar embeddings\n",
    "    if index in top_indices:\n",
    "        correct_predictions += 1\n",
    "\n",
    "accuracy = correct_predictions / len(example_indices)\n",
    "print(f\"Accuracy: {accuracy}\")"
   ]
  },
  {
   "cell_type": "code",
   "execution_count": 34,
   "id": "df7ff923",
   "metadata": {},
   "outputs": [
    {
     "name": "stdout",
     "output_type": "stream",
     "text": [
      "Accuracy: 0.94\n"
     ]
    }
   ],
   "source": [
    "# Load the embeddings\n",
    "loaded_ast_embeddings = torch.load('parsed_smell_identifier_embeddings.pt')\n",
    "\n",
    "# Load the message encoding vocabulary\n",
    "with open('message_encoding_vocabulary.pkl', 'rb') as file:\n",
    "    message_encoding_vocabulary = pickle.load(file)\n",
    "\n",
    "# Get a subset of message types for testing\n",
    "message_types = message_encoding_vocabulary[3:6]  # Change the range as needed\n",
    "\n",
    "# Randomly select 100 examples for testing\n",
    "example_indices = torch.randperm(loaded_ast_embeddings.shape[0])[:100]\n",
    "\n",
    "# Perform cosine similarity accuracy test\n",
    "correct_predictions = 0\n",
    "for index in example_indices:\n",
    "    embedding = loaded_ast_embeddings[index]\n",
    "    similarity_scores = util.cos_sim(embedding, loaded_ast_embeddings)\n",
    "\n",
    "    # Find the indices of top-k similar embeddings\n",
    "    _, top_indices = torch.topk(similarity_scores, k=len(message_types)+1)\n",
    "\n",
    "    # Check if the correct message type is among the top-k similar embeddings\n",
    "    if index in top_indices:\n",
    "        correct_predictions += 1\n",
    "\n",
    "accuracy = correct_predictions / len(example_indices)\n",
    "print(f\"Accuracy: {accuracy}\")"
   ]
  },
  {
   "cell_type": "code",
   "execution_count": 40,
   "id": "03a58cad",
   "metadata": {},
   "outputs": [
    {
     "name": "stdout",
     "output_type": "stream",
     "text": [
      "Accuracy Decision Tree: 0.0\n",
      "Accuracy SVM: 0.0\n"
     ]
    }
   ],
   "source": [
    "import torch\n",
    "import pickle\n",
    "import numpy as np\n",
    "from sklearn.model_selection import train_test_split\n",
    "from sklearn.tree import DecisionTreeClassifier\n",
    "from sklearn.svm import SVC\n",
    "from sklearn import metrics\n",
    "\n",
    "# Load the message encoding vocabulary\n",
    "with open('message_encoding_vocabulary.pkl', 'rb') as file:\n",
    "    message_encoding_vocabulary = pickle.load(file)\n",
    "\n",
    "# Get a subset of message types for testing\n",
    "message_types = message_encoding_vocabulary[3:6]  # Change the range as needed\n",
    "\n",
    "# Load the embeddings\n",
    "loaded_ast_embeddings = torch.load('parsed_smell_identifier_embeddings.pt')\n",
    "\n",
    "# Convert the message encoding vocabulary to a list\n",
    "message_encoding_vocabulary = message_encoding_vocabulary.tolist()\n",
    "\n",
    "# Get the indices of the selected message types in the vocabulary\n",
    "message_type_indices = np.where(np.isin(message_encoding_vocabulary, message_types))[0]\n",
    "\n",
    "# Select the embeddings for the selected message types\n",
    "selected_embeddings = loaded_ast_embeddings[message_type_indices]\n",
    "\n",
    "# Select a subset of the data (100 examples)\n",
    "subset_selected_embeddings = selected_embeddings[:100]\n",
    "\n",
    "# Split the data into training and testing sets\n",
    "X_train, X_test, y_train, y_test = train_test_split(subset_selected_embeddings, message_type_indices[:100],\n",
    "                                                    test_size=0.30, random_state=1)\n",
    "\n",
    "# Create Decision Tree classifier object\n",
    "clf_dt = DecisionTreeClassifier()\n",
    "\n",
    "# Train Decision Tree classifier\n",
    "clf_dt.fit(X_train, y_train)\n",
    "\n",
    "# Predict the response for the test dataset\n",
    "y_pred_dt = clf_dt.predict(X_test)\n",
    "\n",
    "print(\"Accuracy Decision Tree:\", metrics.accuracy_score(y_test, y_pred_dt))\n",
    "\n",
    "# Create SVM classifier object\n",
    "clf_svm = SVC(kernel='poly', degree=15, C=1.0)\n",
    "\n",
    "# Train SVM classifier\n",
    "clf_svm.fit(X_train, y_train)\n",
    "\n",
    "# Predict the response for the test dataset\n",
    "y_pred_svm = clf_svm.predict(X_test)\n",
    "\n",
    "print(\"Accuracy SVM:\", metrics.accuracy_score(y_test, y_pred_svm))"
   ]
  },
  {
   "cell_type": "code",
   "execution_count": null,
   "id": "111b6338",
   "metadata": {},
   "outputs": [],
   "source": []
  }
 ],
 "metadata": {
  "kernelspec": {
   "display_name": "Python 3 (ipykernel)",
   "language": "python",
   "name": "python3"
  },
  "language_info": {
   "codemirror_mode": {
    "name": "ipython",
    "version": 3
   },
   "file_extension": ".py",
   "mimetype": "text/x-python",
   "name": "python",
   "nbconvert_exporter": "python",
   "pygments_lexer": "ipython3",
   "version": "3.9.7"
  }
 },
 "nbformat": 4,
 "nbformat_minor": 5
}
