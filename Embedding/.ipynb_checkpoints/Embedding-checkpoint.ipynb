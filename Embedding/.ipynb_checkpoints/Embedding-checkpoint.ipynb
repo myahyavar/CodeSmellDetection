{
 "cells": [
  {
   "cell_type": "code",
   "execution_count": 2,
   "id": "c57fcdf7",
   "metadata": {},
   "outputs": [
    {
     "data": {
      "text/html": [
       "<div>\n",
       "<style scoped>\n",
       "    .dataframe tbody tr th:only-of-type {\n",
       "        vertical-align: middle;\n",
       "    }\n",
       "\n",
       "    .dataframe tbody tr th {\n",
       "        vertical-align: top;\n",
       "    }\n",
       "\n",
       "    .dataframe thead th {\n",
       "        text-align: right;\n",
       "    }\n",
       "</style>\n",
       "<table border=\"1\" class=\"dataframe\">\n",
       "  <thead>\n",
       "    <tr style=\"text-align: right;\">\n",
       "      <th></th>\n",
       "      <th>parsed_smell</th>\n",
       "      <th>parsed_smell_identifiers</th>\n",
       "      <th>message</th>\n",
       "      <th>message_encoded</th>\n",
       "    </tr>\n",
       "  </thead>\n",
       "  <tbody>\n",
       "    <tr>\n",
       "      <th>0</th>\n",
       "      <td>\\n\\t ClassDeclaration\\n\\t\\t BaseList\\n\\t\\t\\t S...</td>\n",
       "      <td>\\n\\t ClassDeclaration\\n\\t\\t BaseList\\n\\t\\t\\t S...</td>\n",
       "      <td>Rename</td>\n",
       "      <td>4</td>\n",
       "    </tr>\n",
       "    <tr>\n",
       "      <th>1</th>\n",
       "      <td>\\n\\t\\t FieldDeclaration\\n\\t\\t\\t VariableDeclar...</td>\n",
       "      <td>\\n\\t\\t FieldDeclaration\\n\\t\\t\\t VariableDeclar...</td>\n",
       "      <td>Remove</td>\n",
       "      <td>3</td>\n",
       "    </tr>\n",
       "    <tr>\n",
       "      <th>2</th>\n",
       "      <td>\\n\\t\\t ConstructorDeclaration\\n\\t\\t\\t Paramete...</td>\n",
       "      <td>\\n\\t\\t ConstructorDeclaration\\n\\t\\t\\t Paramete...</td>\n",
       "      <td>Adjustment</td>\n",
       "      <td>0</td>\n",
       "    </tr>\n",
       "    <tr>\n",
       "      <th>3</th>\n",
       "      <td>\\n\\t\\t\\t\\t\\t\\t LocalDeclarationStatement\\n\\t\\t...</td>\n",
       "      <td>\\n\\t\\t\\t\\t\\t\\t LocalDeclarationStatement\\n\\t\\t...</td>\n",
       "      <td>Refactor</td>\n",
       "      <td>2</td>\n",
       "    </tr>\n",
       "    <tr>\n",
       "      <th>4</th>\n",
       "      <td>\\n\\t\\t MethodDeclaration\\n\\t\\t\\t PredefinedTyp...</td>\n",
       "      <td>\\n\\t\\t MethodDeclaration\\n\\t\\t\\t PredefinedTyp...</td>\n",
       "      <td>Rename</td>\n",
       "      <td>4</td>\n",
       "    </tr>\n",
       "    <tr>\n",
       "      <th>...</th>\n",
       "      <td>...</td>\n",
       "      <td>...</td>\n",
       "      <td>...</td>\n",
       "      <td>...</td>\n",
       "    </tr>\n",
       "    <tr>\n",
       "      <th>1193</th>\n",
       "      <td>\\n\\t\\t FieldDeclaration\\n\\t\\t\\t VariableDeclar...</td>\n",
       "      <td>\\n\\t\\t FieldDeclaration\\n\\t\\t\\t VariableDeclar...</td>\n",
       "      <td>Refactor</td>\n",
       "      <td>2</td>\n",
       "    </tr>\n",
       "    <tr>\n",
       "      <th>1194</th>\n",
       "      <td>\\n\\t\\t FieldDeclaration\\n\\t\\t\\t VariableDeclar...</td>\n",
       "      <td>\\n\\t\\t FieldDeclaration\\n\\t\\t\\t VariableDeclar...</td>\n",
       "      <td>Refactor</td>\n",
       "      <td>2</td>\n",
       "    </tr>\n",
       "    <tr>\n",
       "      <th>1195</th>\n",
       "      <td>\\n\\t\\t FieldDeclaration\\n\\t\\t\\t VariableDeclar...</td>\n",
       "      <td>\\n\\t\\t FieldDeclaration\\n\\t\\t\\t VariableDeclar...</td>\n",
       "      <td>Refactor</td>\n",
       "      <td>2</td>\n",
       "    </tr>\n",
       "    <tr>\n",
       "      <th>1196</th>\n",
       "      <td>\\n\\t\\t PropertyDeclaration\\n\\t\\t\\t IdentifierN...</td>\n",
       "      <td>\\n\\t\\t PropertyDeclaration\\n\\t\\t\\t IdentifierN...</td>\n",
       "      <td>Refactor</td>\n",
       "      <td>2</td>\n",
       "    </tr>\n",
       "    <tr>\n",
       "      <th>1197</th>\n",
       "      <td>\\n\\t\\t PropertyDeclaration\\n\\t\\t\\t IdentifierN...</td>\n",
       "      <td>\\n\\t\\t PropertyDeclaration\\n\\t\\t\\t IdentifierN...</td>\n",
       "      <td>Refactor</td>\n",
       "      <td>2</td>\n",
       "    </tr>\n",
       "  </tbody>\n",
       "</table>\n",
       "<p>1198 rows × 4 columns</p>\n",
       "</div>"
      ],
      "text/plain": [
       "                                           parsed_smell  \\\n",
       "0     \\n\\t ClassDeclaration\\n\\t\\t BaseList\\n\\t\\t\\t S...   \n",
       "1     \\n\\t\\t FieldDeclaration\\n\\t\\t\\t VariableDeclar...   \n",
       "2     \\n\\t\\t ConstructorDeclaration\\n\\t\\t\\t Paramete...   \n",
       "3     \\n\\t\\t\\t\\t\\t\\t LocalDeclarationStatement\\n\\t\\t...   \n",
       "4     \\n\\t\\t MethodDeclaration\\n\\t\\t\\t PredefinedTyp...   \n",
       "...                                                 ...   \n",
       "1193  \\n\\t\\t FieldDeclaration\\n\\t\\t\\t VariableDeclar...   \n",
       "1194  \\n\\t\\t FieldDeclaration\\n\\t\\t\\t VariableDeclar...   \n",
       "1195  \\n\\t\\t FieldDeclaration\\n\\t\\t\\t VariableDeclar...   \n",
       "1196  \\n\\t\\t PropertyDeclaration\\n\\t\\t\\t IdentifierN...   \n",
       "1197  \\n\\t\\t PropertyDeclaration\\n\\t\\t\\t IdentifierN...   \n",
       "\n",
       "                               parsed_smell_identifiers     message  \\\n",
       "0     \\n\\t ClassDeclaration\\n\\t\\t BaseList\\n\\t\\t\\t S...      Rename   \n",
       "1     \\n\\t\\t FieldDeclaration\\n\\t\\t\\t VariableDeclar...      Remove   \n",
       "2     \\n\\t\\t ConstructorDeclaration\\n\\t\\t\\t Paramete...  Adjustment   \n",
       "3     \\n\\t\\t\\t\\t\\t\\t LocalDeclarationStatement\\n\\t\\t...    Refactor   \n",
       "4     \\n\\t\\t MethodDeclaration\\n\\t\\t\\t PredefinedTyp...      Rename   \n",
       "...                                                 ...         ...   \n",
       "1193  \\n\\t\\t FieldDeclaration\\n\\t\\t\\t VariableDeclar...    Refactor   \n",
       "1194  \\n\\t\\t FieldDeclaration\\n\\t\\t\\t VariableDeclar...    Refactor   \n",
       "1195  \\n\\t\\t FieldDeclaration\\n\\t\\t\\t VariableDeclar...    Refactor   \n",
       "1196  \\n\\t\\t PropertyDeclaration\\n\\t\\t\\t IdentifierN...    Refactor   \n",
       "1197  \\n\\t\\t PropertyDeclaration\\n\\t\\t\\t IdentifierN...    Refactor   \n",
       "\n",
       "      message_encoded  \n",
       "0                   4  \n",
       "1                   3  \n",
       "2                   0  \n",
       "3                   2  \n",
       "4                   4  \n",
       "...               ...  \n",
       "1193                2  \n",
       "1194                2  \n",
       "1195                2  \n",
       "1196                2  \n",
       "1197                2  \n",
       "\n",
       "[1198 rows x 4 columns]"
      ]
     },
     "execution_count": 2,
     "metadata": {},
     "output_type": "execute_result"
    }
   ],
   "source": [
    "import pandas as pd\n",
    "\n",
    "df = pd.read_csv('AST_Data/temp/train-data_encoded.csv')\n",
    "df"
   ]
  },
  {
   "cell_type": "code",
   "execution_count": 3,
   "id": "3ee37715",
   "metadata": {},
   "outputs": [],
   "source": [
    "import pandas as pd\n",
    "import pickle\n",
    "\n",
    "# Read the CSV file\n",
    "df = pd.read_csv('AST_Data/temp/train-data_encoded.csv')\n",
    "\n",
    "# Extract the 'message_encoded' column\n",
    "message_encoded = df['message_encoded']\n",
    "\n",
    "# Save the message_encoded values to a pickle file\n",
    "with open('AST_Data/messagelist.pkl', 'wb') as file:\n",
    "    pickle.dump(message_encoded, file)"
   ]
  },
  {
   "cell_type": "code",
   "execution_count": 4,
   "id": "f0746a9b",
   "metadata": {},
   "outputs": [
    {
     "data": {
      "text/plain": [
       "tensor([[-0.0950,  0.6250,  0.5913,  ..., -0.2796, -0.2381,  0.4071],\n",
       "        [-0.2020,  0.1644,  1.1535,  ..., -0.3008, -0.0297,  0.5221],\n",
       "        [-0.0143, -0.2363,  1.6680,  ..., -0.3705, -0.5433, -0.1417],\n",
       "        ...,\n",
       "        [-0.2735,  0.2333,  1.3529,  ..., -0.6721, -0.3709,  0.5369],\n",
       "        [-0.1369,  0.7097,  1.1493,  ..., -0.4443, -0.7678,  0.2357],\n",
       "        [-0.1369,  0.7097,  1.1493,  ..., -0.4443, -0.7678,  0.2357]])"
      ]
     },
     "execution_count": 4,
     "metadata": {},
     "output_type": "execute_result"
    }
   ],
   "source": [
    "ast_list = df['parsed_smell'].tolist()\n",
    "preprocessed_ast_list = [ast.strip() for ast in ast_list]\n",
    "\n",
    "from sentence_transformers import SentenceTransformer, util\n",
    "import torch\n",
    "\n",
    "model = SentenceTransformer('bert-base-nli-mean-tokens')\n",
    "\n",
    "ast_embeddings = model.encode(preprocessed_ast_list, convert_to_tensor=True)\n",
    "save_path = 'AST_Data/parsed_smell_embeddings.pt'\n",
    "torch.save(ast_embeddings, save_path)\n",
    "\n",
    "loaded_ast_embeddings = torch.load(save_path)\n",
    "loaded_ast_embeddings "
   ]
  },
  {
   "cell_type": "code",
   "execution_count": 5,
   "id": "c885cc5c",
   "metadata": {},
   "outputs": [
    {
     "data": {
      "text/plain": [
       "tensor([[-0.1174,  0.6704,  0.8038,  ..., -0.4725, -0.2390,  0.3589],\n",
       "        [-0.6199,  0.3999,  1.2910,  ..., -0.5682, -0.1304,  0.6397],\n",
       "        [-0.0143, -0.2363,  1.6680,  ..., -0.3705, -0.5433, -0.1417],\n",
       "        ...,\n",
       "        [-0.3621,  0.4559,  1.3794,  ..., -0.6402, -0.4670,  0.5768],\n",
       "        [-0.2604,  0.7622,  1.2828,  ..., -0.4707, -0.7316,  0.2586],\n",
       "        [-0.2604,  0.7622,  1.2828,  ..., -0.4707, -0.7316,  0.2586]])"
      ]
     },
     "execution_count": 5,
     "metadata": {},
     "output_type": "execute_result"
    }
   ],
   "source": [
    "ast_list = df['parsed_smell_identifiers'].tolist()\n",
    "preprocessed_ast_list = [ast.strip() for ast in ast_list]\n",
    "\n",
    "from sentence_transformers import SentenceTransformer, util\n",
    "import torch\n",
    "\n",
    "model = SentenceTransformer('bert-base-nli-mean-tokens')\n",
    "\n",
    "ast_embeddings = model.encode(preprocessed_ast_list, convert_to_tensor=True)\n",
    "save_path = 'AST_Data/parsed_smell_identifier_embeddings.pt'\n",
    "torch.save(ast_embeddings, save_path)\n",
    "\n",
    "loaded_ast_embeddings = torch.load(save_path)\n",
    "loaded_ast_embeddings "
   ]
  },
  {
   "cell_type": "code",
   "execution_count": 6,
   "id": "f6dcbb69",
   "metadata": {},
   "outputs": [
    {
     "name": "stdout",
     "output_type": "stream",
     "text": [
      "Number of saved embeddings: 1198\n"
     ]
    }
   ],
   "source": [
    "num_embeddings = loaded_ast_embeddings.shape[0]\n",
    "print(f\"Number of saved embeddings: {num_embeddings}\")"
   ]
  },
  {
   "cell_type": "code",
   "execution_count": null,
   "id": "9aa0b274",
   "metadata": {},
   "outputs": [],
   "source": []
  }
 ],
 "metadata": {
  "kernelspec": {
   "display_name": "Python 3 (ipykernel)",
   "language": "python",
   "name": "python3"
  },
  "language_info": {
   "codemirror_mode": {
    "name": "ipython",
    "version": 3
   },
   "file_extension": ".py",
   "mimetype": "text/x-python",
   "name": "python",
   "nbconvert_exporter": "python",
   "pygments_lexer": "ipython3",
   "version": "3.9.7"
  }
 },
 "nbformat": 4,
 "nbformat_minor": 5
}
