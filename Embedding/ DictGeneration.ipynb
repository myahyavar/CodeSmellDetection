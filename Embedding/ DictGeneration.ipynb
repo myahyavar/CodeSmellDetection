{
 "cells": [
  {
   "cell_type": "code",
   "execution_count": 3,
   "id": "4a8dafd8",
   "metadata": {},
   "outputs": [
    {
     "name": "stdout",
     "output_type": "stream",
     "text": [
      "{'ElseClause': 0, 'SetAccessorDeclaration': 1, 'SingleVariableDesignation': 2, 'DeclarationPattern': 3, 'LogicalAndExpression': 4, 'ConstantPattern': 5, 'EmptyStatement': 6, 'IsExpression': 7, 'IsPatternExpression': 8, 'SimpleLambdaExpression': 9, 'ThrowStatement': 10, 'LogicalNotExpression': 11, 'ParenthesizedLambdaExpression': 12, 'LockStatement': 13, 'WhileStatement': 14, 'ArrowExpressionClause': 15, 'QualifiedName': 16, 'AccessorList': 17, 'CatchFilterClause': 18, 'GetAccessorDeclaration': 19, 'PropertyDeclaration': 20, 'UsingStatement': 21, 'Interpolation': 22, 'InterpolatedStringExpression': 23, 'MemberBindingExpression': 24, 'EqualsExpression': 25, 'ConditionalAccessExpression': 26, 'TrueLiteralExpression': 27, 'InterpolatedStringText': 28, 'NullLiteralExpression': 29, 'ConstructorDeclaration': 30, 'IfStatement': 31, 'TryStatement': 32, 'BaseList': 33, 'ClassDeclaration': 34, 'CatchDeclaration': 35, 'CatchClause': 36, 'StringLiteralExpression': 37, 'SimpleBaseType': 38, 'ThrowExpression': 39, 'CoalesceExpression': 40, 'NameColon': 41, 'NullableType': 42, 'ReturnStatement': 43, 'MethodDeclaration': 44, 'AwaitExpression': 45, 'ObjectCreationExpression': 46, 'FalseLiteralExpression': 47, 'PredefinedType': 48, 'LocalDeclarationStatement': 49, 'SimpleAssignmentExpression': 50, 'FieldDeclaration': 51, 'ParameterList': 52, 'TypeArgumentList': 53, 'GenericName': 54, 'Parameter': 55, 'EqualsValueClause': 56, 'VariableDeclaration': 57, 'VariableDeclarator': 58, 'ExpressionStatement': 59, 'Block': 60, 'InvocationExpression': 61, 'Argument': 62, 'ArgumentList': 63, 'SimpleMemberAccessExpression': 64, 'IdentifierName': 65}\n"
     ]
    }
   ],
   "source": [
    "import re\n",
    "import json\n",
    "from collections import Counter\n",
    "\n",
    "with open('AST.train.txt', 'r') as file:\n",
    "    text = file.read()\n",
    "\n",
    "# Tokenize text and exclude numbers\n",
    "tokens = re.findall(r'\\b(?![0-9]+\\b)\\w+\\b', text)\n",
    "\n",
    "# Count token frequencies\n",
    "token_counts = Counter(tokens)\n",
    "\n",
    "# Assign IDs based on frequency\n",
    "unique_tokens = sorted(set(tokens), key=lambda x: token_counts[x])\n",
    "token_ids = {token: i for i, token in enumerate(unique_tokens)}\n",
    "\n",
    "# Save token IDs to a text file\n",
    "with open('token_ids.txt', 'w') as file:\n",
    "    json.dump(token_ids, file)\n",
    "\n",
    "print(token_ids)"
   ]
  },
  {
   "cell_type": "code",
   "execution_count": null,
   "id": "c13dfae4",
   "metadata": {},
   "outputs": [],
   "source": []
  },
  {
   "cell_type": "code",
   "execution_count": null,
   "id": "ef81da04",
   "metadata": {},
   "outputs": [],
   "source": []
  }
 ],
 "metadata": {
  "kernelspec": {
   "display_name": "Python 3 (ipykernel)",
   "language": "python",
   "name": "python3"
  },
  "language_info": {
   "codemirror_mode": {
    "name": "ipython",
    "version": 3
   },
   "file_extension": ".py",
   "mimetype": "text/x-python",
   "name": "python",
   "nbconvert_exporter": "python",
   "pygments_lexer": "ipython3",
   "version": "3.9.7"
  }
 },
 "nbformat": 4,
 "nbformat_minor": 5
}
