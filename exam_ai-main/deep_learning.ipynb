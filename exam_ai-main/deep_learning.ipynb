{
 "cells": [
  {
   "cell_type": "markdown",
   "id": "4c9b39de",
   "metadata": {},
   "source": [
    "# Small dataset text classification using deep learning"
   ]
  },
  {
   "cell_type": "markdown",
   "id": "67e5de91",
   "metadata": {},
   "source": [
    "## 1. Recurrent (LSTM/GRU)"
   ]
  },
  {
   "cell_type": "code",
   "execution_count": 115,
   "id": "e9d9313e",
   "metadata": {},
   "outputs": [],
   "source": [
    "import numpy as np\n",
    "import pandas as pd\n",
    "import tensorflow as tf\n",
    "from tensorflow import keras\n",
    "from keras import layers\n",
    "from sklearn.model_selection import train_test_split\n",
    "import os\n",
    "import datetime\n",
    "import matplotlib.pyplot as plt"
   ]
  },
  {
   "cell_type": "code",
   "execution_count": 134,
   "id": "5ab587ac",
   "metadata": {
    "scrolled": false
   },
   "outputs": [
    {
     "data": {
      "text/html": [
       "<div>\n",
       "<style scoped>\n",
       "    .dataframe tbody tr th:only-of-type {\n",
       "        vertical-align: middle;\n",
       "    }\n",
       "\n",
       "    .dataframe tbody tr th {\n",
       "        vertical-align: top;\n",
       "    }\n",
       "\n",
       "    .dataframe thead th {\n",
       "        text-align: right;\n",
       "    }\n",
       "</style>\n",
       "<table border=\"1\" class=\"dataframe\">\n",
       "  <thead>\n",
       "    <tr style=\"text-align: right;\">\n",
       "      <th></th>\n",
       "      <th>What do you want to know about GCSE Computer Science?</th>\n",
       "      <th>Section</th>\n",
       "    </tr>\n",
       "  </thead>\n",
       "  <tbody>\n",
       "    <tr>\n",
       "      <th>0</th>\n",
       "      <td>a lot of coding knowing components and etc</td>\n",
       "      <td>2c</td>\n",
       "    </tr>\n",
       "    <tr>\n",
       "      <th>1</th>\n",
       "      <td>Advanced Coding</td>\n",
       "      <td>2c</td>\n",
       "    </tr>\n",
       "    <tr>\n",
       "      <th>2</th>\n",
       "      <td>Do we do use python or repl.it for coding</td>\n",
       "      <td>2d</td>\n",
       "    </tr>\n",
       "    <tr>\n",
       "      <th>3</th>\n",
       "      <td>Do we get to programme bots and stuff like that.</td>\n",
       "      <td>2d</td>\n",
       "    </tr>\n",
       "    <tr>\n",
       "      <th>4</th>\n",
       "      <td>do we go through the things we did in year 7 a...</td>\n",
       "      <td>2e</td>\n",
       "    </tr>\n",
       "    <tr>\n",
       "      <th>...</th>\n",
       "      <td>...</td>\n",
       "      <td>...</td>\n",
       "    </tr>\n",
       "    <tr>\n",
       "      <th>126</th>\n",
       "      <td>Will the course involve programmings. if yes, ...</td>\n",
       "      <td>2c</td>\n",
       "    </tr>\n",
       "    <tr>\n",
       "      <th>127</th>\n",
       "      <td>Will we be able to create our own apps?</td>\n",
       "      <td>2d</td>\n",
       "    </tr>\n",
       "    <tr>\n",
       "      <th>128</th>\n",
       "      <td>Will we learn about how people steal passwords...</td>\n",
       "      <td>2a</td>\n",
       "    </tr>\n",
       "    <tr>\n",
       "      <th>129</th>\n",
       "      <td>Would there be things in Computer science and ...</td>\n",
       "      <td>5b</td>\n",
       "    </tr>\n",
       "    <tr>\n",
       "      <th>130</th>\n",
       "      <td>Do we learn about databases?</td>\n",
       "      <td>2a</td>\n",
       "    </tr>\n",
       "  </tbody>\n",
       "</table>\n",
       "<p>131 rows × 2 columns</p>\n",
       "</div>"
      ],
      "text/plain": [
       "    What do you want to know about GCSE Computer Science? Section\n",
       "0           a lot of coding knowing components and etc         2c\n",
       "1                                      Advanced Coding         2c\n",
       "2            Do we do use python or repl.it for coding         2d\n",
       "3     Do we get to programme bots and stuff like that.         2d\n",
       "4    do we go through the things we did in year 7 a...         2e\n",
       "..                                                 ...        ...\n",
       "126  Will the course involve programmings. if yes, ...         2c\n",
       "127            Will we be able to create our own apps?         2d\n",
       "128  Will we learn about how people steal passwords...         2a\n",
       "129  Would there be things in Computer science and ...         5b\n",
       "130                       Do we learn about databases?         2a\n",
       "\n",
       "[131 rows x 2 columns]"
      ]
     },
     "execution_count": 134,
     "metadata": {},
     "output_type": "execute_result"
    }
   ],
   "source": [
    "df = pd.read_csv('questions_processed.csv')\n",
    "df"
   ]
  },
  {
   "cell_type": "code",
   "execution_count": 135,
   "id": "b49e4f63",
   "metadata": {
    "scrolled": false
   },
   "outputs": [
    {
     "data": {
      "text/plain": [
       "array([['a lot of coding knowing components and etc'],\n",
       "       ['Advanced Coding'],\n",
       "       ['Do we do use python or repl.it for coding']], dtype=object)"
      ]
     },
     "execution_count": 135,
     "metadata": {},
     "output_type": "execute_result"
    }
   ],
   "source": [
    "training_data = df[df.columns[0]].to_numpy()\n",
    "training_data = np.reshape(training_data,(-1,1))\n",
    "training_data[:3]"
   ]
  },
  {
   "cell_type": "code",
   "execution_count": 136,
   "id": "063bff2a",
   "metadata": {},
   "outputs": [
    {
     "name": "stdout",
     "output_type": "stream",
     "text": [
      "tf.Tensor(\n",
      "[[ 28  56  10 ...   0   0   0]\n",
      " [293  21   0 ...   0   0   0]\n",
      " [ 11   4  11 ...   0   0   0]\n",
      " ...\n",
      " [  6   4  25 ...   0   0   0]\n",
      " [ 31  27  16 ...   0   0   0]\n",
      " [ 11   4  25 ...   0   0   0]], shape=(131, 28), dtype=int64)\n"
     ]
    }
   ],
   "source": [
    "vectorizer = layers.TextVectorization(output_mode=\"int\")\n",
    "vectorizer.adapt(training_data)\n",
    "integer_data = vectorizer(training_data)\n",
    "print(integer_data)"
   ]
  },
  {
   "cell_type": "code",
   "execution_count": 141,
   "id": "09cc62c7",
   "metadata": {},
   "outputs": [],
   "source": [
    "labels = df[df.columns[1]]\n",
    "y = np.argmax(pd.get_dummies(labels).to_numpy(), axis=1)\n",
    "X_train, X_test, y_train, y_test = train_test_split(training_data, y, test_size=0.20, random_state=42, stratify=y)"
   ]
  },
  {
   "cell_type": "code",
   "execution_count": 143,
   "id": "f4d75b3f",
   "metadata": {},
   "outputs": [
    {
     "name": "stdout",
     "output_type": "stream",
     "text": [
      "Model: \"model_8\"\n",
      "_________________________________________________________________\n",
      " Layer (type)                Output Shape              Param #   \n",
      "=================================================================\n",
      " text (InputLayer)           [(None, 1)]               0         \n",
      "                                                                 \n",
      " text_vectorization_9 (TextV  (None, None)             0         \n",
      " ectorization)                                                   \n",
      "                                                                 \n",
      " embedding_14 (Embedding)    (None, None, 30)          600030    \n",
      "                                                                 \n",
      " gru_2 (GRU)                 (None, 10)                1260      \n",
      "                                                                 \n",
      " dense_27 (Dense)            (None, 20)                220       \n",
      "                                                                 \n",
      " dropout_28 (Dropout)        (None, 20)                0         \n",
      "                                                                 \n",
      " predictions (Dense)         (None, 10)                210       \n",
      "                                                                 \n",
      "=================================================================\n",
      "Total params: 601,720\n",
      "Trainable params: 601,720\n",
      "Non-trainable params: 0\n",
      "_________________________________________________________________\n"
     ]
    }
   ],
   "source": [
    "max_features = 20000\n",
    "embedding_dim = 30\n",
    "\n",
    "inputs = tf.keras.Input(shape=(1,), dtype=tf.string, name='text')\n",
    "x = vectorizer(inputs)\n",
    "x = layers.Embedding(max_features + 1, embedding_dim)(x)\n",
    "\n",
    "#x = layers.LSTM(10, dropout=0.2, recurrent_dropout=0.2)(x)\n",
    "x = tf.keras.layers.GRU(10)(x)\n",
    "\n",
    "x = layers.Dense(20, activation=\"relu\")(x)\n",
    "x = layers.Dropout(0.3)(x)\n",
    "num_classes = 10\n",
    "outputs = layers.Dense(num_classes, activation=\"softmax\", name=\"predictions\")(x)\n",
    "\n",
    "model = tf.keras.Model(inputs, outputs)\n",
    "model.compile(\n",
    "    optimizer=\"adam\",\n",
    "    loss=\"sparse_categorical_crossentropy\",\n",
    "    metrics=[keras.metrics.SparseCategoricalAccuracy(name=\"acc\")]\n",
    ")\n",
    "\n",
    "model.summary()"
   ]
  },
  {
   "cell_type": "code",
   "execution_count": 144,
   "id": "737819c4",
   "metadata": {
    "scrolled": false
   },
   "outputs": [
    {
     "name": "stdout",
     "output_type": "stream",
     "text": [
      "Epoch 1/10\n",
      "3/3 [==============================] - 2s 231ms/step - loss: 2.3048 - acc: 0.0723 - val_loss: 2.2976 - val_acc: 0.0952\n",
      "Epoch 2/10\n",
      "3/3 [==============================] - 0s 38ms/step - loss: 2.2962 - acc: 0.2410 - val_loss: 2.2841 - val_acc: 0.5714\n",
      "Epoch 3/10\n",
      "3/3 [==============================] - 0s 40ms/step - loss: 2.2851 - acc: 0.4940 - val_loss: 2.2705 - val_acc: 0.6190\n",
      "Epoch 4/10\n",
      "3/3 [==============================] - 0s 46ms/step - loss: 2.2757 - acc: 0.4699 - val_loss: 2.2575 - val_acc: 0.6190\n",
      "Epoch 5/10\n",
      "3/3 [==============================] - 0s 35ms/step - loss: 2.2645 - acc: 0.4699 - val_loss: 2.2446 - val_acc: 0.6190\n",
      "Epoch 6/10\n",
      "3/3 [==============================] - 0s 43ms/step - loss: 2.2519 - acc: 0.4699 - val_loss: 2.2303 - val_acc: 0.6190\n",
      "Epoch 7/10\n",
      "3/3 [==============================] - 0s 42ms/step - loss: 2.2452 - acc: 0.4819 - val_loss: 2.2149 - val_acc: 0.6190\n",
      "Epoch 8/10\n",
      "3/3 [==============================] - 0s 40ms/step - loss: 2.2345 - acc: 0.4819 - val_loss: 2.1977 - val_acc: 0.6190\n",
      "Epoch 9/10\n",
      "3/3 [==============================] - 0s 35ms/step - loss: 2.2179 - acc: 0.4819 - val_loss: 2.1793 - val_acc: 0.6190\n",
      "Epoch 10/10\n",
      "3/3 [==============================] - 0s 42ms/step - loss: 2.2073 - acc: 0.4699 - val_loss: 2.1589 - val_acc: 0.6190\n"
     ]
    }
   ],
   "source": [
    "logdir = os.path.join(\"logs\", datetime.datetime.now().strftime(\"%Y%m%d-%H%M%S\"))\n",
    "callbacks = [\n",
    "    keras.callbacks.TensorBoard(logdir)\n",
    "]\n",
    "history = model.fit(X_train, y_train, epochs=10, batch_size=32, validation_split=0.2, callbacks=callbacks)"
   ]
  },
  {
   "cell_type": "code",
   "execution_count": null,
   "id": "e3367619",
   "metadata": {},
   "outputs": [],
   "source": [
    "%load_ext tensorboard\n",
    "%tensorboard --logdir logs"
   ]
  },
  {
   "cell_type": "code",
   "execution_count": 10,
   "id": "d1bc0203",
   "metadata": {},
   "outputs": [
    {
     "name": "stdout",
     "output_type": "stream",
     "text": [
      "1/1 [==============================] - 0s 40ms/step - loss: 1.6607 - acc: 0.5185\n"
     ]
    },
    {
     "data": {
      "text/plain": [
       "[1.6606857776641846, 0.5185185074806213]"
      ]
     },
     "execution_count": 10,
     "metadata": {},
     "output_type": "execute_result"
    }
   ],
   "source": [
    "model.evaluate(X_test,y_test)"
   ]
  },
  {
   "cell_type": "code",
   "execution_count": 11,
   "id": "e7925df5",
   "metadata": {},
   "outputs": [
    {
     "name": "stdout",
     "output_type": "stream",
     "text": [
      "(27, 10)\n"
     ]
    }
   ],
   "source": [
    "predictions = model.predict(X_test)\n",
    "print(predictions.shape)"
   ]
  },
  {
   "cell_type": "code",
   "execution_count": 12,
   "id": "16ef5ba0",
   "metadata": {},
   "outputs": [
    {
     "data": {
      "image/png": "[encoded data removed]",
      "text/plain": [
       "<Figure size 432x288 with 1 Axes>"
      ]
     },
     "metadata": {
      "needs_background": "light"
     },
     "output_type": "display_data"
    }
   ],
   "source": [
    "plt.title('Loss (Recurrent)')\n",
    "plt.plot(history.history['loss'], label='train')\n",
    "plt.plot(history.history['val_loss'], label='test')\n",
    "plt.legend()\n",
    "plt.show()"
   ]
  },
  {
   "cell_type": "markdown",
   "id": "d4d98682",
   "metadata": {},
   "source": [
    "## 2. Transformers"
   ]
  },
  {
   "cell_type": "code",
   "execution_count": 118,
   "id": "65b8ef77",
   "metadata": {},
   "outputs": [],
   "source": [
    "class TransformerBlock(layers.Layer):\n",
    "    def __init__(self, embed_dim, num_heads, ff_dim, rate=0.1):\n",
    "        super(TransformerBlock, self).__init__()\n",
    "        self.att = layers.MultiHeadAttention(num_heads=num_heads, key_dim=embed_dim)\n",
    "        self.ffn = keras.Sequential(\n",
    "            [layers.Dense(ff_dim, activation=\"relu\"), layers.Dense(embed_dim),]\n",
    "        )\n",
    "        self.layernorm1 = layers.LayerNormalization(epsilon=1e-6)\n",
    "        self.layernorm2 = layers.LayerNormalization(epsilon=1e-6)\n",
    "        self.dropout1 = layers.Dropout(rate)\n",
    "        self.dropout2 = layers.Dropout(rate)\n",
    "\n",
    "    def call(self, inputs, training):\n",
    "        attn_output = self.att(inputs, inputs)\n",
    "        attn_output = self.dropout1(attn_output, training=training)\n",
    "        out1 = self.layernorm1(inputs + attn_output)\n",
    "        ffn_output = self.ffn(out1)\n",
    "        ffn_output = self.dropout2(ffn_output, training=training)\n",
    "        return self.layernorm2(out1 + ffn_output)\n",
    "    \n",
    "class TokenAndPositionEmbedding(layers.Layer):\n",
    "    def __init__(self, maxlen, vocab_size, embed_dim):\n",
    "        super(TokenAndPositionEmbedding, self).__init__()\n",
    "        self.token_emb = layers.Embedding(input_dim=vocab_size, output_dim=embed_dim)\n",
    "        self.pos_emb = layers.Embedding(input_dim=maxlen, output_dim=embed_dim)\n",
    "\n",
    "    def call(self, x):\n",
    "        maxlen = tf.shape(x)[-1]\n",
    "        positions = tf.range(start=0, limit=maxlen, delta=1)\n",
    "        positions = self.pos_emb(positions)\n",
    "        x = self.token_emb(x)\n",
    "        return x + positions"
   ]
  },
  {
   "cell_type": "code",
   "execution_count": 119,
   "id": "e3f09b6a",
   "metadata": {},
   "outputs": [
    {
     "name": "stdout",
     "output_type": "stream",
     "text": [
      "Model: \"model_5\"\n",
      "_________________________________________________________________\n",
      " Layer (type)                Output Shape              Param #   \n",
      "=================================================================\n",
      " input_8 (InputLayer)        [(None, 30)]              0         \n",
      "                                                                 \n",
      " token_and_position_embeddin  (None, 30, 32)           640960    \n",
      " g_5 (TokenAndPositionEmbedd                                     \n",
      " ing)                                                            \n",
      "                                                                 \n",
      " transformer_block_5 (Transf  (None, 30, 32)           10656     \n",
      " ormerBlock)                                                     \n",
      "                                                                 \n",
      " global_average_pooling1d_5   (None, 32)               0         \n",
      " (GlobalAveragePooling1D)                                        \n",
      "                                                                 \n",
      " dropout_22 (Dropout)        (None, 32)                0         \n",
      "                                                                 \n",
      " dense_22 (Dense)            (None, 20)                660       \n",
      "                                                                 \n",
      " dropout_23 (Dropout)        (None, 20)                0         \n",
      "                                                                 \n",
      " dense_23 (Dense)            (None, 10)                210       \n",
      "                                                                 \n",
      "=================================================================\n",
      "Total params: 652,486\n",
      "Trainable params: 652,486\n",
      "Non-trainable params: 0\n",
      "_________________________________________________________________\n"
     ]
    }
   ],
   "source": [
    "vocab_size = 20000  # Only consider the top 20k words\n",
    "maxlen = 30  # Only consider the first 200 words of each sentence\n",
    "\n",
    "embed_dim = 32  # Embedding size for each token\n",
    "num_heads = 2  # Number of attention heads\n",
    "ff_dim = 32  # Hidden layer size in feed forward network inside transformer\n",
    "\n",
    "inputs = layers.Input(shape=(maxlen,))\n",
    "embedding_layer = TokenAndPositionEmbedding(maxlen, vocab_size, embed_dim)\n",
    "x = embedding_layer(inputs)\n",
    "transformer_block = TransformerBlock(embed_dim, num_heads, ff_dim)\n",
    "x = transformer_block(x)\n",
    "x = layers.GlobalAveragePooling1D()(x)\n",
    "x = layers.Dropout(0.1)(x)\n",
    "x = layers.Dense(20, activation=\"relu\")(x)\n",
    "x = layers.Dropout(0.1)(x)\n",
    "outputs = layers.Dense(10, activation=\"softmax\")(x)\n",
    "\n",
    "model_tr = keras.Model(inputs=inputs, outputs=outputs)\n",
    "\n",
    "model_tr.compile(optimizer=\"adam\", loss=\"sparse_categorical_crossentropy\", metrics=[\"accuracy\"])\n",
    "model_tr.summary()"
   ]
  },
  {
   "cell_type": "code",
   "execution_count": 120,
   "id": "49d70ed9",
   "metadata": {},
   "outputs": [
    {
     "data": {
      "text/plain": [
       "<tf.Tensor: shape=(104, 30), dtype=int64, numpy=\n",
       "array([[ 39,   4,  17, ...,   0,   0,   0],\n",
       "       [ 26,  31,  22, ...,   0,   0,   0],\n",
       "       [  2, 103,  10, ...,   0,   0,   0],\n",
       "       ...,\n",
       "       [  2,   9,  17, ...,   0,   0,   0],\n",
       "       [  2,  44,  26, ...,   0,   0,   0],\n",
       "       [  5,   3,  30, ...,   0,   0,   0]], dtype=int64)>"
      ]
     },
     "execution_count": 120,
     "metadata": {},
     "output_type": "execute_result"
    }
   ],
   "source": [
    "vectorizer_tr = layers.TextVectorization(output_mode=\"int\", output_sequence_length=maxlen)\n",
    "vectorizer_tr.adapt(training_data)\n",
    "X_train_tr = vectorizer_tr(X_train)\n",
    "X_test_tr = vectorizer_tr(X_test)\n",
    "X_train_tr"
   ]
  },
  {
   "cell_type": "code",
   "execution_count": 129,
   "id": "5da1a696",
   "metadata": {},
   "outputs": [
    {
     "name": "stdout",
     "output_type": "stream",
     "text": [
      "Epoch 1/10\n",
      "3/3 [==============================] - 0s 46ms/step - loss: 1.5633 - accuracy: 0.4940 - val_loss: 1.0733 - val_accuracy: 0.6190\n",
      "Epoch 2/10\n",
      "3/3 [==============================] - 0s 38ms/step - loss: 1.5547 - accuracy: 0.5783 - val_loss: 1.0292 - val_accuracy: 0.6667\n",
      "Epoch 3/10\n",
      "3/3 [==============================] - 0s 35ms/step - loss: 1.4565 - accuracy: 0.5904 - val_loss: 1.0116 - val_accuracy: 0.7143\n",
      "Epoch 4/10\n",
      "3/3 [==============================] - 0s 35ms/step - loss: 1.4480 - accuracy: 0.5783 - val_loss: 0.9819 - val_accuracy: 0.6667\n",
      "Epoch 5/10\n",
      "3/3 [==============================] - 0s 35ms/step - loss: 1.3785 - accuracy: 0.5904 - val_loss: 0.9385 - val_accuracy: 0.7143\n",
      "Epoch 6/10\n",
      "3/3 [==============================] - 0s 34ms/step - loss: 1.3129 - accuracy: 0.6145 - val_loss: 0.8963 - val_accuracy: 0.7619\n",
      "Epoch 7/10\n",
      "3/3 [==============================] - 0s 31ms/step - loss: 1.2600 - accuracy: 0.6386 - val_loss: 0.8503 - val_accuracy: 0.7619\n",
      "Epoch 8/10\n",
      "3/3 [==============================] - 0s 36ms/step - loss: 1.2310 - accuracy: 0.6386 - val_loss: 0.8284 - val_accuracy: 0.7619\n",
      "Epoch 9/10\n",
      "3/3 [==============================] - 0s 29ms/step - loss: 1.1530 - accuracy: 0.6386 - val_loss: 0.7755 - val_accuracy: 0.8571\n",
      "Epoch 10/10\n",
      "3/3 [==============================] - 0s 40ms/step - loss: 1.2107 - accuracy: 0.6145 - val_loss: 0.7725 - val_accuracy: 0.7619\n"
     ]
    }
   ],
   "source": [
    "history_tr = model_tr.fit(X_train_tr, y_train_tr, epochs=10, batch_size=32, validation_split=0.2)"
   ]
  },
  {
   "cell_type": "code",
   "execution_count": 130,
   "id": "02a61ba1",
   "metadata": {},
   "outputs": [
    {
     "name": "stdout",
     "output_type": "stream",
     "text": [
      "1/1 [==============================] - 0s 25ms/step - loss: 1.3369 - accuracy: 0.6296\n"
     ]
    },
    {
     "data": {
      "text/plain": [
       "[1.3368749618530273, 0.6296296119689941]"
      ]
     },
     "execution_count": 130,
     "metadata": {},
     "output_type": "execute_result"
    }
   ],
   "source": [
    "model_tr.evaluate(X_test_tr, y_test_tr)"
   ]
  },
  {
   "cell_type": "code",
   "execution_count": 131,
   "id": "1e62b338",
   "metadata": {},
   "outputs": [
    {
     "name": "stdout",
     "output_type": "stream",
     "text": [
      "(27, 10)\n"
     ]
    }
   ],
   "source": [
    "predictions_tr = model_tr.predict(X_test_tr)\n",
    "print(predictions_tr.shape)"
   ]
  },
  {
   "cell_type": "code",
   "execution_count": 133,
   "id": "4e8e09f6",
   "metadata": {},
   "outputs": [
    {
     "data": {
      "image/png": "[encoded data removed]",
      "text/plain": [
       "<Figure size 432x288 with 1 Axes>"
      ]
     },
     "metadata": {
      "needs_background": "light"
     },
     "output_type": "display_data"
    }
   ],
   "source": [
    "plt.title('Loss (Transformers)')\n",
    "plt.plot(history_tr.history['loss'], label='train')\n",
    "plt.plot(history_tr.history['val_loss'], label='test')\n",
    "plt.legend()\n",
    "plt.show()"
   ]
  }
 ],
 "metadata": {
  "kernelspec": {
   "display_name": "Python 3 (ipykernel)",
   "language": "python",
   "name": "python3"
  },
  "language_info": {
   "codemirror_mode": {
    "name": "ipython",
    "version": 3
   },
   "file_extension": ".py",
   "mimetype": "text/x-python",
   "name": "python",
   "nbconvert_exporter": "python",
   "pygments_lexer": "ipython3",
   "version": "3.9.7"
  }
 },
 "nbformat": 4,
 "nbformat_minor": 5
}
