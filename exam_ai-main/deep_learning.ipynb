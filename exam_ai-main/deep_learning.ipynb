{
 "cells": [
  {
   "cell_type": "markdown",
   "id": "4c9b39de",
   "metadata": {},
   "source": [
    "# Small dataset text classification using deep learning"
   ]
  },
  {
   "cell_type": "markdown",
   "id": "67e5de91",
   "metadata": {},
   "source": [
    "## 1. Recurrent (LSTM/GRU)"
   ]
  },
  {
   "cell_type": "code",
   "execution_count": 1,
   "id": "e9d9313e",
   "metadata": {},
   "outputs": [],
   "source": [
    "import numpy as np\n",
    "import pandas as pd\n",
    "import tensorflow as tf\n",
    "from tensorflow import keras\n",
    "from keras import layers\n",
    "from sklearn.model_selection import train_test_split\n",
    "import os\n",
    "import datetime\n",
    "import matplotlib.pyplot as plt"
   ]
  },
  {
   "cell_type": "code",
   "execution_count": 2,
   "id": "5ab587ac",
   "metadata": {
    "scrolled": false
   },
   "outputs": [
    {
     "data": {
      "text/html": [
       "<div>\n",
       "<style scoped>\n",
       "    .dataframe tbody tr th:only-of-type {\n",
       "        vertical-align: middle;\n",
       "    }\n",
       "\n",
       "    .dataframe tbody tr th {\n",
       "        vertical-align: top;\n",
       "    }\n",
       "\n",
       "    .dataframe thead th {\n",
       "        text-align: right;\n",
       "    }\n",
       "</style>\n",
       "<table border=\"1\" class=\"dataframe\">\n",
       "  <thead>\n",
       "    <tr style=\"text-align: right;\">\n",
       "      <th></th>\n",
       "      <th>ASTS</th>\n",
       "    </tr>\n",
       "  </thead>\n",
       "  <tbody>\n",
       "    <tr>\n",
       "      <th>0</th>\n",
       "      <td>print|index|and|values void,PredefinedType^Met...</td>\n",
       "    </tr>\n",
       "    <tr>\n",
       "      <th>1</th>\n",
       "      <td>printing|names void,PredefinedType^MethodDecla...</td>\n",
       "    </tr>\n",
       "    <tr>\n",
       "      <th>2</th>\n",
       "      <td>colorful|write|line void,PredefinedType^Method...</td>\n",
       "    </tr>\n",
       "    <tr>\n",
       "      <th>3</th>\n",
       "      <td>printing|names void,PredefinedType^MethodDecla...</td>\n",
       "    </tr>\n",
       "    <tr>\n",
       "      <th>4</th>\n",
       "      <td>sort|three|numbers int,PredefinedType^ArrayTyp...</td>\n",
       "    </tr>\n",
       "    <tr>\n",
       "      <th>5</th>\n",
       "      <td>addition int,PredefinedType^MethodDeclaration_...</td>\n",
       "    </tr>\n",
       "    <tr>\n",
       "      <th>6</th>\n",
       "      <td>area double,PredefinedType^MethodDeclaration_P...</td>\n",
       "    </tr>\n",
       "    <tr>\n",
       "      <th>7</th>\n",
       "      <td>area double,PredefinedType^MethodDeclaration_P...</td>\n",
       "    </tr>\n",
       "    <tr>\n",
       "      <th>8</th>\n",
       "      <td>area double,PredefinedType^MethodDeclaration_P...</td>\n",
       "    </tr>\n",
       "    <tr>\n",
       "      <th>9</th>\n",
       "      <td>print|names void,PredefinedType^MethodDeclarat...</td>\n",
       "    </tr>\n",
       "    <tr>\n",
       "      <th>10</th>\n",
       "      <td>print|names void,PredefinedType^MethodDeclarat...</td>\n",
       "    </tr>\n",
       "    <tr>\n",
       "      <th>11</th>\n",
       "      <td>print|names void,PredefinedType^MethodDeclarat...</td>\n",
       "    </tr>\n",
       "    <tr>\n",
       "      <th>12</th>\n",
       "      <td>sum int,PredefinedType^MethodDeclaration_Param...</td>\n",
       "    </tr>\n",
       "    <tr>\n",
       "      <th>13</th>\n",
       "      <td>sum double,PredefinedType^MethodDeclaration_Pa...</td>\n",
       "    </tr>\n",
       "    <tr>\n",
       "      <th>14</th>\n",
       "      <td>sum int,PredefinedType^MethodDeclaration_Param...</td>\n",
       "    </tr>\n",
       "    <tr>\n",
       "      <th>15</th>\n",
       "      <td>write|line|placeholders void,PredefinedType^Me...</td>\n",
       "    </tr>\n",
       "    <tr>\n",
       "      <th>16</th>\n",
       "      <td>perimeter int,PredefinedType^MethodDeclaration...</td>\n",
       "    </tr>\n",
       "    <tr>\n",
       "      <th>17</th>\n",
       "      <td>sum int,PredefinedType^MethodDeclaration_Param...</td>\n",
       "    </tr>\n",
       "    <tr>\n",
       "      <th>18</th>\n",
       "      <td>multi int,PredefinedType^MethodDeclaration_Par...</td>\n",
       "    </tr>\n",
       "    <tr>\n",
       "      <th>19</th>\n",
       "      <td>connect|to|db void,PredefinedType^MethodDeclar...</td>\n",
       "    </tr>\n",
       "    <tr>\n",
       "      <th>20</th>\n",
       "      <td>modify|array void,PredefinedType^MethodDeclara...</td>\n",
       "    </tr>\n",
       "    <tr>\n",
       "      <th>21</th>\n",
       "      <td>area|and|perimeter|of|rectangle void,Predefine...</td>\n",
       "    </tr>\n",
       "  </tbody>\n",
       "</table>\n",
       "</div>"
      ],
      "text/plain": [
       "                                                 ASTS\n",
       "0   print|index|and|values void,PredefinedType^Met...\n",
       "1   printing|names void,PredefinedType^MethodDecla...\n",
       "2   colorful|write|line void,PredefinedType^Method...\n",
       "3   printing|names void,PredefinedType^MethodDecla...\n",
       "4   sort|three|numbers int,PredefinedType^ArrayTyp...\n",
       "5   addition int,PredefinedType^MethodDeclaration_...\n",
       "6   area double,PredefinedType^MethodDeclaration_P...\n",
       "7   area double,PredefinedType^MethodDeclaration_P...\n",
       "8   area double,PredefinedType^MethodDeclaration_P...\n",
       "9   print|names void,PredefinedType^MethodDeclarat...\n",
       "10  print|names void,PredefinedType^MethodDeclarat...\n",
       "11  print|names void,PredefinedType^MethodDeclarat...\n",
       "12  sum int,PredefinedType^MethodDeclaration_Param...\n",
       "13  sum double,PredefinedType^MethodDeclaration_Pa...\n",
       "14  sum int,PredefinedType^MethodDeclaration_Param...\n",
       "15  write|line|placeholders void,PredefinedType^Me...\n",
       "16  perimeter int,PredefinedType^MethodDeclaration...\n",
       "17  sum int,PredefinedType^MethodDeclaration_Param...\n",
       "18  multi int,PredefinedType^MethodDeclaration_Par...\n",
       "19  connect|to|db void,PredefinedType^MethodDeclar...\n",
       "20  modify|array void,PredefinedType^MethodDeclara...\n",
       "21  area|and|perimeter|of|rectangle void,Predefine..."
      ]
     },
     "execution_count": 2,
     "metadata": {},
     "output_type": "execute_result"
    }
   ],
   "source": [
    "df = pd.read_csv('results.txt',sep=\"\\n\")\n",
    "df"
   ]
  },
  {
   "cell_type": "code",
   "execution_count": 4,
   "id": "b49e4f63",
   "metadata": {
    "scrolled": false
   },
   "outputs": [
    {
     "data": {
      "text/plain": [
       "array([['print|index|and|values void,PredefinedType^MethodDeclaration_ParameterList_Parameter_IdentifierName,array void,PredefinedType^MethodDeclaration_ParameterList_Parameter,my|array void,PredefinedType^MethodDeclaration_Block_ForStatement_VariableDeclaration_VariableDeclarator_EqualsValueClause_InvocationExpression_SimpleMemberAccessExpression0_IdentifierName0,my|array void,PredefinedType^MethodDeclaration_Block_ForStatement_LessThanOrEqualExpression_InvocationExpression_SimpleMemberAccessExpression0_IdentifierName0,my|array void,PredefinedType^MethodDeclaration_Block_ForStatement_ExpressionStatement_InvocationExpression_ArgumentList1_Argument2_InvocationExpression_SimpleMemberAccessExpression0_IdentifierName0,my|array void,PredefinedType^MethodDeclaration_Block_ForStatement_VariableDeclaration_PredefinedType,int void,PredefinedType^MethodDeclaration_Block_ForStatement_VariableDeclaration_VariableDeclarator_EqualsValueClause_InvocationExpression_SimpleMemberAccessExpression0_IdentifierName1,get|lower|bound void,PredefinedType^MethodDeclaration_Block_ForStatement_VariableDeclaration_VariableDeclarator_EqualsValueClause_InvocationExpression_ArgumentList1_Argument0_NumericLiteralExpression,0 void,PredefinedType^MethodDeclaration_Block_ForStatement_LessThanOrEqualExpression_InvocationExpression_ArgumentList1_Argument0_NumericLiteralExpression,0 void,PredefinedType^MethodDeclaration_Block_ForStatement_VariableDeclaration_VariableDeclarator,i void,PredefinedType^MethodDeclaration_Block_ForStatement_LessThanOrEqualExpression_IdentifierName,i void,PredefinedType^MethodDeclaration_Block_ForStatement_PostIncrementExpression_IdentifierName,i void,PredefinedType^MethodDeclaration_Block_ForStatement_ExpressionStatement_InvocationExpression_ArgumentList1_Argument1_IdentifierName,i void,PredefinedType^MethodDeclaration_Block_ForStatement_ExpressionStatement_InvocationExpression_ArgumentList1_Argument2_InvocationExpression_ArgumentList1_Argument0_IdentifierName,i void,PredefinedType^MethodDeclaration_Block_ForStatement_LessThanOrEqualExpression_InvocationExpression_SimpleMemberAccessExpression0_IdentifierName1,get|upper|bound void,PredefinedType^MethodDeclaration_Block_ForStatement_ExpressionStatement_InvocationExpression_SimpleMemberAccessExpression0_IdentifierName0,console void,PredefinedType^MethodDeclaration_Block_ForStatement_ExpressionStatement_InvocationExpression_SimpleMemberAccessExpression0_IdentifierName1,write|line void,PredefinedType^MethodDeclaration_Block_ForStatement_ExpressionStatement_InvocationExpression_ArgumentList1_Argument0_StringLiteralExpression,SPACE void,PredefinedType^MethodDeclaration_Block_ForStatement_ExpressionStatement_InvocationExpression_ArgumentList1_Argument2_InvocationExpression_SimpleMemberAccessExpression0_IdentifierName1,get|value void,PredefinedType^MethodDeclaration,METHOD_NAME array,IdentifierName^Parameter,my|array array,IdentifierName^Parameter^ParameterList^MethodDeclaration_Block_ForStatement_VariableDeclaration_VariableDeclarator_EqualsValueClause_InvocationExpression_SimpleMemberAccessExpression0_IdentifierName0,my|array array,IdentifierName^Parameter^ParameterList^MethodDeclaration_Block_ForStatement_LessThanOrEqualExpression_InvocationExpression_SimpleMemberAccessExpression0_IdentifierName0,my|array array,IdentifierName^Parameter^ParameterList^MethodDeclaration_Block_ForStatement_ExpressionStatement_InvocationExpression_ArgumentList1_Argument2_InvocationExpression_SimpleMemberAccessExpression0_IdentifierName0,my|array array,IdentifierName^Parameter^ParameterList^MethodDeclaration_Block_ForStatement_VariableDeclaration_PredefinedType,int array,IdentifierName^Parameter^ParameterList^MethodDeclaration_Block_ForStatement_VariableDeclaration_VariableDeclarator_EqualsValueClause_InvocationExpression_SimpleMemberAccessExpression0_IdentifierName1,get|lower|bound array,IdentifierName^Parameter^ParameterList^MethodDeclaration_Block_ForStatement_VariableDeclaration_VariableDeclarator_EqualsValueClause_InvocationExpression_ArgumentList1_Argument0_NumericLiteralExpression,0 array,IdentifierName^Parameter^ParameterList^MethodDeclaration_Block_ForStatement_LessThanOrEqualExpression_InvocationExpression_ArgumentList1_Argument0_NumericLiteralExpression,0 array,IdentifierName^Parameter^ParameterList^MethodDeclaration_Block_ForStatement_VariableDeclaration_VariableDeclarator,i array,IdentifierName^Parameter^ParameterList^MethodDeclaration_Block_ForStatement_LessThanOrEqualExpression_IdentifierName,i array,IdentifierName^Parameter^ParameterList^MethodDeclaration_Block_ForStatement_PostIncrementExpression_IdentifierName,i array,IdentifierName^Parameter^ParameterList^MethodDeclaration_Block_ForStatement_ExpressionStatement_InvocationExpression_ArgumentList1_Argument1_IdentifierName,i array,IdentifierName^Parameter^ParameterList^MethodDeclaration_Block_ForStatement_ExpressionStatement_InvocationExpression_ArgumentList1_Argument2_InvocationExpression_ArgumentList1_Argument0_IdentifierName,i array,IdentifierName^Parameter^ParameterList^MethodDeclaration_Block_ForStatement_LessThanOrEqualExpression_InvocationExpression_SimpleMemberAccessExpression0_IdentifierName1,get|upper|bound array,IdentifierName^Parameter^ParameterList^MethodDeclaration_Block_ForStatement_ExpressionStatement_InvocationExpression_SimpleMemberAccessExpression0_IdentifierName0,console array,IdentifierName^Parameter^ParameterList^MethodDeclaration_Block_ForStatement_ExpressionStatement_InvocationExpression_SimpleMemberAccessExpression0_IdentifierName1,write|line array,IdentifierName^Parameter^ParameterList^MethodDeclaration_Block_ForStatement_ExpressionStatement_InvocationExpression_ArgumentList1_Argument0_StringLiteralExpression,SPACE array,IdentifierName^Parameter^ParameterList^MethodDeclaration_Block_ForStatement_ExpressionStatement_InvocationExpression_ArgumentList1_Argument2_InvocationExpression_SimpleMemberAccessExpression0_IdentifierName1,get|value array,IdentifierName^Parameter^ParameterList^MethodDeclaration,METHOD_NAME my|array,Parameter^ParameterList^MethodDeclaration_Block_ForStatement_VariableDeclaration_PredefinedType,int my|array,IdentifierName0^SimpleMemberAccessExpression0^InvocationExpression^EqualsValueClause^VariableDeclarator^VariableDeclaration_PredefinedType,int my|array,IdentifierName0^SimpleMemberAccessExpression0^InvocationExpression^LessThanOrEqualExpression^ForStatement_VariableDeclaration_PredefinedType,int my|array,IdentifierName0^SimpleMemberAccessExpression0^InvocationExpression^Argument2^ArgumentList1^InvocationExpression^ExpressionStatement^ForStatement_VariableDeclaration_PredefinedType,int my|array,Parameter^ParameterList^MethodDeclaration_Block_ForStatement_VariableDeclaration_VariableDeclarator_EqualsValueClause_InvocationExpression_SimpleMemberAccessExpression0_IdentifierName1,get|lower|bound my|array,IdentifierName0^SimpleMemberAccessExpression_IdentifierName1,get|lower|bound my|array,IdentifierName0^SimpleMemberAccessExpression0^InvocationExpression^LessThanOrEqualExpression^ForStatement_VariableDeclaration_VariableDeclarator_EqualsValueClause_InvocationExpression_SimpleMemberAccessExpression0_IdentifierName1,get|lower|bound my|array,IdentifierName0^SimpleMemberAccessExpression0^InvocationExpression^Argument2^ArgumentList1^InvocationExpression^ExpressionStatement^ForStatement_VariableDeclaration_VariableDeclarator_EqualsValueClause_InvocationExpression_SimpleMemberAccessExpression0_IdentifierName1,get|lower|bound my|array,Parameter^ParameterList^MethodDeclaration_Block_ForStatement_VariableDeclaration_VariableDeclarator_EqualsValueClause_InvocationExpression_ArgumentList1_Argument0_NumericLiteralExpression,0 my|array,IdentifierName0^SimpleMemberAccessExpression0^InvocationExpression_ArgumentList1_Argument0_NumericLiteralExpression,0 my|array,IdentifierName0^SimpleMemberAccessExpression0^InvocationExpression^LessThanOrEqualExpression^ForStatement_VariableDeclaration_VariableDeclarator_EqualsValueClause_InvocationExpression_ArgumentList1_Argument0_NumericLiteralExpression,0 my|array,IdentifierName0^SimpleMemberAccessExpression0^InvocationExpression^Argument2^ArgumentList1^InvocationExpression^ExpressionStatement^ForStatement_VariableDeclaration_VariableDeclarator_EqualsValueClause_InvocationExpression_ArgumentList1_Argument0_NumericLiteralExpression,0 my|array,Parameter^ParameterList^MethodDeclaration_Block_ForStatement_LessThanOrEqualExpression_InvocationExpression_ArgumentList1_Argument0_NumericLiteralExpression,0 my|array,IdentifierName0^SimpleMemberAccessExpression0^InvocationExpression^EqualsValueClause^VariableDeclarator^VariableDeclaration^ForStatement_LessThanOrEqualExpression_InvocationExpression_ArgumentList1_Argument0_NumericLiteralExpression,0 my|array,IdentifierName0^SimpleMemberAccessExpression0^InvocationExpression_ArgumentList1_Argument0_NumericLiteralExpression,0 my|array,IdentifierName0^SimpleMemberAccessExpression0^InvocationExpression^Argument2^ArgumentList1^InvocationExpression^ExpressionStatement^ForStatement_LessThanOrEqualExpression_InvocationExpression_ArgumentList1_Argument0_NumericLiteralExpression,0 my|array,Parameter^ParameterList^MethodDeclaration_Block_ForStatement_VariableDeclaration_VariableDeclarator,i my|array,IdentifierName0^SimpleMemberAccessExpression0^InvocationExpression^EqualsValueClause^VariableDeclarator,i my|array,IdentifierName0^SimpleMemberAccessExpression0^InvocationExpression^LessThanOrEqualExpression^ForStatement_VariableDeclaration_VariableDeclarator,i my|array,IdentifierName0^SimpleMemberAccessExpression0^InvocationExpression^Argument2^ArgumentList1^InvocationExpression^ExpressionStatement^ForStatement_VariableDeclaration_VariableDeclarator,i my|array,Parameter^ParameterList^MethodDeclaration_Block_ForStatement_LessThanOrEqualExpression_IdentifierName,i my|array,IdentifierName0^SimpleMemberAccessExpression0^InvocationExpression^EqualsValueClause^VariableDeclarator^VariableDeclaration^ForStatement_LessThanOrEqualExpression_IdentifierName,i my|array,IdentifierName0^SimpleMemberAccessExpression0^InvocationExpression^LessThanOrEqualExpression_IdentifierName,i my|array,IdentifierName0^SimpleMemberAccessExpression0^InvocationExpression^Argument2^ArgumentList1^InvocationExpression^ExpressionStatement^ForStatement_LessThanOrEqualExpression_IdentifierName,i my|array,Parameter^ParameterList^MethodDeclaration_Block_ForStatement_PostIncrementExpression_IdentifierName,i my|array,IdentifierName0^SimpleMemberAccessExpression0^InvocationExpression^EqualsValueClause^VariableDeclarator^VariableDeclaration^ForStatement_PostIncrementExpression_IdentifierName,i my|array,IdentifierName0^SimpleMemberAccessExpression0^InvocationExpression^LessThanOrEqualExpression^ForStatement_PostIncrementExpression_IdentifierName,i my|array,IdentifierName0^SimpleMemberAccessExpression0^InvocationExpression^Argument2^ArgumentList1^InvocationExpression^ExpressionStatement^ForStatement_PostIncrementExpression_IdentifierName,i my|array,Parameter^ParameterList^MethodDeclaration_Block_ForStatement_ExpressionStatement_InvocationExpression_ArgumentList1_Argument1_IdentifierName,i my|array,IdentifierName0^SimpleMemberAccessExpression0^InvocationExpression^EqualsValueClause^VariableDeclarator^VariableDeclaration^ForStatement_ExpressionStatement_InvocationExpression_ArgumentList1_Argument1_IdentifierName,i my|array,IdentifierName0^SimpleMemberAccessExpression0^InvocationExpression^LessThanOrEqualExpression^ForStatement_ExpressionStatement_InvocationExpression_ArgumentList1_Argument1_IdentifierName,i my|array,IdentifierName0^SimpleMemberAccessExpression0^InvocationExpression^Argument2^ArgumentList_Argument1_IdentifierName,i my|array,Parameter^ParameterList^MethodDeclaration_Block_ForStatement_ExpressionStatement_InvocationExpression_ArgumentList1_Argument2_InvocationExpression_ArgumentList1_Argument0_IdentifierName,i my|array,IdentifierName0^SimpleMemberAccessExpression0^InvocationExpression^EqualsValueClause^VariableDeclarator^VariableDeclaration^ForStatement_ExpressionStatement_InvocationExpression_ArgumentList1_Argument2_InvocationExpression_ArgumentList1_Argument0_IdentifierName,i my|array,IdentifierName0^SimpleMemberAccessExpression0^InvocationExpression^LessThanOrEqualExpression^ForStatement_ExpressionStatement_InvocationExpression_ArgumentList1_Argument2_InvocationExpression_ArgumentList1_Argument0_IdentifierName,i my|array,IdentifierName0^SimpleMemberAccessExpression0^InvocationExpression_ArgumentList1_Argument0_IdentifierName,i my|array,Parameter^ParameterList^MethodDeclaration_Block_ForStatement_LessThanOrEqualExpression_InvocationExpression_SimpleMemberAccessExpression0_IdentifierName1,get|upper|bound my|array,IdentifierName0^SimpleMemberAccessExpression0^InvocationExpression^EqualsValueClause^VariableDeclarator^VariableDeclaration^ForStatement_LessThanOrEqualExpression_InvocationExpression_SimpleMemberAccessExpression0_IdentifierName1,get|upper|bound my|array,IdentifierName0^SimpleMemberAccessExpression_IdentifierName1,get|upper|bound my|array,IdentifierName0^SimpleMemberAccessExpression0^InvocationExpression^Argument2^ArgumentList1^InvocationExpression^ExpressionStatement^ForStatement_LessThanOrEqualExpression_InvocationExpression_SimpleMemberAccessExpression0_IdentifierName1,get|upper|bound my|array,Parameter^ParameterList^MethodDeclaration_Block_ForStatement_ExpressionStatement_InvocationExpression_SimpleMemberAccessExpression0_IdentifierName0,console my|array,IdentifierName0^SimpleMemberAccessExpression0^InvocationExpression^EqualsValueClause^VariableDeclarator^VariableDeclaration^ForStatement_ExpressionStatement_InvocationExpression_SimpleMemberAccessExpression0_IdentifierName0,console my|array,IdentifierName0^SimpleMemberAccessExpression0^InvocationExpression^LessThanOrEqualExpression^ForStatement_ExpressionStatement_InvocationExpression_SimpleMemberAccessExpression0_IdentifierName0,console my|array,IdentifierName0^SimpleMemberAccessExpression0^InvocationExpression^Argument2^ArgumentList1^InvocationExpression_SimpleMemberAccessExpression0_IdentifierName0,console my|array,Parameter^ParameterList^MethodDeclaration_Block_ForStatement_ExpressionStatement_InvocationExpression_SimpleMemberAccessExpression0_IdentifierName1,write|line my|array,IdentifierName0^SimpleMemberAccessExpression0^InvocationExpression^EqualsValueClause^VariableDeclarator^VariableDeclaration^ForStatement_ExpressionStatement_InvocationExpression_SimpleMemberAccessExpression0_IdentifierName1,write|line my|array,IdentifierName0^SimpleMemberAccessExpression0^InvocationExpression^LessThanOrEqualExpression^ForStatement_ExpressionStatement_InvocationExpression_SimpleMemberAccessExpression0_IdentifierName1,write|line my|array,IdentifierName0^SimpleMemberAccessExpression0^InvocationExpression^Argument2^ArgumentList1^InvocationExpression_SimpleMemberAccessExpression0_IdentifierName1,write|line my|array,Parameter^ParameterList^MethodDeclaration_Block_ForStatement_ExpressionStatement_InvocationExpression_ArgumentList1_Argument0_StringLiteralExpression,SPACE my|array,IdentifierName0^SimpleMemberAccessExpression0^InvocationExpression^EqualsValueClause^VariableDeclarator^VariableDeclaration^ForStatement_ExpressionStatement_InvocationExpression_ArgumentList1_Argument0_StringLiteralExpression,SPACE my|array,IdentifierName0^SimpleMemberAccessExpression0^InvocationExpression^LessThanOrEqualExpression^ForStatement_ExpressionStatement_InvocationExpression_ArgumentList1_Argument0_StringLiteralExpression,SPACE my|array,IdentifierName0^SimpleMemberAccessExpression0^InvocationExpression^Argument2^ArgumentList_Argument0_StringLiteralExpression,SPACE my|array,Parameter^ParameterList^MethodDeclaration_Block_ForStatement_ExpressionStatement_InvocationExpression_ArgumentList1_Argument2_InvocationExpression_SimpleMemberAccessExpression0_IdentifierName1,get|value my|array,IdentifierName0^SimpleMemberAccessExpression0^InvocationExpression^EqualsValueClause^VariableDeclarator^VariableDeclaration^ForStatement_ExpressionStatement_InvocationExpression_ArgumentList1_Argument2_InvocationExpression_SimpleMemberAccessExpression0_IdentifierName1,get|value my|array,IdentifierName0^SimpleMemberAccessExpression0^InvocationExpression^LessThanOrEqualExpression^ForStatement_ExpressionStatement_InvocationExpression_ArgumentList1_Argument2_InvocationExpression_SimpleMemberAccessExpression0_IdentifierName1,get|value my|array,IdentifierName0^SimpleMemberAccessExpression_IdentifierName1,get|value my|array,Parameter^ParameterList^MethodDeclaration,METHOD_NAME my|array,IdentifierName0^SimpleMemberAccessExpression0^InvocationExpression^EqualsValueClause^VariableDeclarator^VariableDeclaration^ForStatement^Block^MethodDeclaration,METHOD_NAME my|array,IdentifierName0^SimpleMemberAccessExpression0^InvocationExpression^LessThanOrEqualExpression^ForStatement^Block^MethodDeclaration,METHOD_NAME my|array,IdentifierName0^SimpleMemberAccessExpression0^InvocationExpression^Argument2^ArgumentList1^InvocationExpression^ExpressionStatement^ForStatement^Block^MethodDeclaration,METHOD_NAME int,PredefinedType^VariableDeclaration_VariableDeclarator_EqualsValueClause_InvocationExpression_SimpleMemberAccessExpression0_IdentifierName1,get|lower|bound int,PredefinedType^VariableDeclaration_VariableDeclarator_EqualsValueClause_InvocationExpression_ArgumentList1_Argument0_NumericLiteralExpression,0 int,PredefinedType^VariableDeclaration^ForStatement_LessThanOrEqualExpression_InvocationExpression_ArgumentList1_Argument0_NumericLiteralExpression,0 int,PredefinedType^VariableDeclaration_VariableDeclarator,i int,PredefinedType^VariableDeclaration^ForStatement_LessThanOrEqualExpression_IdentifierName,i int,PredefinedType^VariableDeclaration^ForStatement_PostIncrementExpression_IdentifierName,i int,PredefinedType^VariableDeclaration^ForStatement_ExpressionStatement_InvocationExpression_ArgumentList1_Argument1_IdentifierName,i int,PredefinedType^VariableDeclaration^ForStatement_ExpressionStatement_InvocationExpression_ArgumentList1_Argument2_InvocationExpression_ArgumentList1_Argument0_IdentifierName,i int,PredefinedType^VariableDeclaration^ForStatement_LessThanOrEqualExpression_InvocationExpression_SimpleMemberAccessExpression0_IdentifierName1,get|upper|bound int,PredefinedType^VariableDeclaration^ForStatement_ExpressionStatement_InvocationExpression_SimpleMemberAccessExpression0_IdentifierName0,console int,PredefinedType^VariableDeclaration^ForStatement_ExpressionStatement_InvocationExpression_SimpleMemberAccessExpression0_IdentifierName1,write|line int,PredefinedType^VariableDeclaration^ForStatement_ExpressionStatement_InvocationExpression_ArgumentList1_Argument0_StringLiteralExpression,SPACE int,PredefinedType^VariableDeclaration^ForStatement_ExpressionStatement_InvocationExpression_ArgumentList1_Argument2_InvocationExpression_SimpleMemberAccessExpression0_IdentifierName1,get|value int,PredefinedType^VariableDeclaration^ForStatement^Block^MethodDeclaration,METHOD_NAME get|lower|bound,IdentifierName1^SimpleMemberAccessExpression0^InvocationExpression_ArgumentList1_Argument0_NumericLiteralExpression,0 get|lower|bound,IdentifierName1^SimpleMemberAccessExpression0^InvocationExpression^EqualsValueClause^VariableDeclarator^VariableDeclaration^ForStatement_LessThanOrEqualExpression_InvocationExpression_ArgumentList1_Argument0_NumericLiteralExpression,0 get|lower|bound,IdentifierName1^SimpleMemberAccessExpression0^InvocationExpression^EqualsValueClause^VariableDeclarator,i get|lower|bound,IdentifierName1^SimpleMemberAccessExpression0^InvocationExpression^EqualsValueClause^VariableDeclarator^VariableDeclaration^ForStatement_LessThanOrEqualExpression_IdentifierName,i get|lower|bound,IdentifierName1^SimpleMemberAccessExpression0^InvocationExpression^EqualsValueClause^VariableDeclarator^VariableDeclaration^ForStatement_PostIncrementExpression_IdentifierName,i get|lower|bound,IdentifierName1^SimpleMemberAccessExpression0^InvocationExpression^EqualsValueClause^VariableDeclarator^VariableDeclaration^ForStatement_ExpressionStatement_InvocationExpression_ArgumentList1_Argument1_IdentifierName,i get|lower|bound,IdentifierName1^SimpleMemberAccessExpression0^InvocationExpression^EqualsValueClause^VariableDeclarator^VariableDeclaration^ForStatement_ExpressionStatement_InvocationExpression_ArgumentList1_Argument2_InvocationExpression_ArgumentList1_Argument0_IdentifierName,i get|lower|bound,IdentifierName1^SimpleMemberAccessExpression0^InvocationExpression^EqualsValueClause^VariableDeclarator^VariableDeclaration^ForStatement_LessThanOrEqualExpression_InvocationExpression_SimpleMemberAccessExpression0_IdentifierName1,get|upper|bound get|lower|bound,IdentifierName1^SimpleMemberAccessExpression0^InvocationExpression^EqualsValueClause^VariableDeclarator^VariableDeclaration^ForStatement_ExpressionStatement_InvocationExpression_SimpleMemberAccessExpression0_IdentifierName0,console get|lower|bound,IdentifierName1^SimpleMemberAccessExpression0^InvocationExpression^EqualsValueClause^VariableDeclarator^VariableDeclaration^ForStatement_ExpressionStatement_InvocationExpression_SimpleMemberAccessExpression0_IdentifierName1,write|line get|lower|bound,IdentifierName1^SimpleMemberAccessExpression0^InvocationExpression^EqualsValueClause^VariableDeclarator^VariableDeclaration^ForStatement_ExpressionStatement_InvocationExpression_ArgumentList1_Argument0_StringLiteralExpression,SPACE get|lower|bound,IdentifierName1^SimpleMemberAccessExpression0^InvocationExpression^EqualsValueClause^VariableDeclarator^VariableDeclaration^ForStatement_ExpressionStatement_InvocationExpression_ArgumentList1_Argument2_InvocationExpression_SimpleMemberAccessExpression0_IdentifierName1,get|value get|lower|bound,IdentifierName1^SimpleMemberAccessExpression0^InvocationExpression^EqualsValueClause^VariableDeclarator^VariableDeclaration^ForStatement^Block^MethodDeclaration,METHOD_NAME 0,NumericLiteralExpression^Argument0^ArgumentList1^InvocationExpression^EqualsValueClause^VariableDeclarator,i 0,NumericLiteralExpression^Argument0^ArgumentList1^InvocationExpression^LessThanOrEqualExpression^ForStatement_VariableDeclaration_VariableDeclarator,i 0,NumericLiteralExpression^Argument0^ArgumentList1^InvocationExpression^EqualsValueClause^VariableDeclarator^VariableDeclaration^ForStatement_LessThanOrEqualExpression_IdentifierName,i 0,NumericLiteralExpression^Argument0^ArgumentList1^InvocationExpression^LessThanOrEqualExpression_IdentifierName,i 0,NumericLiteralExpression^Argument0^ArgumentList1^InvocationExpression^EqualsValueClause^VariableDeclarator^VariableDeclaration^ForStatement_PostIncrementExpression_IdentifierName,i 0,NumericLiteralExpression^Argument0^ArgumentList1^InvocationExpression^LessThanOrEqualExpression^ForStatement_PostIncrementExpression_IdentifierName,i 0,NumericLiteralExpression^Argument0^ArgumentList1^InvocationExpression^EqualsValueClause^VariableDeclarator^VariableDeclaration^ForStatement_ExpressionStatement_InvocationExpression_ArgumentList1_Argument1_IdentifierName,i 0,NumericLiteralExpression^Argument0^ArgumentList1^InvocationExpression^LessThanOrEqualExpression^ForStatement_ExpressionStatement_InvocationExpression_ArgumentList1_Argument1_IdentifierName,i 0,NumericLiteralExpression^Argument0^ArgumentList1^InvocationExpression^EqualsValueClause^VariableDeclarator^VariableDeclaration^ForStatement_ExpressionStatement_InvocationExpression_ArgumentList1_Argument2_InvocationExpression_ArgumentList1_Argument0_IdentifierName,i 0,NumericLiteralExpression^Argument0^ArgumentList1^InvocationExpression^LessThanOrEqualExpression^ForStatement_ExpressionStatement_InvocationExpression_ArgumentList1_Argument2_InvocationExpression_ArgumentList1_Argument0_IdentifierName,i 0,NumericLiteralExpression^Argument0^ArgumentList1^InvocationExpression^EqualsValueClause^VariableDeclarator^VariableDeclaration^ForStatement_LessThanOrEqualExpression_InvocationExpression_SimpleMemberAccessExpression0_IdentifierName1,get|upper|bound 0,NumericLiteralExpression^Argument0^ArgumentList1^InvocationExpression_SimpleMemberAccessExpression0_IdentifierName1,get|upper|bound 0,NumericLiteralExpression^Argument0^ArgumentList1^InvocationExpression^EqualsValueClause^VariableDeclarator^VariableDeclaration^ForStatement_ExpressionStatement_InvocationExpression_SimpleMemberAccessExpression0_IdentifierName0,console 0,NumericLiteralExpression^Argument0^ArgumentList1^InvocationExpression^LessThanOrEqualExpression^ForStatement_ExpressionStatement_InvocationExpression_SimpleMemberAccessExpression0_IdentifierName0,console 0,NumericLiteralExpression^Argument0^ArgumentList1^InvocationExpression^EqualsValueClause^VariableDeclarator^VariableDeclaration^ForStatement_ExpressionStatement_InvocationExpression_SimpleMemberAccessExpression0_IdentifierName1,write|line 0,NumericLiteralExpression^Argument0^ArgumentList1^InvocationExpression^LessThanOrEqualExpression^ForStatement_ExpressionStatement_InvocationExpression_SimpleMemberAccessExpression0_IdentifierName1,write|line 0,NumericLiteralExpression^Argument0^ArgumentList1^InvocationExpression^EqualsValueClause^VariableDeclarator^VariableDeclaration^ForStatement_ExpressionStatement_InvocationExpression_ArgumentList1_Argument0_StringLiteralExpression,SPACE 0,NumericLiteralExpression^Argument0^ArgumentList1^InvocationExpression^LessThanOrEqualExpression^ForStatement_ExpressionStatement_InvocationExpression_ArgumentList1_Argument0_StringLiteralExpression,SPACE 0,NumericLiteralExpression^Argument0^ArgumentList1^InvocationExpression^EqualsValueClause^VariableDeclarator^VariableDeclaration^ForStatement_ExpressionStatement_InvocationExpression_ArgumentList1_Argument2_InvocationExpression_SimpleMemberAccessExpression0_IdentifierName1,get|value 0,NumericLiteralExpression^Argument0^ArgumentList1^InvocationExpression^LessThanOrEqualExpression^ForStatement_ExpressionStatement_InvocationExpression_ArgumentList1_Argument2_InvocationExpression_SimpleMemberAccessExpression0_IdentifierName1,get|value 0,NumericLiteralExpression^Argument0^ArgumentList1^InvocationExpression^EqualsValueClause^VariableDeclarator^VariableDeclaration^ForStatement^Block^MethodDeclaration,METHOD_NAME 0,NumericLiteralExpression^Argument0^ArgumentList1^InvocationExpression^LessThanOrEqualExpression^ForStatement^Block^MethodDeclaration,METHOD_NAME i,VariableDeclarator^VariableDeclaration^ForStatement_LessThanOrEqualExpression_InvocationExpression_SimpleMemberAccessExpression0_IdentifierName1,get|upper|bound i,IdentifierName^LessThanOrEqualExpression_InvocationExpression_SimpleMemberAccessExpression0_IdentifierName1,get|upper|bound i,IdentifierName^PostIncrementExpression^ForStatement_LessThanOrEqualExpression_InvocationExpression_SimpleMemberAccessExpression0_IdentifierName1,get|upper|bound i,IdentifierName^Argument1^ArgumentList1^InvocationExpression^ExpressionStatement^ForStatement_LessThanOrEqualExpression_InvocationExpression_SimpleMemberAccessExpression0_IdentifierName1,get|upper|bound i,IdentifierName^Argument0^ArgumentList1^InvocationExpression^Argument2^ArgumentList1^InvocationExpression^ExpressionStatement^ForStatement_LessThanOrEqualExpression_InvocationExpression_SimpleMemberAccessExpression0_IdentifierName1,get|upper|bound i,VariableDeclarator^VariableDeclaration^ForStatement_ExpressionStatement_InvocationExpression_SimpleMemberAccessExpression0_IdentifierName0,console i,IdentifierName^LessThanOrEqualExpression^ForStatement_ExpressionStatement_InvocationExpression_SimpleMemberAccessExpression0_IdentifierName0,console i,IdentifierName^PostIncrementExpression^ForStatement_ExpressionStatement_InvocationExpression_SimpleMemberAccessExpression0_IdentifierName0,console i,IdentifierName^Argument1^ArgumentList1^InvocationExpression_SimpleMemberAccessExpression0_IdentifierName0,console i,IdentifierName^Argument0^ArgumentList1^InvocationExpression^Argument2^ArgumentList1^InvocationExpression_SimpleMemberAccessExpression0_IdentifierName0,console i,VariableDeclarator^VariableDeclaration^ForStatement_ExpressionStatement_InvocationExpression_SimpleMemberAccessExpression0_IdentifierName1,write|line i,IdentifierName^LessThanOrEqualExpression^ForStatement_ExpressionStatement_InvocationExpression_SimpleMemberAccessExpression0_IdentifierName1,write|line i,IdentifierName^PostIncrementExpression^ForStatement_ExpressionStatement_InvocationExpression_SimpleMemberAccessExpression0_IdentifierName1,write|line i,IdentifierName^Argument1^ArgumentList1^InvocationExpression_SimpleMemberAccessExpression0_IdentifierName1,write|line i,IdentifierName^Argument0^ArgumentList1^InvocationExpression^Argument2^ArgumentList1^InvocationExpression_SimpleMemberAccessExpression0_IdentifierName1,write|line i,VariableDeclarator^VariableDeclaration^ForStatement_ExpressionStatement_InvocationExpression_ArgumentList1_Argument0_StringLiteralExpression,SPACE i,IdentifierName^LessThanOrEqualExpression^ForStatement_ExpressionStatement_InvocationExpression_ArgumentList1_Argument0_StringLiteralExpression,SPACE i,IdentifierName^PostIncrementExpression^ForStatement_ExpressionStatement_InvocationExpression_ArgumentList1_Argument0_StringLiteralExpression,SPACE i,IdentifierName^Argument1^ArgumentList_Argument0_StringLiteralExpression,SPACE i,IdentifierName^Argument0^ArgumentList1^InvocationExpression^Argument2^ArgumentList_Argument0_StringLiteralExpression,SPACE i,VariableDeclarator^VariableDeclaration^ForStatement_ExpressionStatement_InvocationExpression_ArgumentList1_Argument2_InvocationExpression_SimpleMemberAccessExpression0_IdentifierName1,get|value i,IdentifierName^LessThanOrEqualExpression^ForStatement_ExpressionStatement_InvocationExpression_ArgumentList1_Argument2_InvocationExpression_SimpleMemberAccessExpression0_IdentifierName1,get|value i,IdentifierName^PostIncrementExpression^ForStatement_ExpressionStatement_InvocationExpression_ArgumentList1_Argument2_InvocationExpression_SimpleMemberAccessExpression0_IdentifierName1,get|value i,IdentifierName^Argument1^ArgumentList_Argument2_InvocationExpression_SimpleMemberAccessExpression0_IdentifierName1,get|value i,IdentifierName^Argument0^ArgumentList1^InvocationExpression_SimpleMemberAccessExpression0_IdentifierName1,get|value i,VariableDeclarator^VariableDeclaration^ForStatement^Block^MethodDeclaration,METHOD_NAME i,IdentifierName^LessThanOrEqualExpression^ForStatement^Block^MethodDeclaration,METHOD_NAME i,IdentifierName^PostIncrementExpression^ForStatement^Block^MethodDeclaration,METHOD_NAME i,IdentifierName^Argument1^ArgumentList1^InvocationExpression^ExpressionStatement^ForStatement^Block^MethodDeclaration,METHOD_NAME i,IdentifierName^Argument0^ArgumentList1^InvocationExpression^Argument2^ArgumentList1^InvocationExpression^ExpressionStatement^ForStatement^Block^MethodDeclaration,METHOD_NAME get|upper|bound,IdentifierName1^SimpleMemberAccessExpression0^InvocationExpression^LessThanOrEqualExpression^ForStatement_ExpressionStatement_InvocationExpression_SimpleMemberAccessExpression0_IdentifierName0,console get|upper|bound,IdentifierName1^SimpleMemberAccessExpression0^InvocationExpression^LessThanOrEqualExpression^ForStatement_ExpressionStatement_InvocationExpression_SimpleMemberAccessExpression0_IdentifierName1,write|line get|upper|bound,IdentifierName1^SimpleMemberAccessExpression0^InvocationExpression^LessThanOrEqualExpression^ForStatement_ExpressionStatement_InvocationExpression_ArgumentList1_Argument0_StringLiteralExpression,SPACE get|upper|bound,IdentifierName1^SimpleMemberAccessExpression0^InvocationExpression^LessThanOrEqualExpression^ForStatement_ExpressionStatement_InvocationExpression_ArgumentList1_Argument2_InvocationExpression_SimpleMemberAccessExpression0_IdentifierName1,get|value get|upper|bound,IdentifierName1^SimpleMemberAccessExpression0^InvocationExpression^LessThanOrEqualExpression^ForStatement^Block^MethodDeclaration,METHOD_NAME console,IdentifierName0^SimpleMemberAccessExpression_IdentifierName1,write|line console,IdentifierName0^SimpleMemberAccessExpression0^InvocationExpression_ArgumentList1_Argument0_StringLiteralExpression,SPACE console,IdentifierName0^SimpleMemberAccessExpression0^InvocationExpression_ArgumentList1_Argument2_InvocationExpression_SimpleMemberAccessExpression0_IdentifierName1,get|value console,IdentifierName0^SimpleMemberAccessExpression0^InvocationExpression^ExpressionStatement^ForStatement^Block^MethodDeclaration,METHOD_NAME write|line,IdentifierName1^SimpleMemberAccessExpression0^InvocationExpression_ArgumentList1_Argument0_StringLiteralExpression,SPACE write|line,IdentifierName1^SimpleMemberAccessExpression0^InvocationExpression_ArgumentList1_Argument2_InvocationExpression_SimpleMemberAccessExpression0_IdentifierName1,get|value write|line,IdentifierName1^SimpleMemberAccessExpression0^InvocationExpression^ExpressionStatement^ForStatement^Block^MethodDeclaration,METHOD_NAME SPACE,StringLiteralExpression^Argument0^ArgumentList_Argument2_InvocationExpression_SimpleMemberAccessExpression0_IdentifierName1,get|value SPACE,StringLiteralExpression^Argument0^ArgumentList1^InvocationExpression^ExpressionStatement^ForStatement^Block^MethodDeclaration,METHOD_NAME get|value,IdentifierName1^SimpleMemberAccessExpression0^InvocationExpression^Argument2^ArgumentList1^InvocationExpression^ExpressionStatement^ForStatement^Block^MethodDeclaration,METHOD_NAME my|array,IdentifierName0^SimpleMemberAccessExpression0^InvocationExpression^EqualsValueClause^VariableDeclarator^VariableDeclaration^ForStatement^Block^MethodDeclaration_ParameterList_Parameter,my|array my|array,IdentifierName0^SimpleMemberAccessExpression0^InvocationExpression^LessThanOrEqualExpression^ForStatement^Block^MethodDeclaration_ParameterList_Parameter,my|array my|array,IdentifierName0^SimpleMemberAccessExpression0^InvocationExpression^Argument2^ArgumentList1^InvocationExpression^ExpressionStatement^ForStatement^Block^MethodDeclaration_ParameterList_Parameter,my|array my|array,Parameter^ParameterList^MethodDeclaration_Block_ForStatement_VariableDeclaration_VariableDeclarator_EqualsValueClause_InvocationExpression_SimpleMemberAccessExpression0_IdentifierName0,my|array my|array,IdentifierName0^SimpleMemberAccessExpression0^InvocationExpression^LessThanOrEqualExpression^ForStatement_VariableDeclaration_VariableDeclarator_EqualsValueClause_InvocationExpression_SimpleMemberAccessExpression0_IdentifierName0,my|array my|array,IdentifierName0^SimpleMemberAccessExpression0^InvocationExpression^Argument2^ArgumentList1^InvocationExpression^ExpressionStatement^ForStatement_VariableDeclaration_VariableDeclarator_EqualsValueClause_InvocationExpression_SimpleMemberAccessExpression0_IdentifierName0,my|array my|array,Parameter^ParameterList^MethodDeclaration_Block_ForStatement_LessThanOrEqualExpression_InvocationExpression_SimpleMemberAccessExpression0_IdentifierName0,my|array my|array,IdentifierName0^SimpleMemberAccessExpression0^InvocationExpression^EqualsValueClause^VariableDeclarator^VariableDeclaration^ForStatement_LessThanOrEqualExpression_InvocationExpression_SimpleMemberAccessExpression0_IdentifierName0,my|array my|array,IdentifierName0^SimpleMemberAccessExpression0^InvocationExpression^Argument2^ArgumentList1^InvocationExpression^ExpressionStatement^ForStatement_LessThanOrEqualExpression_InvocationExpression_SimpleMemberAccessExpression0_IdentifierName0,my|array my|array,Parameter^ParameterList^MethodDeclaration_Block_ForStatement_ExpressionStatement_InvocationExpression_ArgumentList1_Argument2_InvocationExpression_SimpleMemberAccessExpression0_IdentifierName0,my|array my|array,IdentifierName0^SimpleMemberAccessExpression0^InvocationExpression^EqualsValueClause^VariableDeclarator^VariableDeclaration^ForStatement_ExpressionStatement_InvocationExpression_ArgumentList1_Argument2_InvocationExpression_SimpleMemberAccessExpression0_IdentifierName0,my|array my|array,IdentifierName0^SimpleMemberAccessExpression0^InvocationExpression^LessThanOrEqualExpression^ForStatement_ExpressionStatement_InvocationExpression_ArgumentList1_Argument2_InvocationExpression_SimpleMemberAccessExpression0_IdentifierName0,my|array 0,NumericLiteralExpression^Argument0^ArgumentList1^InvocationExpression^LessThanOrEqualExpression^ForStatement_VariableDeclaration_VariableDeclarator_EqualsValueClause_InvocationExpression_ArgumentList1_Argument0_NumericLiteralExpression,0 0,NumericLiteralExpression^Argument0^ArgumentList1^InvocationExpression^EqualsValueClause^VariableDeclarator^VariableDeclaration^ForStatement_LessThanOrEqualExpression_InvocationExpression_ArgumentList1_Argument0_NumericLiteralExpression,0 i,IdentifierName^LessThanOrEqualExpression^ForStatement_VariableDeclaration_VariableDeclarator,i i,IdentifierName^PostIncrementExpression^ForStatement_VariableDeclaration_VariableDeclarator,i i,IdentifierName^Argument1^ArgumentList1^InvocationExpression^ExpressionStatement^ForStatement_VariableDeclaration_VariableDeclarator,i i,IdentifierName^Argument0^ArgumentList1^InvocationExpression^Argument2^ArgumentList1^InvocationExpression^ExpressionStatement^ForStatement_VariableDeclaration_VariableDeclarator,i i,VariableDeclarator^VariableDeclaration^ForStatement_LessThanOrEqualExpression_IdentifierName,i i,IdentifierName^PostIncrementExpression^ForStatement_LessThanOrEqualExpression_IdentifierName,i i,IdentifierName^Argument1^ArgumentList1^InvocationExpression^ExpressionStatement^ForStatement_LessThanOrEqualExpression_IdentifierName,i i,IdentifierName^Argument0^ArgumentList1^InvocationExpression^Argument2^ArgumentList1^InvocationExpression^ExpressionStatement^ForStatement_LessThanOrEqualExpression_IdentifierName,i i,VariableDeclarator^VariableDeclaration^ForStatement_PostIncrementExpression_IdentifierName,i i,IdentifierName^LessThanOrEqualExpression^ForStatement_PostIncrementExpression_IdentifierName,i i,IdentifierName^Argument1^ArgumentList1^InvocationExpression^ExpressionStatement^ForStatement_PostIncrementExpression_IdentifierName,i i,IdentifierName^Argument0^ArgumentList1^InvocationExpression^Argument2^ArgumentList1^InvocationExpression^ExpressionStatement^ForStatement_PostIncrementExpression_IdentifierName,i i,VariableDeclarator^VariableDeclaration^ForStatement_ExpressionStatement_InvocationExpression_ArgumentList1_Argument1_IdentifierName,i i,IdentifierName^LessThanOrEqualExpression^ForStatement_ExpressionStatement_InvocationExpression_ArgumentList1_Argument1_IdentifierName,i i,IdentifierName^PostIncrementExpression^ForStatement_ExpressionStatement_InvocationExpression_ArgumentList1_Argument1_IdentifierName,i i,IdentifierName^Argument0^ArgumentList1^InvocationExpression^Argument2^ArgumentList_Argument1_IdentifierName,i i,VariableDeclarator^VariableDeclaration^ForStatement_ExpressionStatement_InvocationExpression_ArgumentList1_Argument2_InvocationExpression_ArgumentList1_Argument0_IdentifierName,i i,IdentifierName^LessThanOrEqualExpression^ForStatement_ExpressionStatement_InvocationExpression_ArgumentList1_Argument2_InvocationExpression_ArgumentList1_Argument0_IdentifierName,i i,IdentifierName^PostIncrementExpression^ForStatement_ExpressionStatement_InvocationExpression_ArgumentList1_Argument2_InvocationExpression_ArgumentList1_Argument0_IdentifierName,i i,IdentifierName^Argument1^ArgumentList_Argument2_InvocationExpression_ArgumentList1_Argument0_IdentifierName,i c|b|a,COMMENT,c|b|a b|c|a,COMMENT,b|c|a c|a|b,COMMENT,c|a|b a|c|b,COMMENT,a|c|b a|b|c,COMMENT,a|b|c b|a|c,COMMENT,b|a|c']],\n",
       "      dtype=object)"
      ]
     },
     "execution_count": 4,
     "metadata": {},
     "output_type": "execute_result"
    }
   ],
   "source": [
    "training_data = df[df.columns[0]].to_numpy()\n",
    "training_data = np.reshape(training_data,(-1,1))\n",
    "training_data[:1]"
   ]
  },
  {
   "cell_type": "code",
   "execution_count": 5,
   "id": "063bff2a",
   "metadata": {},
   "outputs": [
    {
     "name": "stdout",
     "output_type": "stream",
     "text": [
      "tf.Tensor(\n",
      "[[2019 1105 1101 ...    0    0    0]\n",
      " [ 622   25   25 ...    0    0    0]\n",
      " [3049   19  544 ...    0    0    0]\n",
      " ...\n",
      " [3048   19   19 ...    0    0    0]\n",
      " [2318 1098 1104 ...    0    0    0]\n",
      " [3297  162  162 ...    0    0    0]], shape=(22, 3239), dtype=int64)\n"
     ]
    }
   ],
   "source": [
    "vectorizer = layers.TextVectorization(output_mode=\"int\")\n",
    "vectorizer.adapt(training_data)\n",
    "integer_data = vectorizer(training_data)\n",
    "print(integer_data)"
   ]
  },
  {
   "cell_type": "code",
   "execution_count": 28,
   "id": "09cc62c7",
   "metadata": {},
   "outputs": [],
   "source": [
    "#****************************************\n",
    "#need to modify this part\n",
    "#labels = df[df.columns[0]]\n",
    "#y = np.argmax(pd.get_dummies(labels).to_numpy(), axis=1)\n",
    "X_train, X_test = train_test_split(training_data,  test_size=0.20, random_state=42)"
   ]
  },
  {
   "cell_type": "code",
   "execution_count": 35,
   "id": "f4d75b3f",
   "metadata": {},
   "outputs": [
    {
     "name": "stdout",
     "output_type": "stream",
     "text": [
      "Model: \"model_5\"\n",
      "_________________________________________________________________\n",
      " Layer (type)                Output Shape              Param #   \n",
      "=================================================================\n",
      " text (InputLayer)           [(None, 1)]               0         \n",
      "                                                                 \n",
      " text_vectorization (TextVec  (None, None)             0         \n",
      " torization)                                                     \n",
      "                                                                 \n",
      " embedding_5 (Embedding)     (None, None, 30)          600030    \n",
      "                                                                 \n",
      " gru_5 (GRU)                 (None, 10)                1260      \n",
      "                                                                 \n",
      " dense_5 (Dense)             (None, 20)                220       \n",
      "                                                                 \n",
      " dropout_5 (Dropout)         (None, 20)                0         \n",
      "                                                                 \n",
      " predictions (Dense)         (None, 10)                210       \n",
      "                                                                 \n",
      "=================================================================\n",
      "Total params: 601,720\n",
      "Trainable params: 601,720\n",
      "Non-trainable params: 0\n",
      "_________________________________________________________________\n"
     ]
    }
   ],
   "source": [
    "max_features = 20000\n",
    "embedding_dim = 30\n",
    "\n",
    "inputs = tf.keras.Input(shape=(1,), dtype=tf.string, name='text')\n",
    "x = vectorizer(inputs)\n",
    "x = layers.Embedding(max_features + 1, embedding_dim)(x)\n",
    "\n",
    "#x = layers.LSTM(10, dropout=0.2, recurrent_dropout=0.2)(x)\n",
    "x = tf.keras.layers.GRU(10)(x)\n",
    "\n",
    "x = layers.Dense(20, activation=\"relu\")(x)\n",
    "x = layers.Dropout(0.3)(x)\n",
    "num_classes = 10\n",
    "outputs = layers.Dense(num_classes, activation=\"softmax\", name=\"predictions\")(x)\n",
    "\n",
    "model = tf.keras.Model(inputs, outputs)\n",
    "model.compile(\n",
    "    optimizer=\"adam\",\n",
    "    loss=\"sparse_categorical_crossentropy\",\n",
    "    metrics=[keras.metrics.SparseCategoricalAccuracy(name=\"acc\")]\n",
    ")\n",
    "\n",
    "model.summary()"
   ]
  },
  {
   "cell_type": "code",
   "execution_count": 36,
   "id": "737819c4",
   "metadata": {
    "scrolled": false
   },
   "outputs": [
    {
     "name": "stdout",
     "output_type": "stream",
     "text": [
      "Epoch 1/10\n"
     ]
    },
    {
     "ename": "ValueError",
     "evalue": "in user code:\n\n    File \"C:\\CodingEnv\\lib\\site-packages\\keras\\engine\\training.py\", line 1051, in train_function  *\n        return step_function(self, iterator)\n    File \"C:\\CodingEnv\\lib\\site-packages\\keras\\engine\\training.py\", line 1040, in step_function  **\n        outputs = model.distribute_strategy.run(run_step, args=(data,))\n    File \"C:\\CodingEnv\\lib\\site-packages\\keras\\engine\\training.py\", line 1030, in run_step  **\n        outputs = model.train_step(data)\n    File \"C:\\CodingEnv\\lib\\site-packages\\keras\\engine\\training.py\", line 891, in train_step\n        self._validate_target_and_loss(y, loss)\n    File \"C:\\CodingEnv\\lib\\site-packages\\keras\\engine\\training.py\", line 848, in _validate_target_and_loss\n        raise ValueError(\n\n    ValueError: Target data is missing. Your model was compiled with loss=sparse_categorical_crossentropy, and therefore expects target data to be provided in `fit()`.\n",
     "output_type": "error",
     "traceback": [
      "\u001b[1;31m---------------------------------------------------------------------------\u001b[0m",
      "\u001b[1;31mValueError\u001b[0m                                Traceback (most recent call last)",
      "\u001b[1;32m~\\AppData\\Local\\Temp/ipykernel_2828/4141851222.py\u001b[0m in \u001b[0;36m<module>\u001b[1;34m\u001b[0m\n\u001b[0;32m      3\u001b[0m     \u001b[0mkeras\u001b[0m\u001b[1;33m.\u001b[0m\u001b[0mcallbacks\u001b[0m\u001b[1;33m.\u001b[0m\u001b[0mTensorBoard\u001b[0m\u001b[1;33m(\u001b[0m\u001b[0mlogdir\u001b[0m\u001b[1;33m)\u001b[0m\u001b[1;33m\u001b[0m\u001b[1;33m\u001b[0m\u001b[0m\n\u001b[0;32m      4\u001b[0m ]\n\u001b[1;32m----> 5\u001b[1;33m \u001b[0mhistory\u001b[0m \u001b[1;33m=\u001b[0m \u001b[0mmodel\u001b[0m\u001b[1;33m.\u001b[0m\u001b[0mfit\u001b[0m\u001b[1;33m(\u001b[0m\u001b[0mX_train\u001b[0m\u001b[1;33m,\u001b[0m \u001b[0mepochs\u001b[0m\u001b[1;33m=\u001b[0m\u001b[1;36m10\u001b[0m\u001b[1;33m,\u001b[0m \u001b[0mbatch_size\u001b[0m\u001b[1;33m=\u001b[0m\u001b[1;36m32\u001b[0m\u001b[1;33m,\u001b[0m \u001b[0mvalidation_split\u001b[0m\u001b[1;33m=\u001b[0m\u001b[1;36m0.2\u001b[0m\u001b[1;33m,\u001b[0m \u001b[0mcallbacks\u001b[0m\u001b[1;33m=\u001b[0m\u001b[0mcallbacks\u001b[0m\u001b[1;33m)\u001b[0m\u001b[1;33m\u001b[0m\u001b[1;33m\u001b[0m\u001b[0m\n\u001b[0m",
      "\u001b[1;32mC:\\CodingEnv\\lib\\site-packages\\keras\\utils\\traceback_utils.py\u001b[0m in \u001b[0;36merror_handler\u001b[1;34m(*args, **kwargs)\u001b[0m\n\u001b[0;32m     65\u001b[0m     \u001b[1;32mexcept\u001b[0m \u001b[0mException\u001b[0m \u001b[1;32mas\u001b[0m \u001b[0me\u001b[0m\u001b[1;33m:\u001b[0m  \u001b[1;31m# pylint: disable=broad-except\u001b[0m\u001b[1;33m\u001b[0m\u001b[1;33m\u001b[0m\u001b[0m\n\u001b[0;32m     66\u001b[0m       \u001b[0mfiltered_tb\u001b[0m \u001b[1;33m=\u001b[0m \u001b[0m_process_traceback_frames\u001b[0m\u001b[1;33m(\u001b[0m\u001b[0me\u001b[0m\u001b[1;33m.\u001b[0m\u001b[0m__traceback__\u001b[0m\u001b[1;33m)\u001b[0m\u001b[1;33m\u001b[0m\u001b[1;33m\u001b[0m\u001b[0m\n\u001b[1;32m---> 67\u001b[1;33m       \u001b[1;32mraise\u001b[0m \u001b[0me\u001b[0m\u001b[1;33m.\u001b[0m\u001b[0mwith_traceback\u001b[0m\u001b[1;33m(\u001b[0m\u001b[0mfiltered_tb\u001b[0m\u001b[1;33m)\u001b[0m \u001b[1;32mfrom\u001b[0m \u001b[1;32mNone\u001b[0m\u001b[1;33m\u001b[0m\u001b[1;33m\u001b[0m\u001b[0m\n\u001b[0m\u001b[0;32m     68\u001b[0m     \u001b[1;32mfinally\u001b[0m\u001b[1;33m:\u001b[0m\u001b[1;33m\u001b[0m\u001b[1;33m\u001b[0m\u001b[0m\n\u001b[0;32m     69\u001b[0m       \u001b[1;32mdel\u001b[0m \u001b[0mfiltered_tb\u001b[0m\u001b[1;33m\u001b[0m\u001b[1;33m\u001b[0m\u001b[0m\n",
      "\u001b[1;32mC:\\CodingEnv\\lib\\site-packages\\keras\\engine\\training.py\u001b[0m in \u001b[0;36mtf__train_function\u001b[1;34m(iterator)\u001b[0m\n\u001b[0;32m     13\u001b[0m                 \u001b[1;32mtry\u001b[0m\u001b[1;33m:\u001b[0m\u001b[1;33m\u001b[0m\u001b[1;33m\u001b[0m\u001b[0m\n\u001b[0;32m     14\u001b[0m                     \u001b[0mdo_return\u001b[0m \u001b[1;33m=\u001b[0m \u001b[1;32mTrue\u001b[0m\u001b[1;33m\u001b[0m\u001b[1;33m\u001b[0m\u001b[0m\n\u001b[1;32m---> 15\u001b[1;33m                     \u001b[0mretval_\u001b[0m \u001b[1;33m=\u001b[0m \u001b[0mag__\u001b[0m\u001b[1;33m.\u001b[0m\u001b[0mconverted_call\u001b[0m\u001b[1;33m(\u001b[0m\u001b[0mag__\u001b[0m\u001b[1;33m.\u001b[0m\u001b[0mld\u001b[0m\u001b[1;33m(\u001b[0m\u001b[0mstep_function\u001b[0m\u001b[1;33m)\u001b[0m\u001b[1;33m,\u001b[0m \u001b[1;33m(\u001b[0m\u001b[0mag__\u001b[0m\u001b[1;33m.\u001b[0m\u001b[0mld\u001b[0m\u001b[1;33m(\u001b[0m\u001b[0mself\u001b[0m\u001b[1;33m)\u001b[0m\u001b[1;33m,\u001b[0m \u001b[0mag__\u001b[0m\u001b[1;33m.\u001b[0m\u001b[0mld\u001b[0m\u001b[1;33m(\u001b[0m\u001b[0miterator\u001b[0m\u001b[1;33m)\u001b[0m\u001b[1;33m)\u001b[0m\u001b[1;33m,\u001b[0m \u001b[1;32mNone\u001b[0m\u001b[1;33m,\u001b[0m \u001b[0mfscope\u001b[0m\u001b[1;33m)\u001b[0m\u001b[1;33m\u001b[0m\u001b[1;33m\u001b[0m\u001b[0m\n\u001b[0m\u001b[0;32m     16\u001b[0m                 \u001b[1;32mexcept\u001b[0m\u001b[1;33m:\u001b[0m\u001b[1;33m\u001b[0m\u001b[1;33m\u001b[0m\u001b[0m\n\u001b[0;32m     17\u001b[0m                     \u001b[0mdo_return\u001b[0m \u001b[1;33m=\u001b[0m \u001b[1;32mFalse\u001b[0m\u001b[1;33m\u001b[0m\u001b[1;33m\u001b[0m\u001b[0m\n",
      "\u001b[1;31mValueError\u001b[0m: in user code:\n\n    File \"C:\\CodingEnv\\lib\\site-packages\\keras\\engine\\training.py\", line 1051, in train_function  *\n        return step_function(self, iterator)\n    File \"C:\\CodingEnv\\lib\\site-packages\\keras\\engine\\training.py\", line 1040, in step_function  **\n        outputs = model.distribute_strategy.run(run_step, args=(data,))\n    File \"C:\\CodingEnv\\lib\\site-packages\\keras\\engine\\training.py\", line 1030, in run_step  **\n        outputs = model.train_step(data)\n    File \"C:\\CodingEnv\\lib\\site-packages\\keras\\engine\\training.py\", line 891, in train_step\n        self._validate_target_and_loss(y, loss)\n    File \"C:\\CodingEnv\\lib\\site-packages\\keras\\engine\\training.py\", line 848, in _validate_target_and_loss\n        raise ValueError(\n\n    ValueError: Target data is missing. Your model was compiled with loss=sparse_categorical_crossentropy, and therefore expects target data to be provided in `fit()`.\n"
     ]
    }
   ],
   "source": [
    "logdir = os.path.join(\"logs\", datetime.datetime.now().strftime(\"%Y%m%d-%H%M%S\"))\n",
    "callbacks = [\n",
    "    keras.callbacks.TensorBoard(logdir)\n",
    "]\n",
    "history = model.fit(X_train, epochs=10, batch_size=32, validation_split=0.2, callbacks=callbacks)"
   ]
  },
  {
   "cell_type": "code",
   "execution_count": 8,
   "id": "e3367619",
   "metadata": {},
   "outputs": [
    {
     "data": {
      "text/html": [
       "\n",
       "      <iframe id=\"tensorboard-frame-ade7321e3d81554b\" width=\"100%\" height=\"800\" frameborder=\"0\">\n",
       "      </iframe>\n",
       "      <script>\n",
       "        (function() {\n",
       "          const frame = document.getElementById(\"tensorboard-frame-ade7321e3d81554b\");\n",
       "          const url = new URL(\"/\", window.location);\n",
       "          const port = 6006;\n",
       "          if (port) {\n",
       "            url.port = port;\n",
       "          }\n",
       "          frame.src = url;\n",
       "        })();\n",
       "      </script>\n",
       "    "
      ],
      "text/plain": [
       "<IPython.core.display.HTML object>"
      ]
     },
     "metadata": {},
     "output_type": "display_data"
    }
   ],
   "source": [
    "%load_ext tensorboard\n",
    "%tensorboard --logdir logs"
   ]
  },
  {
   "cell_type": "code",
   "execution_count": 9,
   "id": "d1bc0203",
   "metadata": {},
   "outputs": [
    {
     "name": "stdout",
     "output_type": "stream",
     "text": [
      "1/1 [==============================] - 0s 31ms/step - loss: 2.1681 - acc: 0.5185\n"
     ]
    },
    {
     "data": {
      "text/plain": [
       "[2.168147087097168, 0.5185185074806213]"
      ]
     },
     "execution_count": 9,
     "metadata": {},
     "output_type": "execute_result"
    }
   ],
   "source": [
    "model.evaluate(X_test,y_test)"
   ]
  },
  {
   "cell_type": "code",
   "execution_count": 10,
   "id": "e7925df5",
   "metadata": {},
   "outputs": [
    {
     "name": "stdout",
     "output_type": "stream",
     "text": [
      "1/1 [==============================] - 0s 411ms/step\n",
      "(27, 10)\n"
     ]
    }
   ],
   "source": [
    "predictions = model.predict(X_test)\n",
    "print(predictions.shape)"
   ]
  },
  {
   "cell_type": "code",
   "execution_count": 11,
   "id": "16ef5ba0",
   "metadata": {},
   "outputs": [
    {
     "data": {
      "image/png": "[encoded data removed]",
      "text/plain": [
       "<Figure size 432x288 with 1 Axes>"
      ]
     },
     "metadata": {
      "needs_background": "light"
     },
     "output_type": "display_data"
    }
   ],
   "source": [
    "plt.title('Loss (Recurrent)')\n",
    "plt.plot(history.history['loss'], label='train')\n",
    "plt.plot(history.history['val_loss'], label='test')\n",
    "plt.legend()\n",
    "plt.show()"
   ]
  },
  {
   "cell_type": "markdown",
   "id": "d4d98682",
   "metadata": {},
   "source": [
    "## 2. Transformers"
   ]
  },
  {
   "cell_type": "code",
   "execution_count": 37,
   "id": "65b8ef77",
   "metadata": {},
   "outputs": [],
   "source": [
    "class TransformerBlock(layers.Layer):\n",
    "    def __init__(self, embed_dim, num_heads, ff_dim, rate=0.1):\n",
    "        super(TransformerBlock, self).__init__()\n",
    "        self.att = layers.MultiHeadAttention(num_heads=num_heads, key_dim=embed_dim)\n",
    "        self.ffn = keras.Sequential(\n",
    "            [layers.Dense(ff_dim, activation=\"relu\"), layers.Dense(embed_dim),]\n",
    "        )\n",
    "        self.layernorm1 = layers.LayerNormalization(epsilon=1e-6)\n",
    "        self.layernorm2 = layers.LayerNormalization(epsilon=1e-6)\n",
    "        self.dropout1 = layers.Dropout(rate)\n",
    "        self.dropout2 = layers.Dropout(rate)\n",
    "\n",
    "    def call(self, inputs, training):\n",
    "        attn_output = self.att(inputs, inputs)\n",
    "        attn_output = self.dropout1(attn_output, training=training)\n",
    "        out1 = self.layernorm1(inputs + attn_output)\n",
    "        ffn_output = self.ffn(out1)\n",
    "        ffn_output = self.dropout2(ffn_output, training=training)\n",
    "        return self.layernorm2(out1 + ffn_output)\n",
    "    \n",
    "class TokenAndPositionEmbedding(layers.Layer):\n",
    "    def __init__(self, maxlen, vocab_size, embed_dim):\n",
    "        super(TokenAndPositionEmbedding, self).__init__()\n",
    "        self.token_emb = layers.Embedding(input_dim=vocab_size, output_dim=embed_dim)\n",
    "        self.pos_emb = layers.Embedding(input_dim=maxlen, output_dim=embed_dim)\n",
    "\n",
    "    def call(self, x):\n",
    "        maxlen = tf.shape(x)[-1]\n",
    "        positions = tf.range(start=0, limit=maxlen, delta=1)\n",
    "        positions = self.pos_emb(positions)\n",
    "        x = self.token_emb(x)\n",
    "        return x + positions"
   ]
  },
  {
   "cell_type": "code",
   "execution_count": 38,
   "id": "e3f09b6a",
   "metadata": {},
   "outputs": [
    {
     "name": "stdout",
     "output_type": "stream",
     "text": [
      "Model: \"model_6\"\n",
      "_________________________________________________________________\n",
      " Layer (type)                Output Shape              Param #   \n",
      "=================================================================\n",
      " input_1 (InputLayer)        [(None, 30)]              0         \n",
      "                                                                 \n",
      " token_and_position_embeddin  (None, 30, 32)           640960    \n",
      " g (TokenAndPositionEmbeddin                                     \n",
      " g)                                                              \n",
      "                                                                 \n",
      " transformer_block (Transfor  (None, 30, 32)           10656     \n",
      " merBlock)                                                       \n",
      "                                                                 \n",
      " global_average_pooling1d (G  (None, 32)               0         \n",
      " lobalAveragePooling1D)                                          \n",
      "                                                                 \n",
      " dropout_8 (Dropout)         (None, 32)                0         \n",
      "                                                                 \n",
      " dense_8 (Dense)             (None, 20)                660       \n",
      "                                                                 \n",
      " dropout_9 (Dropout)         (None, 20)                0         \n",
      "                                                                 \n",
      " dense_9 (Dense)             (None, 10)                210       \n",
      "                                                                 \n",
      "=================================================================\n",
      "Total params: 652,486\n",
      "Trainable params: 652,486\n",
      "Non-trainable params: 0\n",
      "_________________________________________________________________\n"
     ]
    }
   ],
   "source": [
    "vocab_size = 20000  # Only consider the top 20k words\n",
    "maxlen = 30  # Only consider the first 200 words of each sentence\n",
    "\n",
    "embed_dim = 32  # Embedding size for each token\n",
    "num_heads = 2  # Number of attention heads\n",
    "ff_dim = 32  # Hidden layer size in feed forward network inside transformer\n",
    "\n",
    "inputs = layers.Input(shape=(maxlen,))\n",
    "embedding_layer = TokenAndPositionEmbedding(maxlen, vocab_size, embed_dim)\n",
    "x = embedding_layer(inputs)\n",
    "transformer_block = TransformerBlock(embed_dim, num_heads, ff_dim)\n",
    "x = transformer_block(x)\n",
    "x = layers.GlobalAveragePooling1D()(x)\n",
    "x = layers.Dropout(0.1)(x)\n",
    "x = layers.Dense(20, activation=\"relu\")(x)\n",
    "x = layers.Dropout(0.1)(x)\n",
    "outputs = layers.Dense(10, activation=\"softmax\")(x)\n",
    "\n",
    "model_tr = keras.Model(inputs=inputs, outputs=outputs)\n",
    "\n",
    "model_tr.compile(optimizer=\"adam\", loss=\"sparse_categorical_crossentropy\", metrics=[\"accuracy\"])\n",
    "model_tr.summary()"
   ]
  },
  {
   "cell_type": "code",
   "execution_count": 39,
   "id": "49d70ed9",
   "metadata": {},
   "outputs": [
    {
     "data": {
      "text/plain": [
       "<tf.Tensor: shape=(17, 30), dtype=int64, numpy=\n",
       "array([[3513,  143,  141,   41, 2401, 2487,  651,  651, 2396,  142,   40,\n",
       "         140, 2399, 2486,  650,  650, 2395, 2484,  649,  649, 2391, 2473,\n",
       "         646,  646, 2398,   96,   13,   13,  343,   97],\n",
       "       [2318, 1098, 1104, 1159,   31, 2457, 2456,   13, 2386, 2389, 2388,\n",
       "        2387,    4,    6,    5,    8,    9,    7,    0,    0,    0,    0,\n",
       "           0,    0,    0,    0,    0,    0,    0,    0],\n",
       "       [ 332,   19,   19,  163,  164,  311,  313,  545,  546,  552,  551,\n",
       "          25,   25,  550,   74,  554,   31,  168,  139,   37,   37,  167,\n",
       "         324,   75,   75,  315,  315,  316,  316,  319],\n",
       "       [ 622,   19,   19,  163,  164, 1097, 1164,   25,   74,   31,  168,\n",
       "         139,   37,   37, 1554, 1551,  568,  568,   14,   14,   21,   21,\n",
       "          20,   20, 2895, 2907, 2903, 2905,  145,  202],\n",
       "       [1690, 2571, 2463,  645,  645, 2504, 2627,  663,   87,   87,   87,\n",
       "         654,  672,  663,   87,   87,   87,  654,  672, 2620,  401,  401,\n",
       "         401, 2549, 2672, 2581,  362,  362,  362, 2510],\n",
       "       [ 166,  143,  141,   41,   41, 2480,  354,  354,  354,  142,   40,\n",
       "         140,   40, 2479,  353,  353,  353, 2467,  642,  642, 2460,  405,\n",
       "          76,   76,  346, 2474,  352,  352,  352,   96],\n",
       "       [ 166,  143,  141,   41, 2477,  648,  648,  142,   40,  140, 2475,\n",
       "         647,  647,   96,   13,   13,   97, 2880, 2864,  144,   98, 2882,\n",
       "          86, 1996,   22,   22,   23,    2,   23,    2],\n",
       "       [2317,  143,  141,   41,   41, 2470,  349,  349,  349,  142,   40,\n",
       "         140,   40, 2469,  348,  348,  348, 2466,  641,  641, 2459,  405,\n",
       "          76,   76,  346, 2471,  350,  350,  350,   96],\n",
       "       [2081, 2464, 2568, 2400, 2434, 2493, 2563, 2403, 2425, 2496, 2566,\n",
       "        2418, 2454, 2485, 2556,  192,  639, 2489, 2559,  632,  192, 2483,\n",
       "        2555, 2390, 2436, 2495, 2565, 2417, 2453, 2472],\n",
       "       [3049,   19,  544, 1167,  545,  546,  552,  551,   25,   25,  550,\n",
       "          74,  554,   31,  562, 1589,  315,  316,  319,  318,   14,   14,\n",
       "         317,   21,  320,   20, 1276, 1318, 1277, 1319],\n",
       "       [ 332,   19,   19,  163,  164,  311,  313,   25,   74,   31,  168,\n",
       "         139,   37,   37,  167,  324,   75,   75,   14,   14,   21,   21,\n",
       "          20,   20,  412,  415,  413,  414,  145,  202],\n",
       "       [3297,  162,  162,  162,  162, 1096, 1154, 1158, 1095, 1153, 1157,\n",
       "        1108, 1156, 1099, 1155,  553,  553,   31,  417,  101,  101,  101,\n",
       "         206,  206,  206,  206,  210,  210,  210,  210],\n",
       "       [ 482,  712,  417,  101, 2990,  709,  709,  711,  100,  416, 2989,\n",
       "         708,  708,  211,   24,   24,  329, 1934, 1889,  614,  330, 1936,\n",
       "         328, 1852,   42,   42,   43,    3,   43,    3],\n",
       "       [ 332,   19,   19,   19,  163,  164, 1102, 1165,  311,  313,   25,\n",
       "          74,   31,  168,  139,  139,   37,   37,   37,  565, 1591,  565,\n",
       "         322,  322,  322,  167,  167,  324,   75,   75],\n",
       "       [ 166,  143,  141,   41,   41,   41, 2482,  196,  196,  196,  196,\n",
       "         142,   40,  140,   40,   40, 2481,  195,  195,  195,  195,  405,\n",
       "          76,   76,  346,   76, 2478,  194,  194,  194],\n",
       "       [3048,   19,   19,   19, 1094, 1163, 1100, 1106, 1103, 1166,   25,\n",
       "          74,   31, 1550,  563,  563,  321,  321,  321,  564, 1552,  564,\n",
       "         567,  567, 1593,  566,  566, 1592,  323,  323],\n",
       "       [ 482, 2986, 2979,  713,  710,  713,  710,  211,   24, 1740,  608,\n",
       "         608,   42,   43,  607,  607,  605,  609,  605,  609,    4,    6,\n",
       "           5,    8,    9,    7,    0,    0,    0,    0]], dtype=int64)>"
      ]
     },
     "execution_count": 39,
     "metadata": {},
     "output_type": "execute_result"
    }
   ],
   "source": [
    "vectorizer_tr = layers.TextVectorization(output_mode=\"int\", output_sequence_length=maxlen)\n",
    "vectorizer_tr.adapt(training_data)\n",
    "X_train_tr = vectorizer_tr(X_train)\n",
    "X_test_tr = vectorizer_tr(X_test)\n",
    "X_train_tr"
   ]
  },
  {
   "cell_type": "code",
   "execution_count": 42,
   "id": "5da1a696",
   "metadata": {},
   "outputs": [
    {
     "name": "stdout",
     "output_type": "stream",
     "text": [
      "Epoch 1/10\n"
     ]
    },
    {
     "ename": "InvalidArgumentError",
     "evalue": "Graph execution error:\n\nDetected at node 'sparse_categorical_crossentropy/SparseSoftmaxCrossEntropyWithLogits/SparseSoftmaxCrossEntropyWithLogits' defined at (most recent call last):\n    File \"C:\\CodingEnv\\lib\\runpy.py\", line 197, in _run_module_as_main\n      return _run_code(code, main_globals, None,\n    File \"C:\\CodingEnv\\lib\\runpy.py\", line 87, in _run_code\n      exec(code, run_globals)\n    File \"C:\\CodingEnv\\lib\\site-packages\\ipykernel_launcher.py\", line 16, in <module>\n      app.launch_new_instance()\n    File \"C:\\CodingEnv\\lib\\site-packages\\traitlets\\config\\application.py\", line 846, in launch_instance\n      app.start()\n    File \"C:\\CodingEnv\\lib\\site-packages\\ipykernel\\kernelapp.py\", line 677, in start\n      self.io_loop.start()\n    File \"C:\\CodingEnv\\lib\\site-packages\\tornado\\platform\\asyncio.py\", line 199, in start\n      self.asyncio_loop.run_forever()\n    File \"C:\\CodingEnv\\lib\\asyncio\\base_events.py\", line 596, in run_forever\n      self._run_once()\n    File \"C:\\CodingEnv\\lib\\asyncio\\base_events.py\", line 1890, in _run_once\n      handle._run()\n    File \"C:\\CodingEnv\\lib\\asyncio\\events.py\", line 80, in _run\n      self._context.run(self._callback, *self._args)\n    File \"C:\\CodingEnv\\lib\\site-packages\\ipykernel\\kernelbase.py\", line 457, in dispatch_queue\n      await self.process_one()\n    File \"C:\\CodingEnv\\lib\\site-packages\\ipykernel\\kernelbase.py\", line 446, in process_one\n      await dispatch(*args)\n    File \"C:\\CodingEnv\\lib\\site-packages\\ipykernel\\kernelbase.py\", line 353, in dispatch_shell\n      await result\n    File \"C:\\CodingEnv\\lib\\site-packages\\ipykernel\\kernelbase.py\", line 648, in execute_request\n      reply_content = await reply_content\n    File \"C:\\CodingEnv\\lib\\site-packages\\ipykernel\\ipkernel.py\", line 353, in do_execute\n      res = shell.run_cell(code, store_history=store_history, silent=silent)\n    File \"C:\\CodingEnv\\lib\\site-packages\\ipykernel\\zmqshell.py\", line 533, in run_cell\n      return super(ZMQInteractiveShell, self).run_cell(*args, **kwargs)\n    File \"C:\\CodingEnv\\lib\\site-packages\\IPython\\core\\interactiveshell.py\", line 2901, in run_cell\n      result = self._run_cell(\n    File \"C:\\CodingEnv\\lib\\site-packages\\IPython\\core\\interactiveshell.py\", line 2947, in _run_cell\n      return runner(coro)\n    File \"C:\\CodingEnv\\lib\\site-packages\\IPython\\core\\async_helpers.py\", line 68, in _pseudo_sync_runner\n      coro.send(None)\n    File \"C:\\CodingEnv\\lib\\site-packages\\IPython\\core\\interactiveshell.py\", line 3172, in run_cell_async\n      has_raised = await self.run_ast_nodes(code_ast.body, cell_name,\n    File \"C:\\CodingEnv\\lib\\site-packages\\IPython\\core\\interactiveshell.py\", line 3364, in run_ast_nodes\n      if (await self.run_code(code, result,  async_=asy)):\n    File \"C:\\CodingEnv\\lib\\site-packages\\IPython\\core\\interactiveshell.py\", line 3444, in run_code\n      exec(code_obj, self.user_global_ns, self.user_ns)\n    File \"C:\\Users\\YAHYA\\AppData\\Local\\Temp/ipykernel_2828/2695498976.py\", line 1, in <module>\n      history_tr = model_tr.fit(X_train_tr, X_train_tr, epochs=10, batch_size=32, validation_split=0.2)\n    File \"C:\\CodingEnv\\lib\\site-packages\\keras\\utils\\traceback_utils.py\", line 64, in error_handler\n      return fn(*args, **kwargs)\n    File \"C:\\CodingEnv\\lib\\site-packages\\keras\\engine\\training.py\", line 1409, in fit\n      tmp_logs = self.train_function(iterator)\n    File \"C:\\CodingEnv\\lib\\site-packages\\keras\\engine\\training.py\", line 1051, in train_function\n      return step_function(self, iterator)\n    File \"C:\\CodingEnv\\lib\\site-packages\\keras\\engine\\training.py\", line 1040, in step_function\n      outputs = model.distribute_strategy.run(run_step, args=(data,))\n    File \"C:\\CodingEnv\\lib\\site-packages\\keras\\engine\\training.py\", line 1030, in run_step\n      outputs = model.train_step(data)\n    File \"C:\\CodingEnv\\lib\\site-packages\\keras\\engine\\training.py\", line 890, in train_step\n      loss = self.compute_loss(x, y, y_pred, sample_weight)\n    File \"C:\\CodingEnv\\lib\\site-packages\\keras\\engine\\training.py\", line 948, in compute_loss\n      return self.compiled_loss(\n    File \"C:\\CodingEnv\\lib\\site-packages\\keras\\engine\\compile_utils.py\", line 201, in __call__\n      loss_value = loss_obj(y_t, y_p, sample_weight=sw)\n    File \"C:\\CodingEnv\\lib\\site-packages\\keras\\losses.py\", line 139, in __call__\n      losses = call_fn(y_true, y_pred)\n    File \"C:\\CodingEnv\\lib\\site-packages\\keras\\losses.py\", line 243, in call\n      return ag_fn(y_true, y_pred, **self._fn_kwargs)\n    File \"C:\\CodingEnv\\lib\\site-packages\\keras\\losses.py\", line 1860, in sparse_categorical_crossentropy\n      return backend.sparse_categorical_crossentropy(\n    File \"C:\\CodingEnv\\lib\\site-packages\\keras\\backend.py\", line 5238, in sparse_categorical_crossentropy\n      res = tf.nn.sparse_softmax_cross_entropy_with_logits(\nNode: 'sparse_categorical_crossentropy/SparseSoftmaxCrossEntropyWithLogits/SparseSoftmaxCrossEntropyWithLogits'\nlogits and labels must have the same first dimension, got logits shape [13,10] and labels shape [390]\n\t [[{{node sparse_categorical_crossentropy/SparseSoftmaxCrossEntropyWithLogits/SparseSoftmaxCrossEntropyWithLogits}}]] [Op:__inference_train_function_8215]",
     "output_type": "error",
     "traceback": [
      "\u001b[1;31m---------------------------------------------------------------------------\u001b[0m",
      "\u001b[1;31mInvalidArgumentError\u001b[0m                      Traceback (most recent call last)",
      "\u001b[1;32m~\\AppData\\Local\\Temp/ipykernel_2828/2695498976.py\u001b[0m in \u001b[0;36m<module>\u001b[1;34m\u001b[0m\n\u001b[1;32m----> 1\u001b[1;33m \u001b[0mhistory_tr\u001b[0m \u001b[1;33m=\u001b[0m \u001b[0mmodel_tr\u001b[0m\u001b[1;33m.\u001b[0m\u001b[0mfit\u001b[0m\u001b[1;33m(\u001b[0m\u001b[0mX_train_tr\u001b[0m\u001b[1;33m,\u001b[0m \u001b[0mX_train_tr\u001b[0m\u001b[1;33m,\u001b[0m \u001b[0mepochs\u001b[0m\u001b[1;33m=\u001b[0m\u001b[1;36m10\u001b[0m\u001b[1;33m,\u001b[0m \u001b[0mbatch_size\u001b[0m\u001b[1;33m=\u001b[0m\u001b[1;36m32\u001b[0m\u001b[1;33m,\u001b[0m \u001b[0mvalidation_split\u001b[0m\u001b[1;33m=\u001b[0m\u001b[1;36m0.2\u001b[0m\u001b[1;33m)\u001b[0m\u001b[1;33m\u001b[0m\u001b[1;33m\u001b[0m\u001b[0m\n\u001b[0m",
      "\u001b[1;32mC:\\CodingEnv\\lib\\site-packages\\keras\\utils\\traceback_utils.py\u001b[0m in \u001b[0;36merror_handler\u001b[1;34m(*args, **kwargs)\u001b[0m\n\u001b[0;32m     65\u001b[0m     \u001b[1;32mexcept\u001b[0m \u001b[0mException\u001b[0m \u001b[1;32mas\u001b[0m \u001b[0me\u001b[0m\u001b[1;33m:\u001b[0m  \u001b[1;31m# pylint: disable=broad-except\u001b[0m\u001b[1;33m\u001b[0m\u001b[1;33m\u001b[0m\u001b[0m\n\u001b[0;32m     66\u001b[0m       \u001b[0mfiltered_tb\u001b[0m \u001b[1;33m=\u001b[0m \u001b[0m_process_traceback_frames\u001b[0m\u001b[1;33m(\u001b[0m\u001b[0me\u001b[0m\u001b[1;33m.\u001b[0m\u001b[0m__traceback__\u001b[0m\u001b[1;33m)\u001b[0m\u001b[1;33m\u001b[0m\u001b[1;33m\u001b[0m\u001b[0m\n\u001b[1;32m---> 67\u001b[1;33m       \u001b[1;32mraise\u001b[0m \u001b[0me\u001b[0m\u001b[1;33m.\u001b[0m\u001b[0mwith_traceback\u001b[0m\u001b[1;33m(\u001b[0m\u001b[0mfiltered_tb\u001b[0m\u001b[1;33m)\u001b[0m \u001b[1;32mfrom\u001b[0m \u001b[1;32mNone\u001b[0m\u001b[1;33m\u001b[0m\u001b[1;33m\u001b[0m\u001b[0m\n\u001b[0m\u001b[0;32m     68\u001b[0m     \u001b[1;32mfinally\u001b[0m\u001b[1;33m:\u001b[0m\u001b[1;33m\u001b[0m\u001b[1;33m\u001b[0m\u001b[0m\n\u001b[0;32m     69\u001b[0m       \u001b[1;32mdel\u001b[0m \u001b[0mfiltered_tb\u001b[0m\u001b[1;33m\u001b[0m\u001b[1;33m\u001b[0m\u001b[0m\n",
      "\u001b[1;32mC:\\CodingEnv\\lib\\site-packages\\tensorflow\\python\\eager\\execute.py\u001b[0m in \u001b[0;36mquick_execute\u001b[1;34m(op_name, num_outputs, inputs, attrs, ctx, name)\u001b[0m\n\u001b[0;32m     52\u001b[0m   \u001b[1;32mtry\u001b[0m\u001b[1;33m:\u001b[0m\u001b[1;33m\u001b[0m\u001b[1;33m\u001b[0m\u001b[0m\n\u001b[0;32m     53\u001b[0m     \u001b[0mctx\u001b[0m\u001b[1;33m.\u001b[0m\u001b[0mensure_initialized\u001b[0m\u001b[1;33m(\u001b[0m\u001b[1;33m)\u001b[0m\u001b[1;33m\u001b[0m\u001b[1;33m\u001b[0m\u001b[0m\n\u001b[1;32m---> 54\u001b[1;33m     tensors = pywrap_tfe.TFE_Py_Execute(ctx._handle, device_name, op_name,\n\u001b[0m\u001b[0;32m     55\u001b[0m                                         inputs, attrs, num_outputs)\n\u001b[0;32m     56\u001b[0m   \u001b[1;32mexcept\u001b[0m \u001b[0mcore\u001b[0m\u001b[1;33m.\u001b[0m\u001b[0m_NotOkStatusException\u001b[0m \u001b[1;32mas\u001b[0m \u001b[0me\u001b[0m\u001b[1;33m:\u001b[0m\u001b[1;33m\u001b[0m\u001b[1;33m\u001b[0m\u001b[0m\n",
      "\u001b[1;31mInvalidArgumentError\u001b[0m: Graph execution error:\n\nDetected at node 'sparse_categorical_crossentropy/SparseSoftmaxCrossEntropyWithLogits/SparseSoftmaxCrossEntropyWithLogits' defined at (most recent call last):\n    File \"C:\\CodingEnv\\lib\\runpy.py\", line 197, in _run_module_as_main\n      return _run_code(code, main_globals, None,\n    File \"C:\\CodingEnv\\lib\\runpy.py\", line 87, in _run_code\n      exec(code, run_globals)\n    File \"C:\\CodingEnv\\lib\\site-packages\\ipykernel_launcher.py\", line 16, in <module>\n      app.launch_new_instance()\n    File \"C:\\CodingEnv\\lib\\site-packages\\traitlets\\config\\application.py\", line 846, in launch_instance\n      app.start()\n    File \"C:\\CodingEnv\\lib\\site-packages\\ipykernel\\kernelapp.py\", line 677, in start\n      self.io_loop.start()\n    File \"C:\\CodingEnv\\lib\\site-packages\\tornado\\platform\\asyncio.py\", line 199, in start\n      self.asyncio_loop.run_forever()\n    File \"C:\\CodingEnv\\lib\\asyncio\\base_events.py\", line 596, in run_forever\n      self._run_once()\n    File \"C:\\CodingEnv\\lib\\asyncio\\base_events.py\", line 1890, in _run_once\n      handle._run()\n    File \"C:\\CodingEnv\\lib\\asyncio\\events.py\", line 80, in _run\n      self._context.run(self._callback, *self._args)\n    File \"C:\\CodingEnv\\lib\\site-packages\\ipykernel\\kernelbase.py\", line 457, in dispatch_queue\n      await self.process_one()\n    File \"C:\\CodingEnv\\lib\\site-packages\\ipykernel\\kernelbase.py\", line 446, in process_one\n      await dispatch(*args)\n    File \"C:\\CodingEnv\\lib\\site-packages\\ipykernel\\kernelbase.py\", line 353, in dispatch_shell\n      await result\n    File \"C:\\CodingEnv\\lib\\site-packages\\ipykernel\\kernelbase.py\", line 648, in execute_request\n      reply_content = await reply_content\n    File \"C:\\CodingEnv\\lib\\site-packages\\ipykernel\\ipkernel.py\", line 353, in do_execute\n      res = shell.run_cell(code, store_history=store_history, silent=silent)\n    File \"C:\\CodingEnv\\lib\\site-packages\\ipykernel\\zmqshell.py\", line 533, in run_cell\n      return super(ZMQInteractiveShell, self).run_cell(*args, **kwargs)\n    File \"C:\\CodingEnv\\lib\\site-packages\\IPython\\core\\interactiveshell.py\", line 2901, in run_cell\n      result = self._run_cell(\n    File \"C:\\CodingEnv\\lib\\site-packages\\IPython\\core\\interactiveshell.py\", line 2947, in _run_cell\n      return runner(coro)\n    File \"C:\\CodingEnv\\lib\\site-packages\\IPython\\core\\async_helpers.py\", line 68, in _pseudo_sync_runner\n      coro.send(None)\n    File \"C:\\CodingEnv\\lib\\site-packages\\IPython\\core\\interactiveshell.py\", line 3172, in run_cell_async\n      has_raised = await self.run_ast_nodes(code_ast.body, cell_name,\n    File \"C:\\CodingEnv\\lib\\site-packages\\IPython\\core\\interactiveshell.py\", line 3364, in run_ast_nodes\n      if (await self.run_code(code, result,  async_=asy)):\n    File \"C:\\CodingEnv\\lib\\site-packages\\IPython\\core\\interactiveshell.py\", line 3444, in run_code\n      exec(code_obj, self.user_global_ns, self.user_ns)\n    File \"C:\\Users\\YAHYA\\AppData\\Local\\Temp/ipykernel_2828/2695498976.py\", line 1, in <module>\n      history_tr = model_tr.fit(X_train_tr, X_train_tr, epochs=10, batch_size=32, validation_split=0.2)\n    File \"C:\\CodingEnv\\lib\\site-packages\\keras\\utils\\traceback_utils.py\", line 64, in error_handler\n      return fn(*args, **kwargs)\n    File \"C:\\CodingEnv\\lib\\site-packages\\keras\\engine\\training.py\", line 1409, in fit\n      tmp_logs = self.train_function(iterator)\n    File \"C:\\CodingEnv\\lib\\site-packages\\keras\\engine\\training.py\", line 1051, in train_function\n      return step_function(self, iterator)\n    File \"C:\\CodingEnv\\lib\\site-packages\\keras\\engine\\training.py\", line 1040, in step_function\n      outputs = model.distribute_strategy.run(run_step, args=(data,))\n    File \"C:\\CodingEnv\\lib\\site-packages\\keras\\engine\\training.py\", line 1030, in run_step\n      outputs = model.train_step(data)\n    File \"C:\\CodingEnv\\lib\\site-packages\\keras\\engine\\training.py\", line 890, in train_step\n      loss = self.compute_loss(x, y, y_pred, sample_weight)\n    File \"C:\\CodingEnv\\lib\\site-packages\\keras\\engine\\training.py\", line 948, in compute_loss\n      return self.compiled_loss(\n    File \"C:\\CodingEnv\\lib\\site-packages\\keras\\engine\\compile_utils.py\", line 201, in __call__\n      loss_value = loss_obj(y_t, y_p, sample_weight=sw)\n    File \"C:\\CodingEnv\\lib\\site-packages\\keras\\losses.py\", line 139, in __call__\n      losses = call_fn(y_true, y_pred)\n    File \"C:\\CodingEnv\\lib\\site-packages\\keras\\losses.py\", line 243, in call\n      return ag_fn(y_true, y_pred, **self._fn_kwargs)\n    File \"C:\\CodingEnv\\lib\\site-packages\\keras\\losses.py\", line 1860, in sparse_categorical_crossentropy\n      return backend.sparse_categorical_crossentropy(\n    File \"C:\\CodingEnv\\lib\\site-packages\\keras\\backend.py\", line 5238, in sparse_categorical_crossentropy\n      res = tf.nn.sparse_softmax_cross_entropy_with_logits(\nNode: 'sparse_categorical_crossentropy/SparseSoftmaxCrossEntropyWithLogits/SparseSoftmaxCrossEntropyWithLogits'\nlogits and labels must have the same first dimension, got logits shape [13,10] and labels shape [390]\n\t [[{{node sparse_categorical_crossentropy/SparseSoftmaxCrossEntropyWithLogits/SparseSoftmaxCrossEntropyWithLogits}}]] [Op:__inference_train_function_8215]"
     ]
    }
   ],
   "source": [
    "history_tr = model_tr.fit(X_train_tr, y_train_tr, epochs=10, batch_size=32, validation_split=0.2)"
   ]
  },
  {
   "cell_type": "code",
   "execution_count": 130,
   "id": "02a61ba1",
   "metadata": {},
   "outputs": [
    {
     "name": "stdout",
     "output_type": "stream",
     "text": [
      "1/1 [==============================] - 0s 25ms/step - loss: 1.3369 - accuracy: 0.6296\n"
     ]
    },
    {
     "data": {
      "text/plain": [
       "[1.3368749618530273, 0.6296296119689941]"
      ]
     },
     "execution_count": 130,
     "metadata": {},
     "output_type": "execute_result"
    }
   ],
   "source": [
    "model_tr.evaluate(X_test_tr, y_test_tr)"
   ]
  },
  {
   "cell_type": "code",
   "execution_count": 131,
   "id": "1e62b338",
   "metadata": {},
   "outputs": [
    {
     "name": "stdout",
     "output_type": "stream",
     "text": [
      "(27, 10)\n"
     ]
    }
   ],
   "source": [
    "predictions_tr = model_tr.predict(X_test_tr)\n",
    "print(predictions_tr.shape)"
   ]
  },
  {
   "cell_type": "code",
   "execution_count": 133,
   "id": "4e8e09f6",
   "metadata": {},
   "outputs": [
    {
     "data": {
      "image/png": "[encoded data removed]",
      "text/plain": [
       "<Figure size 432x288 with 1 Axes>"
      ]
     },
     "metadata": {
      "needs_background": "light"
     },
     "output_type": "display_data"
    }
   ],
   "source": [
    "plt.title('Loss (Transformers)')\n",
    "plt.plot(history_tr.history['loss'], label='train')\n",
    "plt.plot(history_tr.history['val_loss'], label='test')\n",
    "plt.legend()\n",
    "plt.show()"
   ]
  }
 ],
 "metadata": {
  "kernelspec": {
   "display_name": "Python 3 (ipykernel)",
   "language": "python",
   "name": "python3"
  },
  "language_info": {
   "codemirror_mode": {
    "name": "ipython",
    "version": 3
   },
   "file_extension": ".py",
   "mimetype": "text/x-python",
   "name": "python",
   "nbconvert_exporter": "python",
   "pygments_lexer": "ipython3",
   "version": "3.9.7"
  }
 },
 "nbformat": 4,
 "nbformat_minor": 5
}
