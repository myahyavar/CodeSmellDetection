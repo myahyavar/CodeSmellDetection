{
 "cells": [
  {
   "cell_type": "markdown",
   "id": "4c9b39de",
   "metadata": {},
   "source": [
    "# Small dataset text classification using deep learning"
   ]
  },
  {
   "cell_type": "markdown",
   "id": "67e5de91",
   "metadata": {},
   "source": [
    "## 1. Recurrent (LSTM/GRU)"
   ]
  },
  {
   "cell_type": "code",
   "execution_count": 90,
   "id": "e9d9313e",
   "metadata": {},
   "outputs": [],
   "source": [
    "import numpy as np\n",
    "import pandas as pd\n",
    "import tensorflow as tf\n",
    "from tensorflow import keras\n",
    "from keras import layers\n",
    "from sklearn.model_selection import train_test_split\n",
    "import os\n",
    "import datetime\n",
    "import matplotlib.pyplot as plt"
   ]
  },
  {
   "cell_type": "code",
   "execution_count": 91,
   "id": "5ab587ac",
   "metadata": {
    "scrolled": false
   },
   "outputs": [
    {
     "data": {
      "text/html": [
       "<div>\n",
       "<style scoped>\n",
       "    .dataframe tbody tr th:only-of-type {\n",
       "        vertical-align: middle;\n",
       "    }\n",
       "\n",
       "    .dataframe tbody tr th {\n",
       "        vertical-align: top;\n",
       "    }\n",
       "\n",
       "    .dataframe thead th {\n",
       "        text-align: right;\n",
       "    }\n",
       "</style>\n",
       "<table border=\"1\" class=\"dataframe\">\n",
       "  <thead>\n",
       "    <tr style=\"text-align: right;\">\n",
       "      <th></th>\n",
       "      <th>ASTS</th>\n",
       "    </tr>\n",
       "  </thead>\n",
       "  <tbody>\n",
       "    <tr>\n",
       "      <th>0</th>\n",
       "      <td>print|index|and|values void,PredefinedType^Met...</td>\n",
       "    </tr>\n",
       "    <tr>\n",
       "      <th>1</th>\n",
       "      <td>printing|names void,PredefinedType^MethodDecla...</td>\n",
       "    </tr>\n",
       "    <tr>\n",
       "      <th>2</th>\n",
       "      <td>colorful|write|line void,PredefinedType^Method...</td>\n",
       "    </tr>\n",
       "    <tr>\n",
       "      <th>3</th>\n",
       "      <td>printing|names void,PredefinedType^MethodDecla...</td>\n",
       "    </tr>\n",
       "    <tr>\n",
       "      <th>4</th>\n",
       "      <td>sort|three|numbers int,PredefinedType^ArrayTyp...</td>\n",
       "    </tr>\n",
       "    <tr>\n",
       "      <th>5</th>\n",
       "      <td>addition int,PredefinedType^MethodDeclaration_...</td>\n",
       "    </tr>\n",
       "    <tr>\n",
       "      <th>6</th>\n",
       "      <td>area double,PredefinedType^MethodDeclaration_P...</td>\n",
       "    </tr>\n",
       "    <tr>\n",
       "      <th>7</th>\n",
       "      <td>area double,PredefinedType^MethodDeclaration_P...</td>\n",
       "    </tr>\n",
       "    <tr>\n",
       "      <th>8</th>\n",
       "      <td>area double,PredefinedType^MethodDeclaration_P...</td>\n",
       "    </tr>\n",
       "    <tr>\n",
       "      <th>9</th>\n",
       "      <td>print|names void,PredefinedType^MethodDeclarat...</td>\n",
       "    </tr>\n",
       "    <tr>\n",
       "      <th>10</th>\n",
       "      <td>print|names void,PredefinedType^MethodDeclarat...</td>\n",
       "    </tr>\n",
       "    <tr>\n",
       "      <th>11</th>\n",
       "      <td>print|names void,PredefinedType^MethodDeclarat...</td>\n",
       "    </tr>\n",
       "    <tr>\n",
       "      <th>12</th>\n",
       "      <td>sum int,PredefinedType^MethodDeclaration_Param...</td>\n",
       "    </tr>\n",
       "    <tr>\n",
       "      <th>13</th>\n",
       "      <td>sum double,PredefinedType^MethodDeclaration_Pa...</td>\n",
       "    </tr>\n",
       "    <tr>\n",
       "      <th>14</th>\n",
       "      <td>sum int,PredefinedType^MethodDeclaration_Param...</td>\n",
       "    </tr>\n",
       "    <tr>\n",
       "      <th>15</th>\n",
       "      <td>write|line|placeholders void,PredefinedType^Me...</td>\n",
       "    </tr>\n",
       "    <tr>\n",
       "      <th>16</th>\n",
       "      <td>perimeter int,PredefinedType^MethodDeclaration...</td>\n",
       "    </tr>\n",
       "    <tr>\n",
       "      <th>17</th>\n",
       "      <td>sum int,PredefinedType^MethodDeclaration_Param...</td>\n",
       "    </tr>\n",
       "    <tr>\n",
       "      <th>18</th>\n",
       "      <td>multi int,PredefinedType^MethodDeclaration_Par...</td>\n",
       "    </tr>\n",
       "    <tr>\n",
       "      <th>19</th>\n",
       "      <td>connect|to|db void,PredefinedType^MethodDeclar...</td>\n",
       "    </tr>\n",
       "    <tr>\n",
       "      <th>20</th>\n",
       "      <td>modify|array void,PredefinedType^MethodDeclara...</td>\n",
       "    </tr>\n",
       "    <tr>\n",
       "      <th>21</th>\n",
       "      <td>area|and|perimeter|of|rectangle void,Predefine...</td>\n",
       "    </tr>\n",
       "  </tbody>\n",
       "</table>\n",
       "</div>"
      ],
      "text/plain": [
       "                                                 ASTS\n",
       "0   print|index|and|values void,PredefinedType^Met...\n",
       "1   printing|names void,PredefinedType^MethodDecla...\n",
       "2   colorful|write|line void,PredefinedType^Method...\n",
       "3   printing|names void,PredefinedType^MethodDecla...\n",
       "4   sort|three|numbers int,PredefinedType^ArrayTyp...\n",
       "5   addition int,PredefinedType^MethodDeclaration_...\n",
       "6   area double,PredefinedType^MethodDeclaration_P...\n",
       "7   area double,PredefinedType^MethodDeclaration_P...\n",
       "8   area double,PredefinedType^MethodDeclaration_P...\n",
       "9   print|names void,PredefinedType^MethodDeclarat...\n",
       "10  print|names void,PredefinedType^MethodDeclarat...\n",
       "11  print|names void,PredefinedType^MethodDeclarat...\n",
       "12  sum int,PredefinedType^MethodDeclaration_Param...\n",
       "13  sum double,PredefinedType^MethodDeclaration_Pa...\n",
       "14  sum int,PredefinedType^MethodDeclaration_Param...\n",
       "15  write|line|placeholders void,PredefinedType^Me...\n",
       "16  perimeter int,PredefinedType^MethodDeclaration...\n",
       "17  sum int,PredefinedType^MethodDeclaration_Param...\n",
       "18  multi int,PredefinedType^MethodDeclaration_Par...\n",
       "19  connect|to|db void,PredefinedType^MethodDeclar...\n",
       "20  modify|array void,PredefinedType^MethodDeclara...\n",
       "21  area|and|perimeter|of|rectangle void,Predefine..."
      ]
     },
     "execution_count": 91,
     "metadata": {},
     "output_type": "execute_result"
    }
   ],
   "source": [
    "df = pd.read_csv('results.txt',sep=\"\\t\", header=None)\n",
    "df.columns=['ASTS']\n",
    "\n",
    "df"
   ]
  },
  {
   "cell_type": "code",
   "execution_count": 96,
   "id": "3c4a0c5e",
   "metadata": {},
   "outputs": [
    {
     "data": {
      "text/html": [
       "<div>\n",
       "<style scoped>\n",
       "    .dataframe tbody tr th:only-of-type {\n",
       "        vertical-align: middle;\n",
       "    }\n",
       "\n",
       "    .dataframe tbody tr th {\n",
       "        vertical-align: top;\n",
       "    }\n",
       "\n",
       "    .dataframe thead th {\n",
       "        text-align: right;\n",
       "    }\n",
       "</style>\n",
       "<table border=\"1\" class=\"dataframe\">\n",
       "  <thead>\n",
       "    <tr style=\"text-align: right;\">\n",
       "      <th></th>\n",
       "      <th>ASTS</th>\n",
       "      <th>MethodName</th>\n",
       "    </tr>\n",
       "  </thead>\n",
       "  <tbody>\n",
       "    <tr>\n",
       "      <th>0</th>\n",
       "      <td>print|index|and|values void,PredefinedType^Met...</td>\n",
       "      <td>print|index|and|values</td>\n",
       "    </tr>\n",
       "    <tr>\n",
       "      <th>1</th>\n",
       "      <td>printing|names void,PredefinedType^MethodDecla...</td>\n",
       "      <td>printing|names</td>\n",
       "    </tr>\n",
       "    <tr>\n",
       "      <th>2</th>\n",
       "      <td>colorful|write|line void,PredefinedType^Method...</td>\n",
       "      <td>colorful|write|line</td>\n",
       "    </tr>\n",
       "    <tr>\n",
       "      <th>3</th>\n",
       "      <td>printing|names void,PredefinedType^MethodDecla...</td>\n",
       "      <td>printing|names</td>\n",
       "    </tr>\n",
       "    <tr>\n",
       "      <th>4</th>\n",
       "      <td>sort|three|numbers int,PredefinedType^ArrayTyp...</td>\n",
       "      <td>sort|three|numbers</td>\n",
       "    </tr>\n",
       "    <tr>\n",
       "      <th>5</th>\n",
       "      <td>addition int,PredefinedType^MethodDeclaration_...</td>\n",
       "      <td>addition</td>\n",
       "    </tr>\n",
       "    <tr>\n",
       "      <th>6</th>\n",
       "      <td>area double,PredefinedType^MethodDeclaration_P...</td>\n",
       "      <td>area</td>\n",
       "    </tr>\n",
       "    <tr>\n",
       "      <th>7</th>\n",
       "      <td>area double,PredefinedType^MethodDeclaration_P...</td>\n",
       "      <td>area</td>\n",
       "    </tr>\n",
       "    <tr>\n",
       "      <th>8</th>\n",
       "      <td>area double,PredefinedType^MethodDeclaration_P...</td>\n",
       "      <td>area</td>\n",
       "    </tr>\n",
       "    <tr>\n",
       "      <th>9</th>\n",
       "      <td>print|names void,PredefinedType^MethodDeclarat...</td>\n",
       "      <td>print|names</td>\n",
       "    </tr>\n",
       "    <tr>\n",
       "      <th>10</th>\n",
       "      <td>print|names void,PredefinedType^MethodDeclarat...</td>\n",
       "      <td>print|names</td>\n",
       "    </tr>\n",
       "    <tr>\n",
       "      <th>11</th>\n",
       "      <td>print|names void,PredefinedType^MethodDeclarat...</td>\n",
       "      <td>print|names</td>\n",
       "    </tr>\n",
       "    <tr>\n",
       "      <th>12</th>\n",
       "      <td>sum int,PredefinedType^MethodDeclaration_Param...</td>\n",
       "      <td>sum</td>\n",
       "    </tr>\n",
       "    <tr>\n",
       "      <th>13</th>\n",
       "      <td>sum double,PredefinedType^MethodDeclaration_Pa...</td>\n",
       "      <td>sum</td>\n",
       "    </tr>\n",
       "    <tr>\n",
       "      <th>14</th>\n",
       "      <td>sum int,PredefinedType^MethodDeclaration_Param...</td>\n",
       "      <td>sum</td>\n",
       "    </tr>\n",
       "    <tr>\n",
       "      <th>15</th>\n",
       "      <td>write|line|placeholders void,PredefinedType^Me...</td>\n",
       "      <td>write|line|placeholders</td>\n",
       "    </tr>\n",
       "    <tr>\n",
       "      <th>16</th>\n",
       "      <td>perimeter int,PredefinedType^MethodDeclaration...</td>\n",
       "      <td>perimeter</td>\n",
       "    </tr>\n",
       "    <tr>\n",
       "      <th>17</th>\n",
       "      <td>sum int,PredefinedType^MethodDeclaration_Param...</td>\n",
       "      <td>sum</td>\n",
       "    </tr>\n",
       "    <tr>\n",
       "      <th>18</th>\n",
       "      <td>multi int,PredefinedType^MethodDeclaration_Par...</td>\n",
       "      <td>multi</td>\n",
       "    </tr>\n",
       "    <tr>\n",
       "      <th>19</th>\n",
       "      <td>connect|to|db void,PredefinedType^MethodDeclar...</td>\n",
       "      <td>connect|to|db</td>\n",
       "    </tr>\n",
       "    <tr>\n",
       "      <th>20</th>\n",
       "      <td>modify|array void,PredefinedType^MethodDeclara...</td>\n",
       "      <td>modify|array</td>\n",
       "    </tr>\n",
       "    <tr>\n",
       "      <th>21</th>\n",
       "      <td>area|and|perimeter|of|rectangle void,Predefine...</td>\n",
       "      <td>area|and|perimeter|of|rectangle</td>\n",
       "    </tr>\n",
       "  </tbody>\n",
       "</table>\n",
       "</div>"
      ],
      "text/plain": [
       "                                                 ASTS  \\\n",
       "0   print|index|and|values void,PredefinedType^Met...   \n",
       "1   printing|names void,PredefinedType^MethodDecla...   \n",
       "2   colorful|write|line void,PredefinedType^Method...   \n",
       "3   printing|names void,PredefinedType^MethodDecla...   \n",
       "4   sort|three|numbers int,PredefinedType^ArrayTyp...   \n",
       "5   addition int,PredefinedType^MethodDeclaration_...   \n",
       "6   area double,PredefinedType^MethodDeclaration_P...   \n",
       "7   area double,PredefinedType^MethodDeclaration_P...   \n",
       "8   area double,PredefinedType^MethodDeclaration_P...   \n",
       "9   print|names void,PredefinedType^MethodDeclarat...   \n",
       "10  print|names void,PredefinedType^MethodDeclarat...   \n",
       "11  print|names void,PredefinedType^MethodDeclarat...   \n",
       "12  sum int,PredefinedType^MethodDeclaration_Param...   \n",
       "13  sum double,PredefinedType^MethodDeclaration_Pa...   \n",
       "14  sum int,PredefinedType^MethodDeclaration_Param...   \n",
       "15  write|line|placeholders void,PredefinedType^Me...   \n",
       "16  perimeter int,PredefinedType^MethodDeclaration...   \n",
       "17  sum int,PredefinedType^MethodDeclaration_Param...   \n",
       "18  multi int,PredefinedType^MethodDeclaration_Par...   \n",
       "19  connect|to|db void,PredefinedType^MethodDeclar...   \n",
       "20  modify|array void,PredefinedType^MethodDeclara...   \n",
       "21  area|and|perimeter|of|rectangle void,Predefine...   \n",
       "\n",
       "                         MethodName  \n",
       "0            print|index|and|values  \n",
       "1                    printing|names  \n",
       "2               colorful|write|line  \n",
       "3                    printing|names  \n",
       "4                sort|three|numbers  \n",
       "5                          addition  \n",
       "6                              area  \n",
       "7                              area  \n",
       "8                              area  \n",
       "9                       print|names  \n",
       "10                      print|names  \n",
       "11                      print|names  \n",
       "12                              sum  \n",
       "13                              sum  \n",
       "14                              sum  \n",
       "15          write|line|placeholders  \n",
       "16                        perimeter  \n",
       "17                              sum  \n",
       "18                            multi  \n",
       "19                    connect|to|db  \n",
       "20                     modify|array  \n",
       "21  area|and|perimeter|of|rectangle  "
      ]
     },
     "execution_count": 96,
     "metadata": {},
     "output_type": "execute_result"
    }
   ],
   "source": [
    "tmp= df['ASTS'].str.split(' ').str[0]\n",
    "dt=tmp.to_frame()\n",
    "\n",
    "res=pd.concat([df, dt], axis=1)\n",
    "res.columns=['ASTS','MethodName']\n",
    "res"
   ]
  },
  {
   "cell_type": "code",
   "execution_count": 125,
   "id": "b49e4f63",
   "metadata": {
    "scrolled": false
   },
   "outputs": [],
   "source": [
    "training_data = res[res.columns[0]].to_numpy()\n",
    "training_data = np.reshape(training_data,(-1,1))\n",
    "#training_data[:2]"
   ]
  },
  {
   "cell_type": "code",
   "execution_count": 155,
   "id": "063bff2a",
   "metadata": {},
   "outputs": [
    {
     "name": "stdout",
     "output_type": "stream",
     "text": [
      "tf.Tensor(\n",
      "[[2019 1105 1101 ...    0    0    0]\n",
      " [ 622   25   25 ...    0    0    0]\n",
      " [3049   19  544 ...    0    0    0]\n",
      " ...\n",
      " [3048   19   19 ...    0    0    0]\n",
      " [2318 1098 1104 ...    0    0    0]\n",
      " [3297  162  162 ...    0    0    0]], shape=(22, 3239), dtype=int64)\n"
     ]
    }
   ],
   "source": [
    "vectorizer = layers.TextVectorization(output_mode=\"int\")\n",
    "vectorizer.adapt(training_data)\n",
    "integer_data = vectorizer(training_data)\n",
    "print(integer_data)"
   ]
  },
  {
   "cell_type": "code",
   "execution_count": 156,
   "id": "09cc62c7",
   "metadata": {},
   "outputs": [],
   "source": [
    "labels =res[res.columns[1]]\n",
    "y = np.argmax(pd.get_dummies(labels).to_numpy(), axis=1)\n",
    "X_train, X_test, y_train, y_test = train_test_split(training_data, y, test_size=0.20, random_state=42)\n",
    "#startify??"
   ]
  },
  {
   "cell_type": "code",
   "execution_count": 157,
   "id": "f4d75b3f",
   "metadata": {},
   "outputs": [
    {
     "name": "stdout",
     "output_type": "stream",
     "text": [
      "Model: \"model_7\"\n",
      "_________________________________________________________________\n",
      " Layer (type)                Output Shape              Param #   \n",
      "=================================================================\n",
      " text (InputLayer)           [(None, 1)]               0         \n",
      "                                                                 \n",
      " text_vectorization_8 (TextV  (None, None)             0         \n",
      " ectorization)                                                   \n",
      "                                                                 \n",
      " embedding_9 (Embedding)     (None, None, 30)          60030     \n",
      "                                                                 \n",
      " gru_5 (GRU)                 (None, 10)                1260      \n",
      "                                                                 \n",
      " dense_13 (Dense)            (None, 20)                220       \n",
      "                                                                 \n",
      " dropout_13 (Dropout)        (None, 20)                0         \n",
      "                                                                 \n",
      " predictions (Dense)         (None, 10)                210       \n",
      "                                                                 \n",
      "=================================================================\n",
      "Total params: 61,720\n",
      "Trainable params: 61,720\n",
      "Non-trainable params: 0\n",
      "_________________________________________________________________\n"
     ]
    }
   ],
   "source": [
    "max_features = 2000\n",
    "embedding_dim = 30\n",
    "\n",
    "inputs = tf.keras.Input(shape=(1,), dtype=tf.string, name='text')\n",
    "x = vectorizer(inputs)\n",
    "x = layers.Embedding(max_features + 1, embedding_dim)(x)\n",
    "\n",
    "#x = layers.LSTM(10, dropout=0.2, recurrent_dropout=0.2)(x)\n",
    "x = tf.keras.layers.GRU(10)(x)\n",
    "\n",
    "x = layers.Dense(20, activation=\"relu\")(x)\n",
    "x = layers.Dropout(0.3)(x)\n",
    "num_classes = 10\n",
    "outputs = layers.Dense(num_classes, activation=\"softmax\", name=\"predictions\")(x)\n",
    "\n",
    "model = tf.keras.Model(inputs, outputs)\n",
    "model.compile(\n",
    "    optimizer=\"adam\",\n",
    "    loss=\"sparse_categorical_crossentropy\",\n",
    "    metrics=[keras.metrics.SparseCategoricalAccuracy(name=\"acc\")]\n",
    ")\n",
    "\n",
    "model.summary()"
   ]
  },
  {
   "cell_type": "code",
   "execution_count": 158,
   "id": "737819c4",
   "metadata": {
    "scrolled": false
   },
   "outputs": [
    {
     "name": "stdout",
     "output_type": "stream",
     "text": [
      "Epoch 1/10\n",
      "1/1 [==============================] - 3s 3s/step - loss: nan - acc: 0.0769 - val_loss: nan - val_acc: 0.0000e+00\n",
      "Epoch 2/10\n",
      "1/1 [==============================] - 0s 206ms/step - loss: nan - acc: 0.0769 - val_loss: nan - val_acc: 0.0000e+00\n",
      "Epoch 3/10\n",
      "1/1 [==============================] - 0s 208ms/step - loss: nan - acc: 0.0769 - val_loss: nan - val_acc: 0.0000e+00\n",
      "Epoch 4/10\n",
      "1/1 [==============================] - 0s 208ms/step - loss: nan - acc: 0.0769 - val_loss: nan - val_acc: 0.0000e+00\n",
      "Epoch 5/10\n",
      "1/1 [==============================] - 0s 203ms/step - loss: nan - acc: 0.0769 - val_loss: nan - val_acc: 0.0000e+00\n",
      "Epoch 6/10\n",
      "1/1 [==============================] - 0s 206ms/step - loss: nan - acc: 0.0769 - val_loss: nan - val_acc: 0.0000e+00\n",
      "Epoch 7/10\n",
      "1/1 [==============================] - 0s 209ms/step - loss: nan - acc: 0.0769 - val_loss: nan - val_acc: 0.0000e+00\n",
      "Epoch 8/10\n",
      "1/1 [==============================] - 0s 223ms/step - loss: nan - acc: 0.0769 - val_loss: nan - val_acc: 0.0000e+00\n",
      "Epoch 9/10\n",
      "1/1 [==============================] - 0s 213ms/step - loss: nan - acc: 0.0769 - val_loss: nan - val_acc: 0.0000e+00\n",
      "Epoch 10/10\n",
      "1/1 [==============================] - 0s 208ms/step - loss: nan - acc: 0.0769 - val_loss: nan - val_acc: 0.0000e+00\n"
     ]
    }
   ],
   "source": [
    "logdir = os.path.join(\"logs\", datetime.datetime.now().strftime(\"%Y%m%d-%H%M%S\"))\n",
    "callbacks = [\n",
    "    keras.callbacks.TensorBoard(logdir)\n",
    "]\n",
    "history = model.fit(X_train, y_train, epochs=10, batch_size=32, validation_split=0.2, callbacks=callbacks)"
   ]
  },
  {
   "cell_type": "code",
   "execution_count": 152,
   "id": "e3367619",
   "metadata": {},
   "outputs": [
    {
     "name": "stdout",
     "output_type": "stream",
     "text": [
      "The tensorboard extension is already loaded. To reload it, use:\n",
      "  %reload_ext tensorboard\n"
     ]
    },
    {
     "data": {
      "text/plain": [
       "Reusing TensorBoard on port 6006 (pid 6148), started 9 days, 5:35:30 ago. (Use '!kill 6148' to kill it.)"
      ]
     },
     "metadata": {},
     "output_type": "display_data"
    },
    {
     "data": {
      "text/html": [
       "\n",
       "      <iframe id=\"tensorboard-frame-e8a429a7bbad91ad\" width=\"100%\" height=\"800\" frameborder=\"0\">\n",
       "      </iframe>\n",
       "      <script>\n",
       "        (function() {\n",
       "          const frame = document.getElementById(\"tensorboard-frame-e8a429a7bbad91ad\");\n",
       "          const url = new URL(\"/\", window.location);\n",
       "          const port = 6006;\n",
       "          if (port) {\n",
       "            url.port = port;\n",
       "          }\n",
       "          frame.src = url;\n",
       "        })();\n",
       "      </script>\n",
       "    "
      ],
      "text/plain": [
       "<IPython.core.display.HTML object>"
      ]
     },
     "metadata": {},
     "output_type": "display_data"
    }
   ],
   "source": [
    "%load_ext tensorboard\n",
    "%tensorboard --logdir logs"
   ]
  },
  {
   "cell_type": "code",
   "execution_count": 153,
   "id": "d1bc0203",
   "metadata": {},
   "outputs": [
    {
     "name": "stdout",
     "output_type": "stream",
     "text": [
      "1/1 [==============================] - 0s 55ms/step - loss: nan - acc: 0.0000e+00\n"
     ]
    },
    {
     "data": {
      "text/plain": [
       "[nan, 0.0]"
      ]
     },
     "execution_count": 153,
     "metadata": {},
     "output_type": "execute_result"
    }
   ],
   "source": [
    "model.evaluate(X_test,y_test)"
   ]
  },
  {
   "cell_type": "code",
   "execution_count": 154,
   "id": "e7925df5",
   "metadata": {},
   "outputs": [
    {
     "name": "stdout",
     "output_type": "stream",
     "text": [
      "1/1 [==============================] - 0s 380ms/step\n",
      "(5, 10)\n"
     ]
    }
   ],
   "source": [
    "predictions = model.predict(X_test)\n",
    "print(predictions.shape)"
   ]
  },
  {
   "cell_type": "code",
   "execution_count": 133,
   "id": "16ef5ba0",
   "metadata": {},
   "outputs": [
    {
     "data": {
      "image/png": "[encoded data removed]",
      "text/plain": [
       "<Figure size 432x288 with 1 Axes>"
      ]
     },
     "metadata": {
      "needs_background": "light"
     },
     "output_type": "display_data"
    }
   ],
   "source": [
    "plt.title('Loss (Recurrent)')\n",
    "plt.plot(history.history['loss'], label='train')\n",
    "plt.plot(history.history['val_loss'], label='test')\n",
    "plt.legend()\n",
    "plt.show()"
   ]
  },
  {
   "cell_type": "markdown",
   "id": "d4d98682",
   "metadata": {},
   "source": [
    "## 2. Transformers"
   ]
  },
  {
   "cell_type": "code",
   "execution_count": 144,
   "id": "65b8ef77",
   "metadata": {},
   "outputs": [],
   "source": [
    "class TransformerBlock(layers.Layer):\n",
    "    def __init__(self, embed_dim, num_heads, ff_dim, rate=0.1):\n",
    "        super(TransformerBlock, self).__init__()\n",
    "        self.att = layers.MultiHeadAttention(num_heads=num_heads, key_dim=embed_dim)\n",
    "        self.ffn = keras.Sequential(\n",
    "            [layers.Dense(ff_dim, activation=\"relu\"), layers.Dense(embed_dim),]\n",
    "        )\n",
    "        self.layernorm1 = layers.LayerNormalization(epsilon=1e-6)\n",
    "        self.layernorm2 = layers.LayerNormalization(epsilon=1e-6)\n",
    "        self.dropout1 = layers.Dropout(rate)\n",
    "        self.dropout2 = layers.Dropout(rate)\n",
    "\n",
    "    def call(self, inputs, training):\n",
    "        attn_output = self.att(inputs, inputs)\n",
    "        attn_output = self.dropout1(attn_output, training=training)\n",
    "        out1 = self.layernorm1(inputs + attn_output)\n",
    "        ffn_output = self.ffn(out1)\n",
    "        ffn_output = self.dropout2(ffn_output, training=training)\n",
    "        return self.layernorm2(out1 + ffn_output)\n",
    "    \n",
    "class TokenAndPositionEmbedding(layers.Layer):\n",
    "    def __init__(self, maxlen, vocab_size, embed_dim):\n",
    "        super(TokenAndPositionEmbedding, self).__init__()\n",
    "        self.token_emb = layers.Embedding(input_dim=vocab_size, output_dim=embed_dim)\n",
    "        self.pos_emb = layers.Embedding(input_dim=maxlen, output_dim=embed_dim)\n",
    "\n",
    "    def call(self, x):\n",
    "        maxlen = tf.shape(x)[-1]\n",
    "        positions = tf.range(start=0, limit=maxlen, delta=1)\n",
    "        positions = self.pos_emb(positions)\n",
    "        x = self.token_emb(x)\n",
    "        return x + positions"
   ]
  },
  {
   "cell_type": "code",
   "execution_count": 145,
   "id": "e3f09b6a",
   "metadata": {},
   "outputs": [
    {
     "name": "stdout",
     "output_type": "stream",
     "text": [
      "Model: \"model_5\"\n",
      "_________________________________________________________________\n",
      " Layer (type)                Output Shape              Param #   \n",
      "=================================================================\n",
      " input_2 (InputLayer)        [(None, 30)]              0         \n",
      "                                                                 \n",
      " token_and_position_embeddin  (None, 30, 32)           640960    \n",
      " g_1 (TokenAndPositionEmbedd                                     \n",
      " ing)                                                            \n",
      "                                                                 \n",
      " transformer_block_1 (Transf  (None, 30, 32)           10656     \n",
      " ormerBlock)                                                     \n",
      "                                                                 \n",
      " global_average_pooling1d_1   (None, 32)               0         \n",
      " (GlobalAveragePooling1D)                                        \n",
      "                                                                 \n",
      " dropout_10 (Dropout)        (None, 32)                0         \n",
      "                                                                 \n",
      " dense_10 (Dense)            (None, 20)                660       \n",
      "                                                                 \n",
      " dropout_11 (Dropout)        (None, 20)                0         \n",
      "                                                                 \n",
      " dense_11 (Dense)            (None, 10)                210       \n",
      "                                                                 \n",
      "=================================================================\n",
      "Total params: 652,486\n",
      "Trainable params: 652,486\n",
      "Non-trainable params: 0\n",
      "_________________________________________________________________\n"
     ]
    }
   ],
   "source": [
    "vocab_size = 20000  # Only consider the top 20k words\n",
    "maxlen = 30  # Only consider the first 200 words of each sentence\n",
    "\n",
    "embed_dim = 32  # Embedding size for each token\n",
    "num_heads = 2  # Number of attention heads\n",
    "ff_dim = 32  # Hidden layer size in feed forward network inside transformer\n",
    "\n",
    "inputs = layers.Input(shape=(maxlen,))\n",
    "embedding_layer = TokenAndPositionEmbedding(maxlen, vocab_size, embed_dim)\n",
    "x = embedding_layer(inputs)\n",
    "transformer_block = TransformerBlock(embed_dim, num_heads, ff_dim)\n",
    "x = transformer_block(x)\n",
    "x = layers.GlobalAveragePooling1D()(x)\n",
    "x = layers.Dropout(0.1)(x)\n",
    "x = layers.Dense(20, activation=\"relu\")(x)\n",
    "x = layers.Dropout(0.1)(x)\n",
    "outputs = layers.Dense(10, activation=\"softmax\")(x)\n",
    "\n",
    "model_tr = keras.Model(inputs=inputs, outputs=outputs)\n",
    "\n",
    "model_tr.compile(optimizer=\"adam\", loss=\"sparse_categorical_crossentropy\", metrics=[\"accuracy\"])\n",
    "model_tr.summary()"
   ]
  },
  {
   "cell_type": "code",
   "execution_count": 146,
   "id": "49d70ed9",
   "metadata": {},
   "outputs": [
    {
     "data": {
      "text/plain": [
       "<tf.Tensor: shape=(17, 30), dtype=int64, numpy=\n",
       "array([[3513,  143,  141,   41, 2401, 2487,  651,  651, 2396,  142,   40,\n",
       "         140, 2399, 2486,  650,  650, 2395, 2484,  649,  649, 2391, 2473,\n",
       "         646,  646, 2398,   96,   13,   13,  343,   97],\n",
       "       [2318, 1098, 1104, 1159,   31, 2457, 2456,   13, 2386, 2389, 2388,\n",
       "        2387,    4,    6,    5,    8,    9,    7,    0,    0,    0,    0,\n",
       "           0,    0,    0,    0,    0,    0,    0,    0],\n",
       "       [ 332,   19,   19,  163,  164,  311,  313,  545,  546,  552,  551,\n",
       "          25,   25,  550,   74,  554,   31,  168,  139,   37,   37,  167,\n",
       "         324,   75,   75,  315,  315,  316,  316,  319],\n",
       "       [ 622,   19,   19,  163,  164, 1097, 1164,   25,   74,   31,  168,\n",
       "         139,   37,   37, 1554, 1551,  568,  568,   14,   14,   21,   21,\n",
       "          20,   20, 2895, 2907, 2903, 2905,  145,  202],\n",
       "       [1690, 2571, 2463,  645,  645, 2504, 2627,  663,   87,   87,   87,\n",
       "         654,  672,  663,   87,   87,   87,  654,  672, 2620,  401,  401,\n",
       "         401, 2549, 2672, 2581,  362,  362,  362, 2510],\n",
       "       [ 166,  143,  141,   41,   41, 2480,  354,  354,  354,  142,   40,\n",
       "         140,   40, 2479,  353,  353,  353, 2467,  642,  642, 2460,  405,\n",
       "          76,   76,  346, 2474,  352,  352,  352,   96],\n",
       "       [ 166,  143,  141,   41, 2477,  648,  648,  142,   40,  140, 2475,\n",
       "         647,  647,   96,   13,   13,   97, 2880, 2864,  144,   98, 2882,\n",
       "          86, 1996,   22,   22,   23,    2,   23,    2],\n",
       "       [2317,  143,  141,   41,   41, 2470,  349,  349,  349,  142,   40,\n",
       "         140,   40, 2469,  348,  348,  348, 2466,  641,  641, 2459,  405,\n",
       "          76,   76,  346, 2471,  350,  350,  350,   96],\n",
       "       [2081, 2464, 2568, 2400, 2434, 2493, 2563, 2403, 2425, 2496, 2566,\n",
       "        2418, 2454, 2485, 2556,  192,  639, 2489, 2559,  632,  192, 2483,\n",
       "        2555, 2390, 2436, 2495, 2565, 2417, 2453, 2472],\n",
       "       [3049,   19,  544, 1167,  545,  546,  552,  551,   25,   25,  550,\n",
       "          74,  554,   31,  562, 1589,  315,  316,  319,  318,   14,   14,\n",
       "         317,   21,  320,   20, 1276, 1318, 1277, 1319],\n",
       "       [ 332,   19,   19,  163,  164,  311,  313,   25,   74,   31,  168,\n",
       "         139,   37,   37,  167,  324,   75,   75,   14,   14,   21,   21,\n",
       "          20,   20,  412,  415,  413,  414,  145,  202],\n",
       "       [3297,  162,  162,  162,  162, 1096, 1154, 1158, 1095, 1153, 1157,\n",
       "        1108, 1156, 1099, 1155,  553,  553,   31,  417,  101,  101,  101,\n",
       "         206,  206,  206,  206,  210,  210,  210,  210],\n",
       "       [ 482,  712,  417,  101, 2990,  709,  709,  711,  100,  416, 2989,\n",
       "         708,  708,  211,   24,   24,  329, 1934, 1889,  614,  330, 1936,\n",
       "         328, 1852,   42,   42,   43,    3,   43,    3],\n",
       "       [ 332,   19,   19,   19,  163,  164, 1102, 1165,  311,  313,   25,\n",
       "          74,   31,  168,  139,  139,   37,   37,   37,  565, 1591,  565,\n",
       "         322,  322,  322,  167,  167,  324,   75,   75],\n",
       "       [ 166,  143,  141,   41,   41,   41, 2482,  196,  196,  196,  196,\n",
       "         142,   40,  140,   40,   40, 2481,  195,  195,  195,  195,  405,\n",
       "          76,   76,  346,   76, 2478,  194,  194,  194],\n",
       "       [3048,   19,   19,   19, 1094, 1163, 1100, 1106, 1103, 1166,   25,\n",
       "          74,   31, 1550,  563,  563,  321,  321,  321,  564, 1552,  564,\n",
       "         567,  567, 1593,  566,  566, 1592,  323,  323],\n",
       "       [ 482, 2986, 2979,  713,  710,  713,  710,  211,   24, 1740,  608,\n",
       "         608,   42,   43,  607,  607,  605,  609,  605,  609,    4,    6,\n",
       "           5,    8,    9,    7,    0,    0,    0,    0]], dtype=int64)>"
      ]
     },
     "execution_count": 146,
     "metadata": {},
     "output_type": "execute_result"
    }
   ],
   "source": [
    "vectorizer_tr = layers.TextVectorization(output_mode=\"int\", output_sequence_length=maxlen)\n",
    "vectorizer_tr.adapt(training_data)\n",
    "X_train_tr = vectorizer_tr(X_train)\n",
    "X_test_tr = vectorizer_tr(X_test)\n",
    "X_train_tr"
   ]
  },
  {
   "cell_type": "code",
   "execution_count": 147,
   "id": "5da1a696",
   "metadata": {},
   "outputs": [
    {
     "ename": "NameError",
     "evalue": "name 'y_train_tr' is not defined",
     "output_type": "error",
     "traceback": [
      "\u001b[1;31m---------------------------------------------------------------------------\u001b[0m",
      "\u001b[1;31mNameError\u001b[0m                                 Traceback (most recent call last)",
      "\u001b[1;32m~\\AppData\\Local\\Temp/ipykernel_8904/147914635.py\u001b[0m in \u001b[0;36m<module>\u001b[1;34m\u001b[0m\n\u001b[1;32m----> 1\u001b[1;33m \u001b[0mhistory_tr\u001b[0m \u001b[1;33m=\u001b[0m \u001b[0mmodel_tr\u001b[0m\u001b[1;33m.\u001b[0m\u001b[0mfit\u001b[0m\u001b[1;33m(\u001b[0m\u001b[0mX_train_tr\u001b[0m\u001b[1;33m,\u001b[0m \u001b[0my_train_tr\u001b[0m\u001b[1;33m,\u001b[0m \u001b[0mepochs\u001b[0m\u001b[1;33m=\u001b[0m\u001b[1;36m10\u001b[0m\u001b[1;33m,\u001b[0m \u001b[0mbatch_size\u001b[0m\u001b[1;33m=\u001b[0m\u001b[1;36m32\u001b[0m\u001b[1;33m,\u001b[0m \u001b[0mvalidation_split\u001b[0m\u001b[1;33m=\u001b[0m\u001b[1;36m0.2\u001b[0m\u001b[1;33m)\u001b[0m\u001b[1;33m\u001b[0m\u001b[1;33m\u001b[0m\u001b[0m\n\u001b[0m",
      "\u001b[1;31mNameError\u001b[0m: name 'y_train_tr' is not defined"
     ]
    }
   ],
   "source": [
    "history_tr = model_tr.fit(X_train_tr, y_train_tr, epochs=10, batch_size=32, validation_split=0.2)"
   ]
  },
  {
   "cell_type": "code",
   "execution_count": 148,
   "id": "02a61ba1",
   "metadata": {},
   "outputs": [
    {
     "ename": "NameError",
     "evalue": "name 'y_test_tr' is not defined",
     "output_type": "error",
     "traceback": [
      "\u001b[1;31m---------------------------------------------------------------------------\u001b[0m",
      "\u001b[1;31mNameError\u001b[0m                                 Traceback (most recent call last)",
      "\u001b[1;32m~\\AppData\\Local\\Temp/ipykernel_8904/1085527113.py\u001b[0m in \u001b[0;36m<module>\u001b[1;34m\u001b[0m\n\u001b[1;32m----> 1\u001b[1;33m \u001b[0mmodel_tr\u001b[0m\u001b[1;33m.\u001b[0m\u001b[0mevaluate\u001b[0m\u001b[1;33m(\u001b[0m\u001b[0mX_test_tr\u001b[0m\u001b[1;33m,\u001b[0m \u001b[0my_test_tr\u001b[0m\u001b[1;33m)\u001b[0m\u001b[1;33m\u001b[0m\u001b[1;33m\u001b[0m\u001b[0m\n\u001b[0m",
      "\u001b[1;31mNameError\u001b[0m: name 'y_test_tr' is not defined"
     ]
    }
   ],
   "source": [
    "model_tr.evaluate(X_test_tr, y_test_tr)"
   ]
  },
  {
   "cell_type": "code",
   "execution_count": 131,
   "id": "1e62b338",
   "metadata": {},
   "outputs": [
    {
     "name": "stdout",
     "output_type": "stream",
     "text": [
      "(27, 10)\n"
     ]
    }
   ],
   "source": [
    "predictions_tr = model_tr.predict(X_test_tr)\n",
    "print(predictions_tr.shape)"
   ]
  },
  {
   "cell_type": "code",
   "execution_count": 133,
   "id": "4e8e09f6",
   "metadata": {},
   "outputs": [
    {
     "data": {
      "image/png": "[encoded data removed]",
      "text/plain": [
       "<Figure size 432x288 with 1 Axes>"
      ]
     },
     "metadata": {
      "needs_background": "light"
     },
     "output_type": "display_data"
    }
   ],
   "source": [
    "plt.title('Loss (Transformers)')\n",
    "plt.plot(history_tr.history['loss'], label='train')\n",
    "plt.plot(history_tr.history['val_loss'], label='test')\n",
    "plt.legend()\n",
    "plt.show()"
   ]
  }
 ],
 "metadata": {
  "kernelspec": {
   "display_name": "Python 3 (ipykernel)",
   "language": "python",
   "name": "python3"
  },
  "language_info": {
   "codemirror_mode": {
    "name": "ipython",
    "version": 3
   },
   "file_extension": ".py",
   "mimetype": "text/x-python",
   "name": "python",
   "nbconvert_exporter": "python",
   "pygments_lexer": "ipython3",
   "version": "3.9.7"
  }
 },
 "nbformat": 4,
 "nbformat_minor": 5
}
