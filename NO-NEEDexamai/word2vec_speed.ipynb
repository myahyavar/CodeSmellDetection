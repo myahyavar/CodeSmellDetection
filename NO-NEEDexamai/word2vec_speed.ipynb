{
 "cells": [
  {
   "cell_type": "markdown",
   "id": "937e87df",
   "metadata": {},
   "source": [
    "# Word2vec models speed comparison"
   ]
  },
  {
   "cell_type": "markdown",
   "id": "a7e4db90",
   "metadata": {},
   "source": [
    "Small Turkish model (86MB): https://www.kaggle.com/murats/word2vec-application-on-turkish-newspaper/notebook <br>\n",
    "Big Turkish model (633MB): https://github.com/akoksal/Turkish-Word2Vec <br>\n",
    "English model (362MB): https://github.com/eyaler/word2vec-slim"
   ]
  },
  {
   "cell_type": "code",
   "execution_count": 2,
   "id": "67c90772",
   "metadata": {},
   "outputs": [],
   "source": [
    "import time\n",
    "from gensim.models import Word2Vec, KeyedVectors"
   ]
  },
  {
   "cell_type": "markdown",
   "id": "16b64107",
   "metadata": {},
   "source": [
    "## Small Turkish model"
   ]
  },
  {
   "cell_type": "code",
   "execution_count": 4,
   "id": "3dfc32ef",
   "metadata": {},
   "outputs": [
    {
     "name": "stdout",
     "output_type": "stream",
     "text": [
      "100\n",
      "Small Turkish model: 1.8399944305419922 seconds\n"
     ]
    }
   ],
   "source": [
    "start_time = time.time()\n",
    "model_small = Word2Vec.load(\"word2vec_small\")\n",
    "test1 = model_small.wv[\"internet\"]\n",
    "print(\"Small Turkish model: %s seconds\" % (time.time() - start_time))"
   ]
  },
  {
   "cell_type": "markdown",
   "id": "c9fdb37c",
   "metadata": {},
   "source": [
    "## Big Turkish model"
   ]
  },
  {
   "cell_type": "code",
   "execution_count": 3,
   "id": "d75d78c0",
   "metadata": {
    "scrolled": false
   },
   "outputs": [
    {
     "name": "stdout",
     "output_type": "stream",
     "text": [
      "Big Turkish model: 3.560025215148926 seconds\n"
     ]
    }
   ],
   "source": [
    "start_time = time.time()\n",
    "model_big = Word2Vec().wv.load_word2vec_format(\"word2vec_big\", binary=True)\n",
    "test2 = model_big[\"internet\"]\n",
    "print(\"Big Turkish model: %s seconds\" % (time.time() - start_time))"
   ]
  },
  {
   "cell_type": "markdown",
   "id": "6daf86b6",
   "metadata": {},
   "source": [
    "## English model"
   ]
  },
  {
   "cell_type": "code",
   "execution_count": 4,
   "id": "a537ab48",
   "metadata": {
    "scrolled": false
   },
   "outputs": [
    {
     "name": "stdout",
     "output_type": "stream",
     "text": [
      "English model: 2.4627420902252197 seconds\n"
     ]
    }
   ],
   "source": [
    "start_time = time.time()\n",
    "model_big = KeyedVectors.load_word2vec_format(\"GoogleNews-vectors-negative300-SLIM.bin\", binary=True)\n",
    "test2 = model_big[\"internet\"]\n",
    "print(\"English model: %s seconds\" % (time.time() - start_time))"
   ]
  }
 ],
 "metadata": {
  "kernelspec": {
   "display_name": "Python 3 (ipykernel)",
   "language": "python",
   "name": "python3"
  },
  "language_info": {
   "codemirror_mode": {
    "name": "ipython",
    "version": 3
   },
   "file_extension": ".py",
   "mimetype": "text/x-python",
   "name": "python",
   "nbconvert_exporter": "python",
   "pygments_lexer": "ipython3",
   "version": "3.9.7"
  }
 },
 "nbformat": 4,
 "nbformat_minor": 5
}
