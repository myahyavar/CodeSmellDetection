{
 "cells": [
  {
   "cell_type": "markdown",
   "id": "7a1bec22",
   "metadata": {},
   "source": [
    "# GCSE_CS_questions"
   ]
  },
  {
   "cell_type": "markdown",
   "id": "d8ed2be8",
   "metadata": {},
   "source": [
    "<b>Dataset:</b> https://www.kaggle.com/datasets/nicolasschleicher/gcse-cs-questions<br>\n",
    "<b>Classifier code:</b> https://www.kaggle.com/code/nicolasschleicher/gcse-question-classifier"
   ]
  },
  {
   "cell_type": "markdown",
   "id": "d02843c5",
   "metadata": {},
   "source": [
    "A simple classification problem.<br>\n",
    "GCSE (English National Exam) Computer Science.<br><br>\n",
    "160 questions that students asked about the subject.<br>\n",
    "\n",
    "Column 1: Question<br>\n",
    "The question asked<br>\n",
    "Column 2: Label<br>\n",
    "Each label corresponds to a section in the GCSE Computer Science Specification here file which outlines what is on the GCSE course"
   ]
  },
  {
   "cell_type": "code",
   "execution_count": 87,
   "id": "ec8eba70",
   "metadata": {},
   "outputs": [
    {
     "data": {
      "text/html": [
       "<div>\n",
       "<style scoped>\n",
       "    .dataframe tbody tr th:only-of-type {\n",
       "        vertical-align: middle;\n",
       "    }\n",
       "\n",
       "    .dataframe tbody tr th {\n",
       "        vertical-align: top;\n",
       "    }\n",
       "\n",
       "    .dataframe thead th {\n",
       "        text-align: right;\n",
       "    }\n",
       "</style>\n",
       "<table border=\"1\" class=\"dataframe\">\n",
       "  <thead>\n",
       "    <tr style=\"text-align: right;\">\n",
       "      <th></th>\n",
       "      <th>What do you want to know about GCSE Computer Science?</th>\n",
       "      <th>Section</th>\n",
       "    </tr>\n",
       "  </thead>\n",
       "  <tbody>\n",
       "    <tr>\n",
       "      <th>0</th>\n",
       "      <td>a lot of coding knowing components and etc</td>\n",
       "      <td>2c</td>\n",
       "    </tr>\n",
       "    <tr>\n",
       "      <th>1</th>\n",
       "      <td>Advanced Coding</td>\n",
       "      <td>2c</td>\n",
       "    </tr>\n",
       "    <tr>\n",
       "      <th>2</th>\n",
       "      <td>Average scores of people in this school who pr...</td>\n",
       "      <td>Nan</td>\n",
       "    </tr>\n",
       "    <tr>\n",
       "      <th>3</th>\n",
       "      <td>do i have to do it?</td>\n",
       "      <td>Nan</td>\n",
       "    </tr>\n",
       "    <tr>\n",
       "      <th>4</th>\n",
       "      <td>do we do photoshop cause?</td>\n",
       "      <td>Nan</td>\n",
       "    </tr>\n",
       "    <tr>\n",
       "      <th>...</th>\n",
       "      <td>...</td>\n",
       "      <td>...</td>\n",
       "    </tr>\n",
       "    <tr>\n",
       "      <th>157</th>\n",
       "      <td>Do we learn about databases?</td>\n",
       "      <td>2a</td>\n",
       "    </tr>\n",
       "    <tr>\n",
       "      <th>158</th>\n",
       "      <td>What teacher will I get?</td>\n",
       "      <td>Nan</td>\n",
       "    </tr>\n",
       "    <tr>\n",
       "      <th>159</th>\n",
       "      <td>Do I get cookies?</td>\n",
       "      <td>Nan</td>\n",
       "    </tr>\n",
       "    <tr>\n",
       "      <th>160</th>\n",
       "      <td>Computers are boring</td>\n",
       "      <td>Nan</td>\n",
       "    </tr>\n",
       "    <tr>\n",
       "      <th>161</th>\n",
       "      <td>I will be taking technology instead</td>\n",
       "      <td>Nan</td>\n",
       "    </tr>\n",
       "  </tbody>\n",
       "</table>\n",
       "<p>162 rows × 2 columns</p>\n",
       "</div>"
      ],
      "text/plain": [
       "    What do you want to know about GCSE Computer Science? Section\n",
       "0           a lot of coding knowing components and etc         2c\n",
       "1                                      Advanced Coding         2c\n",
       "2    Average scores of people in this school who pr...        Nan\n",
       "3                                  do i have to do it?        Nan\n",
       "4                            do we do photoshop cause?        Nan\n",
       "..                                                 ...        ...\n",
       "157                       Do we learn about databases?         2a\n",
       "158                           What teacher will I get?        Nan\n",
       "159                                  Do I get cookies?        Nan\n",
       "160                               Computers are boring        Nan\n",
       "161                I will be taking technology instead        Nan\n",
       "\n",
       "[162 rows x 2 columns]"
      ]
     },
     "execution_count": 87,
     "metadata": {},
     "output_type": "execute_result"
    }
   ],
   "source": [
    "import pandas as pd\n",
    "df = pd.DataFrame(pd.read_csv('questions.csv'))\n",
    "df"
   ]
  },
  {
   "cell_type": "code",
   "execution_count": 88,
   "id": "180959de",
   "metadata": {},
   "outputs": [
    {
     "data": {
      "text/plain": [
       "array(['2c', 'Nan', '2d', '2e', '2a', '3a', '5a', '1b', '7', nan, '5b',\n",
       "       '1a'], dtype=object)"
      ]
     },
     "execution_count": 88,
     "metadata": {},
     "output_type": "execute_result"
    }
   ],
   "source": [
    "# We need to remove 'Nan' and nan.\n",
    "df.Section.unique()"
   ]
  },
  {
   "cell_type": "code",
   "execution_count": 89,
   "id": "ec10f93c",
   "metadata": {},
   "outputs": [
    {
     "data": {
      "text/plain": [
       "array(['2c', '2d', '2e', '2a', '3a', '5a', '1b', '7', '5b', '1a'],\n",
       "      dtype=object)"
      ]
     },
     "execution_count": 89,
     "metadata": {},
     "output_type": "execute_result"
    }
   ],
   "source": [
    "df = df.dropna() # Remove nan\n",
    "df = df[df.Section != 'Nan'] # Remove 'Nan'\n",
    "df.Section.unique()"
   ]
  },
  {
   "cell_type": "code",
   "execution_count": 90,
   "id": "0c44e722",
   "metadata": {
    "scrolled": false
   },
   "outputs": [
    {
     "data": {
      "text/html": [
       "<div>\n",
       "<style scoped>\n",
       "    .dataframe tbody tr th:only-of-type {\n",
       "        vertical-align: middle;\n",
       "    }\n",
       "\n",
       "    .dataframe tbody tr th {\n",
       "        vertical-align: top;\n",
       "    }\n",
       "\n",
       "    .dataframe thead th {\n",
       "        text-align: right;\n",
       "    }\n",
       "</style>\n",
       "<table border=\"1\" class=\"dataframe\">\n",
       "  <thead>\n",
       "    <tr style=\"text-align: right;\">\n",
       "      <th></th>\n",
       "      <th>What do you want to know about GCSE Computer Science?</th>\n",
       "      <th>Section</th>\n",
       "    </tr>\n",
       "  </thead>\n",
       "  <tbody>\n",
       "    <tr>\n",
       "      <th>0</th>\n",
       "      <td>a lot of coding knowing components and etc</td>\n",
       "      <td>2c</td>\n",
       "    </tr>\n",
       "    <tr>\n",
       "      <th>1</th>\n",
       "      <td>Advanced Coding</td>\n",
       "      <td>2c</td>\n",
       "    </tr>\n",
       "    <tr>\n",
       "      <th>2</th>\n",
       "      <td>Do we do use python or repl.it for coding</td>\n",
       "      <td>2d</td>\n",
       "    </tr>\n",
       "    <tr>\n",
       "      <th>3</th>\n",
       "      <td>Do we get to programme bots and stuff like tha...</td>\n",
       "      <td>2d</td>\n",
       "    </tr>\n",
       "    <tr>\n",
       "      <th>4</th>\n",
       "      <td>do we go through the things we did in year 7 a...</td>\n",
       "      <td>2e</td>\n",
       "    </tr>\n",
       "    <tr>\n",
       "      <th>...</th>\n",
       "      <td>...</td>\n",
       "      <td>...</td>\n",
       "    </tr>\n",
       "    <tr>\n",
       "      <th>126</th>\n",
       "      <td>Will the course involve programmings. if yes, ...</td>\n",
       "      <td>2c</td>\n",
       "    </tr>\n",
       "    <tr>\n",
       "      <th>127</th>\n",
       "      <td>Will we be able to create our own apps?</td>\n",
       "      <td>2d</td>\n",
       "    </tr>\n",
       "    <tr>\n",
       "      <th>128</th>\n",
       "      <td>Will we learn about how people steal passwords...</td>\n",
       "      <td>2a</td>\n",
       "    </tr>\n",
       "    <tr>\n",
       "      <th>129</th>\n",
       "      <td>Would there be things in Computer science and ...</td>\n",
       "      <td>5b</td>\n",
       "    </tr>\n",
       "    <tr>\n",
       "      <th>130</th>\n",
       "      <td>Do we learn about databases?</td>\n",
       "      <td>2a</td>\n",
       "    </tr>\n",
       "  </tbody>\n",
       "</table>\n",
       "<p>131 rows × 2 columns</p>\n",
       "</div>"
      ],
      "text/plain": [
       "    What do you want to know about GCSE Computer Science? Section\n",
       "0           a lot of coding knowing components and etc         2c\n",
       "1                                      Advanced Coding         2c\n",
       "2            Do we do use python or repl.it for coding         2d\n",
       "3    Do we get to programme bots and stuff like tha...         2d\n",
       "4    do we go through the things we did in year 7 a...         2e\n",
       "..                                                 ...        ...\n",
       "126  Will the course involve programmings. if yes, ...         2c\n",
       "127            Will we be able to create our own apps?         2d\n",
       "128  Will we learn about how people steal passwords...         2a\n",
       "129  Would there be things in Computer science and ...         5b\n",
       "130                       Do we learn about databases?         2a\n",
       "\n",
       "[131 rows x 2 columns]"
      ]
     },
     "execution_count": 90,
     "metadata": {},
     "output_type": "execute_result"
    }
   ],
   "source": [
    "df = df.reset_index(drop=True)\n",
    "df"
   ]
  },
  {
   "cell_type": "code",
   "execution_count": 91,
   "id": "642a34f2",
   "metadata": {
    "scrolled": false
   },
   "outputs": [],
   "source": [
    "# Cleanse the text.\n",
    "question_col = df.columns[0]\n",
    "df[question_col] = df[question_col].apply(lambda x: x.strip('\\\"').rstrip('\\n'))"
   ]
  },
  {
   "cell_type": "code",
   "execution_count": 92,
   "id": "38ca831b",
   "metadata": {},
   "outputs": [],
   "source": [
    "df.to_csv('questions_processed.csv', index=False)"
   ]
  }
 ],
 "metadata": {
  "kernelspec": {
   "display_name": "Python 3 (ipykernel)",
   "language": "python",
   "name": "python3"
  },
  "language_info": {
   "codemirror_mode": {
    "name": "ipython",
    "version": 3
   },
   "file_extension": ".py",
   "mimetype": "text/x-python",
   "name": "python",
   "nbconvert_exporter": "python",
   "pygments_lexer": "ipython3",
   "version": "3.9.7"
  }
 },
 "nbformat": 4,
 "nbformat_minor": 5
}
