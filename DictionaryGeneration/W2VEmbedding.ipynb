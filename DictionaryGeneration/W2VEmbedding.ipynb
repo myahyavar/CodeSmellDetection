{
 "cells": [
  {
   "cell_type": "code",
   "execution_count": 2,
   "id": "e8b03695",
   "metadata": {},
   "outputs": [
    {
     "name": "stdout",
     "output_type": "stream",
     "text": [
      "[['ElseClause'], ['SetAccessorDeclaration'], ['SingleVariableDesignation'], ['DeclarationPattern'], ['LogicalAndExpression']]\n"
     ]
    }
   ],
   "source": [
    "import json\n",
    "\n",
    "# Load the token_ids.txt file as a JSON dictionary\n",
    "with open('token_ids.txt') as f:\n",
    "    token_dict = json.load(f)\n",
    "\n",
    "# Create a reverse mapping of the token IDs to word labels\n",
    "id_to_word = {v: k for k, v in token_dict.items()}\n",
    "\n",
    "# Create a list of sentences, where each sentence contains a single word\n",
    "sentences = [[id_to_word[i]] for i in range(len(id_to_word))]\n",
    "\n",
    "# Print the first few sentences as an example\n",
    "print(sentences[:5])\n",
    "\n"
   ]
  },
  {
   "cell_type": "code",
   "execution_count": 3,
   "id": "32ac4420",
   "metadata": {},
   "outputs": [],
   "source": [
    "from gensim.models import Word2Vec\n",
    "\n",
    "# Dimensionality of the word vectors\n",
    "vector_size = 10\n",
    "# Minimum count of a word to be included in the vocabulary\n",
    "min_count = 1\n",
    "# Number of iterations to train the model\n",
    "num_iterations = 10\n",
    "\n",
    "# Train the Word2Vec model \n",
    "model = Word2Vec(sentences, vector_size=vector_size, min_count=min_count, epochs=num_iterations)\n",
    "\n",
    "# Save the trained Word2Vec model\n",
    "model.save('word2vec.model')"
   ]
  },
  {
   "cell_type": "code",
   "execution_count": 4,
   "id": "1d907b34",
   "metadata": {},
   "outputs": [
    {
     "name": "stdout",
     "output_type": "stream",
     "text": [
      "[-0.04509399  0.05701704  0.09180014 -0.04099872  0.0796468   0.05375433\n",
      "  0.05879123  0.0051259   0.08213083 -0.07019041]\n"
     ]
    }
   ],
   "source": [
    "vector = model.wv['DeclarationPattern']\n",
    "print(vector)\n"
   ]
  },
  {
   "cell_type": "code",
   "execution_count": null,
   "id": "c57fcdf7",
   "metadata": {},
   "outputs": [],
   "source": []
  }
 ],
 "metadata": {
  "kernelspec": {
   "display_name": "Python 3 (ipykernel)",
   "language": "python",
   "name": "python3"
  },
  "language_info": {
   "codemirror_mode": {
    "name": "ipython",
    "version": 3
   },
   "file_extension": ".py",
   "mimetype": "text/x-python",
   "name": "python",
   "nbconvert_exporter": "python",
   "pygments_lexer": "ipython3",
   "version": "3.9.7"
  }
 },
 "nbformat": 4,
 "nbformat_minor": 5
}
