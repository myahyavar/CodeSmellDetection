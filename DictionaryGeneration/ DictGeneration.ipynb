{
 "cells": [
  {
   "cell_type": "code",
   "execution_count": 14,
   "id": "19b55303",
   "metadata": {},
   "outputs": [],
   "source": [
    "from tokenizers import BertWordPieceTokenizer\n",
    "\n",
    "# Initialize an empty BERT tokenizer\n",
    "tokenizer = BertWordPieceTokenizer(\n",
    "  clean_text=True,\n",
    "  handle_chinese_chars=False,\n",
    "  strip_accents=False,\n",
    "  lowercase=False,\n",
    ")\n",
    "\n",
    "# prepare text files to train vocab on them\n",
    "files = ['AST.train.txt']\n",
    "\n",
    "# train BERT tokenizer\n",
    "tokenizer.train(\n",
    "  files,\n",
    "  vocab_size=100000000,\n",
    "  min_frequency=2,\n",
    "  show_progress=True,\n",
    "  special_tokens=['[PAD]', '[UNK]', '[CLS]', '[SEP]', '[MASK]'],\n",
    "  limit_alphabet=1000,\n",
    "  wordpieces_prefix=\"##\"\n",
    ")\n",
    "\n",
    "# save the vocab\n",
    "tokenizer.save('Dict.txt',False)"
   ]
  },
  {
   "cell_type": "code",
   "execution_count": 29,
   "id": "a9772c0e",
   "metadata": {},
   "outputs": [],
   "source": [
    "import collections\n",
    "import re\n",
    "\n",
    "# Open the text file for reading\n",
    "with open(\"AST.train.txt\", \"r\") as f:\n",
    "    text = f.read()\n",
    "\n",
    "# Tokenize the text, ignoring numbers\n",
    "tokens = re.findall(r'\\b(?![0-9]+\\b)\\w+\\b', text)\n",
    "\n",
    "# Count the frequency of each token\n",
    "freqs = collections.Counter(tokens)\n",
    "\n",
    "# Open the output file for writing\n",
    "with open(\"Word_freq_Dict.txt\", \"w\") as f:\n",
    "    # Write the word frequency dictionary to the file in the desired syntax\n",
    "    for i, (word, freq) in enumerate(freqs.items()):\n",
    "        f.write(f'\"{word}\":{freq}')\n",
    "        if i < len(freqs) - 1:\n",
    "            f.write(\",\\n\")\n"
   ]
  },
  {
   "cell_type": "code",
   "execution_count": null,
   "id": "4a8dafd8",
   "metadata": {},
   "outputs": [],
   "source": []
  }
 ],
 "metadata": {
  "kernelspec": {
   "display_name": "Python 3 (ipykernel)",
   "language": "python",
   "name": "python3"
  },
  "language_info": {
   "codemirror_mode": {
    "name": "ipython",
    "version": 3
   },
   "file_extension": ".py",
   "mimetype": "text/x-python",
   "name": "python",
   "nbconvert_exporter": "python",
   "pygments_lexer": "ipython3",
   "version": "3.9.7"
  }
 },
 "nbformat": 4,
 "nbformat_minor": 5
}
